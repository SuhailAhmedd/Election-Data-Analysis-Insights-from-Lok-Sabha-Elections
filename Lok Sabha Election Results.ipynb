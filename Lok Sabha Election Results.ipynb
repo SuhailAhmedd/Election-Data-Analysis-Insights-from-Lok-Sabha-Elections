{
 "cells": [
  {
   "cell_type": "code",
   "execution_count": 1,
   "id": "f03488c1",
   "metadata": {},
   "outputs": [],
   "source": [
    "from bs4 import BeautifulSoup\n",
    "import pandas as pd\n",
    "import requests\n",
    "import matplotlib.pyplot as plt\n",
    "import seaborn as sns\n",
    "import plotly.express as px\n",
    "import plotly.offline as py\n"
   ]
  },
  {
   "cell_type": "code",
   "execution_count": 2,
   "id": "6cc24d88",
   "metadata": {},
   "outputs": [],
   "source": [
    "base_url ='https://results.eci.gov.in/PcResultGenJune2024/index.htm'\n",
    "url = \"https://results.eci.gov.in/PcResultGenJune2024/\""
   ]
  },
  {
   "cell_type": "code",
   "execution_count": 3,
   "id": "b4756d82",
   "metadata": {},
   "outputs": [],
   "source": [
    "response = requests.get(base_url)"
   ]
  },
  {
   "cell_type": "code",
   "execution_count": 4,
   "id": "7913f15d",
   "metadata": {},
   "outputs": [],
   "source": [
    "soup = BeautifulSoup(response.content, 'html.parser')"
   ]
  },
  {
   "cell_type": "code",
   "execution_count": 5,
   "id": "f70637bd",
   "metadata": {},
   "outputs": [],
   "source": [
    "table1 = soup.find('table', class_ = 'table')"
   ]
  },
  {
   "cell_type": "code",
   "execution_count": 6,
   "id": "1dca7ef4",
   "metadata": {},
   "outputs": [
    {
     "name": "stdout",
     "output_type": "stream",
     "text": [
      "Found: https://results.eci.gov.in/PcResultGenJune2024/statewiseU011.htm\n",
      "Not found: https://results.eci.gov.in/PcResultGenJune2024/index.htmstatewiseS011.htm\n",
      "Not found: https://results.eci.gov.in/PcResultGenJune2024/index.htmstatewiseS012.htm\n",
      "Not found: https://results.eci.gov.in/PcResultGenJune2024/index.htmstatewiseS013.htm\n",
      "Not found: https://results.eci.gov.in/PcResultGenJune2024/index.htmstatewiseS014.htm\n",
      "Not found: https://results.eci.gov.in/PcResultGenJune2024/index.htmstatewiseS015.htm\n",
      "Found: https://results.eci.gov.in/PcResultGenJune2024/statewiseU021.htm\n",
      "Not found: https://results.eci.gov.in/PcResultGenJune2024/index.htmstatewiseS021.htm\n",
      "Not found: https://results.eci.gov.in/PcResultGenJune2024/index.htmstatewiseS022.htm\n",
      "Not found: https://results.eci.gov.in/PcResultGenJune2024/index.htmstatewiseS023.htm\n",
      "Not found: https://results.eci.gov.in/PcResultGenJune2024/index.htmstatewiseS024.htm\n",
      "Not found: https://results.eci.gov.in/PcResultGenJune2024/index.htmstatewiseS025.htm\n",
      "Found: https://results.eci.gov.in/PcResultGenJune2024/statewiseU031.htm\n",
      "Not found: https://results.eci.gov.in/PcResultGenJune2024/index.htmstatewiseS031.htm\n",
      "Not found: https://results.eci.gov.in/PcResultGenJune2024/index.htmstatewiseS032.htm\n",
      "Not found: https://results.eci.gov.in/PcResultGenJune2024/index.htmstatewiseS033.htm\n",
      "Not found: https://results.eci.gov.in/PcResultGenJune2024/index.htmstatewiseS034.htm\n",
      "Not found: https://results.eci.gov.in/PcResultGenJune2024/index.htmstatewiseS035.htm\n",
      "Not found: https://results.eci.gov.in/PcResultGenJune2024/index.htmstatewiseS041.htm\n",
      "Not found: https://results.eci.gov.in/PcResultGenJune2024/index.htmstatewiseS042.htm\n",
      "Not found: https://results.eci.gov.in/PcResultGenJune2024/index.htmstatewiseS043.htm\n",
      "Not found: https://results.eci.gov.in/PcResultGenJune2024/index.htmstatewiseS044.htm\n",
      "Not found: https://results.eci.gov.in/PcResultGenJune2024/index.htmstatewiseS045.htm\n",
      "Found: https://results.eci.gov.in/PcResultGenJune2024/statewiseU051.htm\n",
      "Not found: https://results.eci.gov.in/PcResultGenJune2024/index.htmstatewiseS051.htm\n",
      "Not found: https://results.eci.gov.in/PcResultGenJune2024/index.htmstatewiseS052.htm\n",
      "Not found: https://results.eci.gov.in/PcResultGenJune2024/index.htmstatewiseS053.htm\n",
      "Not found: https://results.eci.gov.in/PcResultGenJune2024/index.htmstatewiseS054.htm\n",
      "Not found: https://results.eci.gov.in/PcResultGenJune2024/index.htmstatewiseS055.htm\n",
      "Found: https://results.eci.gov.in/PcResultGenJune2024/statewiseU061.htm\n",
      "Not found: https://results.eci.gov.in/PcResultGenJune2024/index.htmstatewiseS061.htm\n",
      "Not found: https://results.eci.gov.in/PcResultGenJune2024/index.htmstatewiseS062.htm\n",
      "Not found: https://results.eci.gov.in/PcResultGenJune2024/index.htmstatewiseS063.htm\n",
      "Not found: https://results.eci.gov.in/PcResultGenJune2024/index.htmstatewiseS064.htm\n",
      "Not found: https://results.eci.gov.in/PcResultGenJune2024/index.htmstatewiseS065.htm\n",
      "Found: https://results.eci.gov.in/PcResultGenJune2024/statewiseU071.htm\n",
      "Not found: https://results.eci.gov.in/PcResultGenJune2024/index.htmstatewiseS071.htm\n",
      "Not found: https://results.eci.gov.in/PcResultGenJune2024/index.htmstatewiseS072.htm\n",
      "Not found: https://results.eci.gov.in/PcResultGenJune2024/index.htmstatewiseS073.htm\n",
      "Not found: https://results.eci.gov.in/PcResultGenJune2024/index.htmstatewiseS074.htm\n",
      "Not found: https://results.eci.gov.in/PcResultGenJune2024/index.htmstatewiseS075.htm\n",
      "Found: https://results.eci.gov.in/PcResultGenJune2024/statewiseU081.htm\n",
      "Not found: https://results.eci.gov.in/PcResultGenJune2024/index.htmstatewiseS081.htm\n",
      "Not found: https://results.eci.gov.in/PcResultGenJune2024/index.htmstatewiseS082.htm\n",
      "Not found: https://results.eci.gov.in/PcResultGenJune2024/index.htmstatewiseS083.htm\n",
      "Not found: https://results.eci.gov.in/PcResultGenJune2024/index.htmstatewiseS084.htm\n",
      "Not found: https://results.eci.gov.in/PcResultGenJune2024/index.htmstatewiseS085.htm\n",
      "Found: https://results.eci.gov.in/PcResultGenJune2024/statewiseU091.htm\n",
      "Not found: https://results.eci.gov.in/PcResultGenJune2024/index.htmstatewiseS091.htm\n",
      "Not found: https://results.eci.gov.in/PcResultGenJune2024/index.htmstatewiseS092.htm\n",
      "Not found: https://results.eci.gov.in/PcResultGenJune2024/index.htmstatewiseS093.htm\n",
      "Not found: https://results.eci.gov.in/PcResultGenJune2024/index.htmstatewiseS094.htm\n",
      "Not found: https://results.eci.gov.in/PcResultGenJune2024/index.htmstatewiseS095.htm\n",
      "Not found: https://results.eci.gov.in/PcResultGenJune2024/index.htmstatewiseS101.htm\n",
      "Not found: https://results.eci.gov.in/PcResultGenJune2024/index.htmstatewiseS102.htm\n",
      "Not found: https://results.eci.gov.in/PcResultGenJune2024/index.htmstatewiseS103.htm\n",
      "Not found: https://results.eci.gov.in/PcResultGenJune2024/index.htmstatewiseS104.htm\n",
      "Not found: https://results.eci.gov.in/PcResultGenJune2024/index.htmstatewiseS105.htm\n",
      "Not found: https://results.eci.gov.in/PcResultGenJune2024/index.htmstatewiseS111.htm\n",
      "Not found: https://results.eci.gov.in/PcResultGenJune2024/index.htmstatewiseS112.htm\n",
      "Not found: https://results.eci.gov.in/PcResultGenJune2024/index.htmstatewiseS113.htm\n",
      "Not found: https://results.eci.gov.in/PcResultGenJune2024/index.htmstatewiseS114.htm\n",
      "Not found: https://results.eci.gov.in/PcResultGenJune2024/index.htmstatewiseS115.htm\n",
      "Not found: https://results.eci.gov.in/PcResultGenJune2024/index.htmstatewiseS121.htm\n",
      "Not found: https://results.eci.gov.in/PcResultGenJune2024/index.htmstatewiseS122.htm\n",
      "Not found: https://results.eci.gov.in/PcResultGenJune2024/index.htmstatewiseS123.htm\n",
      "Not found: https://results.eci.gov.in/PcResultGenJune2024/index.htmstatewiseS124.htm\n",
      "Not found: https://results.eci.gov.in/PcResultGenJune2024/index.htmstatewiseS125.htm\n",
      "Not found: https://results.eci.gov.in/PcResultGenJune2024/index.htmstatewiseS131.htm\n",
      "Not found: https://results.eci.gov.in/PcResultGenJune2024/index.htmstatewiseS132.htm\n",
      "Not found: https://results.eci.gov.in/PcResultGenJune2024/index.htmstatewiseS133.htm\n",
      "Not found: https://results.eci.gov.in/PcResultGenJune2024/index.htmstatewiseS134.htm\n",
      "Not found: https://results.eci.gov.in/PcResultGenJune2024/index.htmstatewiseS135.htm\n",
      "Not found: https://results.eci.gov.in/PcResultGenJune2024/index.htmstatewiseS141.htm\n",
      "Not found: https://results.eci.gov.in/PcResultGenJune2024/index.htmstatewiseS142.htm\n",
      "Not found: https://results.eci.gov.in/PcResultGenJune2024/index.htmstatewiseS143.htm\n",
      "Not found: https://results.eci.gov.in/PcResultGenJune2024/index.htmstatewiseS144.htm\n",
      "Not found: https://results.eci.gov.in/PcResultGenJune2024/index.htmstatewiseS145.htm\n",
      "Not found: https://results.eci.gov.in/PcResultGenJune2024/index.htmstatewiseS151.htm\n",
      "Not found: https://results.eci.gov.in/PcResultGenJune2024/index.htmstatewiseS152.htm\n",
      "Not found: https://results.eci.gov.in/PcResultGenJune2024/index.htmstatewiseS153.htm\n",
      "Not found: https://results.eci.gov.in/PcResultGenJune2024/index.htmstatewiseS154.htm\n",
      "Not found: https://results.eci.gov.in/PcResultGenJune2024/index.htmstatewiseS155.htm\n",
      "Not found: https://results.eci.gov.in/PcResultGenJune2024/index.htmstatewiseS161.htm\n",
      "Not found: https://results.eci.gov.in/PcResultGenJune2024/index.htmstatewiseS162.htm\n",
      "Not found: https://results.eci.gov.in/PcResultGenJune2024/index.htmstatewiseS163.htm\n",
      "Not found: https://results.eci.gov.in/PcResultGenJune2024/index.htmstatewiseS164.htm\n",
      "Not found: https://results.eci.gov.in/PcResultGenJune2024/index.htmstatewiseS165.htm\n",
      "Not found: https://results.eci.gov.in/PcResultGenJune2024/index.htmstatewiseS171.htm\n",
      "Not found: https://results.eci.gov.in/PcResultGenJune2024/index.htmstatewiseS172.htm\n",
      "Not found: https://results.eci.gov.in/PcResultGenJune2024/index.htmstatewiseS173.htm\n",
      "Not found: https://results.eci.gov.in/PcResultGenJune2024/index.htmstatewiseS174.htm\n",
      "Not found: https://results.eci.gov.in/PcResultGenJune2024/index.htmstatewiseS175.htm\n",
      "Not found: https://results.eci.gov.in/PcResultGenJune2024/index.htmstatewiseS181.htm\n",
      "Not found: https://results.eci.gov.in/PcResultGenJune2024/index.htmstatewiseS182.htm\n",
      "Not found: https://results.eci.gov.in/PcResultGenJune2024/index.htmstatewiseS183.htm\n",
      "Not found: https://results.eci.gov.in/PcResultGenJune2024/index.htmstatewiseS184.htm\n",
      "Not found: https://results.eci.gov.in/PcResultGenJune2024/index.htmstatewiseS185.htm\n",
      "Not found: https://results.eci.gov.in/PcResultGenJune2024/index.htmstatewiseS191.htm\n",
      "Not found: https://results.eci.gov.in/PcResultGenJune2024/index.htmstatewiseS192.htm\n",
      "Not found: https://results.eci.gov.in/PcResultGenJune2024/index.htmstatewiseS193.htm\n",
      "Not found: https://results.eci.gov.in/PcResultGenJune2024/index.htmstatewiseS194.htm\n",
      "Not found: https://results.eci.gov.in/PcResultGenJune2024/index.htmstatewiseS195.htm\n",
      "Not found: https://results.eci.gov.in/PcResultGenJune2024/index.htmstatewiseS201.htm\n",
      "Not found: https://results.eci.gov.in/PcResultGenJune2024/index.htmstatewiseS202.htm\n",
      "Not found: https://results.eci.gov.in/PcResultGenJune2024/index.htmstatewiseS203.htm\n",
      "Not found: https://results.eci.gov.in/PcResultGenJune2024/index.htmstatewiseS204.htm\n",
      "Not found: https://results.eci.gov.in/PcResultGenJune2024/index.htmstatewiseS205.htm\n",
      "Not found: https://results.eci.gov.in/PcResultGenJune2024/index.htmstatewiseS211.htm\n",
      "Not found: https://results.eci.gov.in/PcResultGenJune2024/index.htmstatewiseS212.htm\n",
      "Not found: https://results.eci.gov.in/PcResultGenJune2024/index.htmstatewiseS213.htm\n",
      "Not found: https://results.eci.gov.in/PcResultGenJune2024/index.htmstatewiseS214.htm\n",
      "Not found: https://results.eci.gov.in/PcResultGenJune2024/index.htmstatewiseS215.htm\n",
      "Not found: https://results.eci.gov.in/PcResultGenJune2024/index.htmstatewiseS221.htm\n",
      "Not found: https://results.eci.gov.in/PcResultGenJune2024/index.htmstatewiseS222.htm\n",
      "Not found: https://results.eci.gov.in/PcResultGenJune2024/index.htmstatewiseS223.htm\n",
      "Not found: https://results.eci.gov.in/PcResultGenJune2024/index.htmstatewiseS224.htm\n",
      "Not found: https://results.eci.gov.in/PcResultGenJune2024/index.htmstatewiseS225.htm\n",
      "Not found: https://results.eci.gov.in/PcResultGenJune2024/index.htmstatewiseS231.htm\n",
      "Not found: https://results.eci.gov.in/PcResultGenJune2024/index.htmstatewiseS232.htm\n",
      "Not found: https://results.eci.gov.in/PcResultGenJune2024/index.htmstatewiseS233.htm\n",
      "Not found: https://results.eci.gov.in/PcResultGenJune2024/index.htmstatewiseS234.htm\n",
      "Not found: https://results.eci.gov.in/PcResultGenJune2024/index.htmstatewiseS235.htm\n",
      "Not found: https://results.eci.gov.in/PcResultGenJune2024/index.htmstatewiseS241.htm\n",
      "Not found: https://results.eci.gov.in/PcResultGenJune2024/index.htmstatewiseS242.htm\n",
      "Not found: https://results.eci.gov.in/PcResultGenJune2024/index.htmstatewiseS243.htm\n",
      "Not found: https://results.eci.gov.in/PcResultGenJune2024/index.htmstatewiseS244.htm\n",
      "Not found: https://results.eci.gov.in/PcResultGenJune2024/index.htmstatewiseS245.htm\n",
      "Not found: https://results.eci.gov.in/PcResultGenJune2024/index.htmstatewiseS251.htm\n",
      "Not found: https://results.eci.gov.in/PcResultGenJune2024/index.htmstatewiseS252.htm\n",
      "Not found: https://results.eci.gov.in/PcResultGenJune2024/index.htmstatewiseS253.htm\n",
      "Not found: https://results.eci.gov.in/PcResultGenJune2024/index.htmstatewiseS254.htm\n",
      "Not found: https://results.eci.gov.in/PcResultGenJune2024/index.htmstatewiseS255.htm\n",
      "Not found: https://results.eci.gov.in/PcResultGenJune2024/index.htmstatewiseS261.htm\n",
      "Not found: https://results.eci.gov.in/PcResultGenJune2024/index.htmstatewiseS262.htm\n",
      "Not found: https://results.eci.gov.in/PcResultGenJune2024/index.htmstatewiseS263.htm\n",
      "Not found: https://results.eci.gov.in/PcResultGenJune2024/index.htmstatewiseS264.htm\n",
      "Not found: https://results.eci.gov.in/PcResultGenJune2024/index.htmstatewiseS265.htm\n",
      "Not found: https://results.eci.gov.in/PcResultGenJune2024/index.htmstatewiseS271.htm\n",
      "Not found: https://results.eci.gov.in/PcResultGenJune2024/index.htmstatewiseS272.htm\n",
      "Not found: https://results.eci.gov.in/PcResultGenJune2024/index.htmstatewiseS273.htm\n",
      "Not found: https://results.eci.gov.in/PcResultGenJune2024/index.htmstatewiseS274.htm\n",
      "Not found: https://results.eci.gov.in/PcResultGenJune2024/index.htmstatewiseS275.htm\n",
      "Not found: https://results.eci.gov.in/PcResultGenJune2024/index.htmstatewiseS281.htm\n",
      "Not found: https://results.eci.gov.in/PcResultGenJune2024/index.htmstatewiseS282.htm\n",
      "Not found: https://results.eci.gov.in/PcResultGenJune2024/index.htmstatewiseS283.htm\n",
      "Not found: https://results.eci.gov.in/PcResultGenJune2024/index.htmstatewiseS284.htm\n",
      "Not found: https://results.eci.gov.in/PcResultGenJune2024/index.htmstatewiseS285.htm\n",
      "Not found: https://results.eci.gov.in/PcResultGenJune2024/index.htmstatewiseS291.htm\n",
      "Not found: https://results.eci.gov.in/PcResultGenJune2024/index.htmstatewiseS292.htm\n",
      "Not found: https://results.eci.gov.in/PcResultGenJune2024/index.htmstatewiseS293.htm\n",
      "Not found: https://results.eci.gov.in/PcResultGenJune2024/index.htmstatewiseS294.htm\n",
      "Not found: https://results.eci.gov.in/PcResultGenJune2024/index.htmstatewiseS295.htm\n",
      "Not found: https://results.eci.gov.in/PcResultGenJune2024/index.htmstatewiseS301.htm\n",
      "Not found: https://results.eci.gov.in/PcResultGenJune2024/index.htmstatewiseS302.htm\n",
      "Not found: https://results.eci.gov.in/PcResultGenJune2024/index.htmstatewiseS303.htm\n",
      "Not found: https://results.eci.gov.in/PcResultGenJune2024/index.htmstatewiseS304.htm\n",
      "Not found: https://results.eci.gov.in/PcResultGenJune2024/index.htmstatewiseS305.htm\n",
      "Not found: https://results.eci.gov.in/PcResultGenJune2024/index.htmstatewiseS311.htm\n",
      "Not found: https://results.eci.gov.in/PcResultGenJune2024/index.htmstatewiseS312.htm\n",
      "Not found: https://results.eci.gov.in/PcResultGenJune2024/index.htmstatewiseS313.htm\n",
      "Not found: https://results.eci.gov.in/PcResultGenJune2024/index.htmstatewiseS314.htm\n",
      "Not found: https://results.eci.gov.in/PcResultGenJune2024/index.htmstatewiseS315.htm\n",
      "Not found: https://results.eci.gov.in/PcResultGenJune2024/index.htmstatewiseS321.htm\n",
      "Not found: https://results.eci.gov.in/PcResultGenJune2024/index.htmstatewiseS322.htm\n",
      "Not found: https://results.eci.gov.in/PcResultGenJune2024/index.htmstatewiseS323.htm\n",
      "Not found: https://results.eci.gov.in/PcResultGenJune2024/index.htmstatewiseS324.htm\n",
      "Not found: https://results.eci.gov.in/PcResultGenJune2024/index.htmstatewiseS325.htm\n",
      "Not found: https://results.eci.gov.in/PcResultGenJune2024/index.htmstatewiseS331.htm\n",
      "Not found: https://results.eci.gov.in/PcResultGenJune2024/index.htmstatewiseS332.htm\n",
      "Not found: https://results.eci.gov.in/PcResultGenJune2024/index.htmstatewiseS333.htm\n",
      "Not found: https://results.eci.gov.in/PcResultGenJune2024/index.htmstatewiseS334.htm\n",
      "Not found: https://results.eci.gov.in/PcResultGenJune2024/index.htmstatewiseS335.htm\n",
      "Not found: https://results.eci.gov.in/PcResultGenJune2024/index.htmstatewiseS341.htm\n",
      "Not found: https://results.eci.gov.in/PcResultGenJune2024/index.htmstatewiseS342.htm\n",
      "Not found: https://results.eci.gov.in/PcResultGenJune2024/index.htmstatewiseS343.htm\n",
      "Not found: https://results.eci.gov.in/PcResultGenJune2024/index.htmstatewiseS344.htm\n",
      "Not found: https://results.eci.gov.in/PcResultGenJune2024/index.htmstatewiseS345.htm\n",
      "Not found: https://results.eci.gov.in/PcResultGenJune2024/index.htmstatewiseS351.htm\n",
      "Not found: https://results.eci.gov.in/PcResultGenJune2024/index.htmstatewiseS352.htm\n",
      "Not found: https://results.eci.gov.in/PcResultGenJune2024/index.htmstatewiseS353.htm\n",
      "Not found: https://results.eci.gov.in/PcResultGenJune2024/index.htmstatewiseS354.htm\n",
      "Not found: https://results.eci.gov.in/PcResultGenJune2024/index.htmstatewiseS355.htm\n",
      "Not found: https://results.eci.gov.in/PcResultGenJune2024/index.htmstatewiseS361.htm\n",
      "Not found: https://results.eci.gov.in/PcResultGenJune2024/index.htmstatewiseS362.htm\n",
      "Not found: https://results.eci.gov.in/PcResultGenJune2024/index.htmstatewiseS363.htm\n",
      "Not found: https://results.eci.gov.in/PcResultGenJune2024/index.htmstatewiseS364.htm\n",
      "Not found: https://results.eci.gov.in/PcResultGenJune2024/index.htmstatewiseS365.htm\n",
      "Not found: https://results.eci.gov.in/PcResultGenJune2024/index.htmstatewiseS371.htm\n",
      "Not found: https://results.eci.gov.in/PcResultGenJune2024/index.htmstatewiseS372.htm\n",
      "Not found: https://results.eci.gov.in/PcResultGenJune2024/index.htmstatewiseS373.htm\n",
      "Not found: https://results.eci.gov.in/PcResultGenJune2024/index.htmstatewiseS374.htm\n",
      "Not found: https://results.eci.gov.in/PcResultGenJune2024/index.htmstatewiseS375.htm\n",
      "Not found: https://results.eci.gov.in/PcResultGenJune2024/index.htmstatewiseS381.htm\n",
      "Not found: https://results.eci.gov.in/PcResultGenJune2024/index.htmstatewiseS382.htm\n",
      "Not found: https://results.eci.gov.in/PcResultGenJune2024/index.htmstatewiseS383.htm\n",
      "Not found: https://results.eci.gov.in/PcResultGenJune2024/index.htmstatewiseS384.htm\n",
      "Not found: https://results.eci.gov.in/PcResultGenJune2024/index.htmstatewiseS385.htm\n",
      "Not found: https://results.eci.gov.in/PcResultGenJune2024/index.htmstatewiseS391.htm\n",
      "Not found: https://results.eci.gov.in/PcResultGenJune2024/index.htmstatewiseS392.htm\n",
      "Not found: https://results.eci.gov.in/PcResultGenJune2024/index.htmstatewiseS393.htm\n",
      "Not found: https://results.eci.gov.in/PcResultGenJune2024/index.htmstatewiseS394.htm\n",
      "Not found: https://results.eci.gov.in/PcResultGenJune2024/index.htmstatewiseS395.htm\n"
     ]
    }
   ],
   "source": [
    "url_list = []\n",
    "\n",
    "# Iterate through the first part of the URL range (1 to 39)\n",
    "for code in range(1, 40):\n",
    "    # Create a separate range for the second part of the URL\n",
    "    for num in range(1, 6):  # Adjusted range for the second part (1 to 5)\n",
    "        # Union territories\n",
    "        url_ut = f\"{url}statewiseU{code:02}{num}.htm\"\n",
    "        response_ut = requests.get(url_ut)\n",
    "        if response_ut.status_code == 200:\n",
    "            print(f\"Found: {url_ut}\")\n",
    "            url_list.append(url_ut)\n",
    "            # Replace with your processing code\n",
    "        \n",
    "        # States\n",
    "        url_st = f\"{base_url}statewiseS{code:02}{num}.htm\"\n",
    "        response_st = requests.get(url_st)\n",
    "        if response_st.status_code == 200:\n",
    "            print(f\"Found: {url_st}\")\n",
    "            url_list.append(url_st)\n",
    "            # Replace with your processing code\n",
    "        else:\n",
    "            print(f\"Not found: {url_st}\")"
   ]
  },
  {
   "cell_type": "code",
   "execution_count": 7,
   "id": "55eeb0d2",
   "metadata": {},
   "outputs": [
    {
     "data": {
      "text/plain": [
       "['https://results.eci.gov.in/PcResultGenJune2024/statewiseU011.htm',\n",
       " 'https://results.eci.gov.in/PcResultGenJune2024/statewiseU021.htm',\n",
       " 'https://results.eci.gov.in/PcResultGenJune2024/statewiseU031.htm',\n",
       " 'https://results.eci.gov.in/PcResultGenJune2024/statewiseU051.htm',\n",
       " 'https://results.eci.gov.in/PcResultGenJune2024/statewiseU061.htm',\n",
       " 'https://results.eci.gov.in/PcResultGenJune2024/statewiseU071.htm',\n",
       " 'https://results.eci.gov.in/PcResultGenJune2024/statewiseU081.htm',\n",
       " 'https://results.eci.gov.in/PcResultGenJune2024/statewiseU091.htm']"
      ]
     },
     "execution_count": 7,
     "metadata": {},
     "output_type": "execute_result"
    }
   ],
   "source": [
    "url_list"
   ]
  },
  {
   "cell_type": "code",
   "execution_count": 41,
   "id": "c420d528",
   "metadata": {},
   "outputs": [],
   "source": [
    "\n",
    "def fetch_election_data(url_list):\n",
    "    results = []\n",
    "    \n",
    "    for url in url_list:\n",
    "        # Send a GET request to fetch the HTML content\n",
    "        response = requests.get(url)\n",
    "        \n",
    "        # Check if the request was successful (status code 200)\n",
    "        if response.status_code == 200:\n",
    "            # Parse the HTML content using BeautifulSoup\n",
    "            soup = BeautifulSoup(response.content, 'html.parser')\n",
    "            \n",
    "            # Find all tables with class \"table table-striped table-bordered\"\n",
    "            tables = soup.find_all('table', class_='table table-striped table-bordered')\n",
    "            \n",
    "            # Assuming the table we want is the first one found\n",
    "            if tables:\n",
    "                # Extract table headers, skipping the first header row with colspan\n",
    "                headers = []\n",
    "                for th in tables[0].find_all('th'):\n",
    "                    if not th.has_attr('colspan'):  # Skip th elements with colspan attribute\n",
    "                        headers.append(th.get_text(strip=True))\n",
    "                \n",
    "                # Initialize rows list\n",
    "                rows = []\n",
    "                \n",
    "                # Iterate through each table to extract rows\n",
    "                for table in tables:\n",
    "                    for tr in table.find('tbody').find_all('tr'):\n",
    "                        row = []\n",
    "                        for td in tr.find_all('td', recursive=False):  # Use recursive=False to avoid nested tables\n",
    "                            # Check if there's a nested table and handle it\n",
    "                            nested_table = td.find('table')\n",
    "                            if nested_table:\n",
    "                                nested_td = nested_table.find('td')\n",
    "                                row.append(nested_td.get_text(strip=True) if nested_td else \"\")\n",
    "                            else:\n",
    "                                row.append(td.get_text(strip=True))\n",
    "                        rows.append(row)\n",
    "                \n",
    "                # Ensure each row has the same number of columns as the headers\n",
    "                cleaned_rows = [row for row in rows if len(row) == len(headers)]\n",
    "                \n",
    "                # Create a DataFrame\n",
    "                df = pd.DataFrame(cleaned_rows, columns=headers)\n",
    "                results.append(df)\n",
    "            else:\n",
    "                print(f\"Table not found in URL: {url}\")\n",
    "        else:\n",
    "            print(f\"Failed to retrieve HTML from URL: {url}, Status code {response.status_code}\")\n",
    "    \n",
    "    # Concatenate all dataframes into one\n",
    "    if results:\n",
    "        final_df = pd.concat(results, ignore_index=True)\n",
    "    else:\n",
    "        final_df = pd.DataFrame()\n",
    "    \n",
    "    return final_df\n"
   ]
  },
  {
   "cell_type": "code",
   "execution_count": 42,
   "id": "ee592954",
   "metadata": {},
   "outputs": [
    {
     "name": "stdout",
     "output_type": "stream",
     "text": [
      "                                                    0    1        2      3\n",
      "0                                               Party  Won  Leading  Total\n",
      "1                        Bharatiya Janata Party - BJP  240        0    240\n",
      "2                      Indian National Congress - INC   99        0     99\n",
      "3                                Samajwadi Party - SP   37        0     37\n",
      "4                 All India Trinamool Congress - AITC   29        0     29\n",
      "5                     Dravida Munnetra Kazhagam - DMK   22        0     22\n",
      "6                                  Telugu Desam - TDP   16        0     16\n",
      "7                        Janata Dal  (United) - JD(U)   12        0     12\n",
      "8      Shiv Sena (Uddhav Balasaheb Thackrey) - SHSUBT    9        0      9\n",
      "9   Nationalist Congress Party – Sharadchandra Paw...    8        0      8\n",
      "10                                    Shiv Sena - SHS    7        0      7\n",
      "11             Lok Janshakti Party(Ram Vilas) - LJPRV    5        0      5\n",
      "12      Yuvajana Sramika Rythu Congress Party - YSRCP    4        0      4\n",
      "13                         Rashtriya Janata Dal - RJD    4        0      4\n",
      "14       Communist Party of India  (Marxist) - CPI(M)    4        0      4\n",
      "15                  Indian Union Muslim League - IUML    3        0      3\n",
      "16                             Aam Aadmi Party - AAAP    3        0      3\n",
      "17                       Jharkhand Mukti Morcha - JMM    3        0      3\n",
      "18                               Janasena Party - JnP    2        0      2\n",
      "19  Communist Party of India  (Marxist-Leninist)  ...    2        0      2\n",
      "20                      Janata Dal  (Secular) - JD(S)    2        0      2\n",
      "21               Viduthalai Chiruthaigal Katchi - VCK    2        0      2\n",
      "22                     Communist Party of India - CPI    2        0      2\n",
      "23                            Rashtriya Lok Dal - RLD    2        0      2\n",
      "24          Jammu & Kashmir National Conference - JKN    2        0      2\n",
      "25              United People’s Party, Liberal - UPPL    1        0      1\n",
      "26                           Asom Gana Parishad - AGP    1        0      1\n",
      "27            Hindustani Awam Morcha (Secular) - HAMS    1        0      1\n",
      "28                              Kerala Congress - KEC    1        0      1\n",
      "29                Revolutionary Socialist Party - RSP    1        0      1\n",
      "30                   Nationalist Congress Party - NCP    1        0      1\n",
      "31                  Voice of the People Party - VOTPP    1        0      1\n",
      "32                      Zoram People’s Movement - ZPM    1        0      1\n",
      "33                          Shiromani Akali Dal - SAD    1        0      1\n",
      "34                  Rashtriya Loktantrik Party - RLTP    1        0      1\n",
      "35                  Bharat Adivasi Party - BHRTADVSIP    1        0      1\n",
      "36                     Sikkim Krantikari Morcha - SKM    1        0      1\n",
      "37      Marumalarchi Dravida Munnetra Kazhagam - MDMK    1        0      1\n",
      "38             Aazad Samaj Party (Kanshi Ram) - ASPKR    1        0      1\n",
      "39                         Apna Dal (Soneylal) - ADAL    1        0      1\n",
      "40                                 AJSU Party - AJSUP    1        0      1\n",
      "41     All India Majlis-E-Ittehadul Muslimeen - AIMIM    1        0      1\n",
      "42                                  Independent - IND    7        0      7\n",
      "43                                              Total  543        0    543\n"
     ]
    }
   ],
   "source": [
    "# Step 4: Extract table rows and columns\n",
    "data = []\n",
    "rows = table1.find_all('tr')\n",
    "for row in rows:\n",
    "    cols = row.find_all(['th', 'td'])\n",
    "    cols = [col.text.strip() for col in cols]\n",
    "    if cols:\n",
    "        data.append(cols)\n",
    "\n",
    "# Step 5: Convert to DataFrame and display as a table\n",
    "df = pd.DataFrame(data)\n",
    "print(df)"
   ]
  },
  {
   "cell_type": "code",
   "execution_count": 51,
   "id": "b2a6517b",
   "metadata": {},
   "outputs": [],
   "source": [
    "df.columns = df.iloc[0]\n",
    "df = df[1:]"
   ]
  },
  {
   "cell_type": "code",
   "execution_count": 52,
   "id": "7777e672",
   "metadata": {},
   "outputs": [],
   "source": [
    "party_wise_results = df.style.hide_index()\n"
   ]
  },
  {
   "cell_type": "code",
   "execution_count": 53,
   "id": "13a97272",
   "metadata": {},
   "outputs": [
    {
     "data": {
      "text/html": [
       "<style type=\"text/css\">\n",
       "</style>\n",
       "<table id=\"T_14e5a_\">\n",
       "  <thead>\n",
       "    <tr>\n",
       "      <th class=\"col_heading level0 col0\" >Andaman & Nicobar Islands</th>\n",
       "      <th class=\"col_heading level0 col1\" >1</th>\n",
       "      <th class=\"col_heading level0 col2\" >BISHNU PADA RAY</th>\n",
       "      <th class=\"col_heading level0 col3\" >Bharatiya Janata Party</th>\n",
       "      <th class=\"col_heading level0 col4\" >KULDEEP RAI SHARMA</th>\n",
       "      <th class=\"col_heading level0 col5\" >Indian National Congress</th>\n",
       "      <th class=\"col_heading level0 col6\" >24396</th>\n",
       "      <th class=\"col_heading level0 col7\" >Result Declared</th>\n",
       "    </tr>\n",
       "  </thead>\n",
       "  <tbody>\n",
       "    <tr>\n",
       "      <td id=\"T_14e5a_row0_col0\" class=\"data row0 col0\" >Chandigarh</td>\n",
       "      <td id=\"T_14e5a_row0_col1\" class=\"data row0 col1\" >1</td>\n",
       "      <td id=\"T_14e5a_row0_col2\" class=\"data row0 col2\" >MANISH TEWARI</td>\n",
       "      <td id=\"T_14e5a_row0_col3\" class=\"data row0 col3\" >Indian National Congress</td>\n",
       "      <td id=\"T_14e5a_row0_col4\" class=\"data row0 col4\" >SANJAY TANDON</td>\n",
       "      <td id=\"T_14e5a_row0_col5\" class=\"data row0 col5\" >Bharatiya Janata Party</td>\n",
       "      <td id=\"T_14e5a_row0_col6\" class=\"data row0 col6\" >2504</td>\n",
       "      <td id=\"T_14e5a_row0_col7\" class=\"data row0 col7\" >Result Declared</td>\n",
       "    </tr>\n",
       "    <tr>\n",
       "      <td id=\"T_14e5a_row1_col0\" class=\"data row1 col0\" >Dadar & Nagar Haveli</td>\n",
       "      <td id=\"T_14e5a_row1_col1\" class=\"data row1 col1\" >2</td>\n",
       "      <td id=\"T_14e5a_row1_col2\" class=\"data row1 col2\" >DELKAR KALABEN MOHANBHAI</td>\n",
       "      <td id=\"T_14e5a_row1_col3\" class=\"data row1 col3\" >Bharatiya Janata Party</td>\n",
       "      <td id=\"T_14e5a_row1_col4\" class=\"data row1 col4\" >AJIT RAMJIBHAI MAHALA</td>\n",
       "      <td id=\"T_14e5a_row1_col5\" class=\"data row1 col5\" >Indian National Congress</td>\n",
       "      <td id=\"T_14e5a_row1_col6\" class=\"data row1 col6\" >57584</td>\n",
       "      <td id=\"T_14e5a_row1_col7\" class=\"data row1 col7\" >Result Declared</td>\n",
       "    </tr>\n",
       "    <tr>\n",
       "      <td id=\"T_14e5a_row2_col0\" class=\"data row2 col0\" >Daman & Diu</td>\n",
       "      <td id=\"T_14e5a_row2_col1\" class=\"data row2 col1\" >1</td>\n",
       "      <td id=\"T_14e5a_row2_col2\" class=\"data row2 col2\" >PATEL UMESHBHAI BABUBHAI</td>\n",
       "      <td id=\"T_14e5a_row2_col3\" class=\"data row2 col3\" >Independent</td>\n",
       "      <td id=\"T_14e5a_row2_col4\" class=\"data row2 col4\" >LALUBHAI BABUBHAI PATEL</td>\n",
       "      <td id=\"T_14e5a_row2_col5\" class=\"data row2 col5\" >Bharatiya Janata Party</td>\n",
       "      <td id=\"T_14e5a_row2_col6\" class=\"data row2 col6\" >6225</td>\n",
       "      <td id=\"T_14e5a_row2_col7\" class=\"data row2 col7\" >Result Declared</td>\n",
       "    </tr>\n",
       "    <tr>\n",
       "      <td id=\"T_14e5a_row3_col0\" class=\"data row3 col0\" >Chandni Chowk</td>\n",
       "      <td id=\"T_14e5a_row3_col1\" class=\"data row3 col1\" >1</td>\n",
       "      <td id=\"T_14e5a_row3_col2\" class=\"data row3 col2\" >PRAVEEN KHANDELWAL</td>\n",
       "      <td id=\"T_14e5a_row3_col3\" class=\"data row3 col3\" >Bharatiya Janata Party</td>\n",
       "      <td id=\"T_14e5a_row3_col4\" class=\"data row3 col4\" >JAI PRAKASH AGARWAL</td>\n",
       "      <td id=\"T_14e5a_row3_col5\" class=\"data row3 col5\" >Indian National Congress</td>\n",
       "      <td id=\"T_14e5a_row3_col6\" class=\"data row3 col6\" >89325</td>\n",
       "      <td id=\"T_14e5a_row3_col7\" class=\"data row3 col7\" >Result Declared</td>\n",
       "    </tr>\n",
       "    <tr>\n",
       "      <td id=\"T_14e5a_row4_col0\" class=\"data row4 col0\" >East Delhi</td>\n",
       "      <td id=\"T_14e5a_row4_col1\" class=\"data row4 col1\" >3</td>\n",
       "      <td id=\"T_14e5a_row4_col2\" class=\"data row4 col2\" >HARSH MALHOTRA</td>\n",
       "      <td id=\"T_14e5a_row4_col3\" class=\"data row4 col3\" >Bharatiya Janata Party</td>\n",
       "      <td id=\"T_14e5a_row4_col4\" class=\"data row4 col4\" >KULDEEP KUMAR (MONU)</td>\n",
       "      <td id=\"T_14e5a_row4_col5\" class=\"data row4 col5\" >Aam Aadmi Party</td>\n",
       "      <td id=\"T_14e5a_row4_col6\" class=\"data row4 col6\" >93663</td>\n",
       "      <td id=\"T_14e5a_row4_col7\" class=\"data row4 col7\" >Result Declared</td>\n",
       "    </tr>\n",
       "    <tr>\n",
       "      <td id=\"T_14e5a_row5_col0\" class=\"data row5 col0\" >New Delhi</td>\n",
       "      <td id=\"T_14e5a_row5_col1\" class=\"data row5 col1\" >4</td>\n",
       "      <td id=\"T_14e5a_row5_col2\" class=\"data row5 col2\" >BANSURI SWARAJ</td>\n",
       "      <td id=\"T_14e5a_row5_col3\" class=\"data row5 col3\" >Bharatiya Janata Party</td>\n",
       "      <td id=\"T_14e5a_row5_col4\" class=\"data row5 col4\" >SOMNATH BHARTI</td>\n",
       "      <td id=\"T_14e5a_row5_col5\" class=\"data row5 col5\" >Aam Aadmi Party</td>\n",
       "      <td id=\"T_14e5a_row5_col6\" class=\"data row5 col6\" >78370</td>\n",
       "      <td id=\"T_14e5a_row5_col7\" class=\"data row5 col7\" >Result Declared</td>\n",
       "    </tr>\n",
       "    <tr>\n",
       "      <td id=\"T_14e5a_row6_col0\" class=\"data row6 col0\" >North-East Delhi</td>\n",
       "      <td id=\"T_14e5a_row6_col1\" class=\"data row6 col1\" >2</td>\n",
       "      <td id=\"T_14e5a_row6_col2\" class=\"data row6 col2\" >MANOJ TIWARI</td>\n",
       "      <td id=\"T_14e5a_row6_col3\" class=\"data row6 col3\" >Bharatiya Janata Party</td>\n",
       "      <td id=\"T_14e5a_row6_col4\" class=\"data row6 col4\" >KANHAIYA KUMAR</td>\n",
       "      <td id=\"T_14e5a_row6_col5\" class=\"data row6 col5\" >Indian National Congress</td>\n",
       "      <td id=\"T_14e5a_row6_col6\" class=\"data row6 col6\" >138778</td>\n",
       "      <td id=\"T_14e5a_row6_col7\" class=\"data row6 col7\" >Result Declared</td>\n",
       "    </tr>\n",
       "    <tr>\n",
       "      <td id=\"T_14e5a_row7_col0\" class=\"data row7 col0\" >North-West Delhi</td>\n",
       "      <td id=\"T_14e5a_row7_col1\" class=\"data row7 col1\" >5</td>\n",
       "      <td id=\"T_14e5a_row7_col2\" class=\"data row7 col2\" >YOGENDER CHANDOLIYA</td>\n",
       "      <td id=\"T_14e5a_row7_col3\" class=\"data row7 col3\" >Bharatiya Janata Party</td>\n",
       "      <td id=\"T_14e5a_row7_col4\" class=\"data row7 col4\" >UDIT RAJ</td>\n",
       "      <td id=\"T_14e5a_row7_col5\" class=\"data row7 col5\" >Indian National Congress</td>\n",
       "      <td id=\"T_14e5a_row7_col6\" class=\"data row7 col6\" >290849</td>\n",
       "      <td id=\"T_14e5a_row7_col7\" class=\"data row7 col7\" >Result Declared</td>\n",
       "    </tr>\n",
       "    <tr>\n",
       "      <td id=\"T_14e5a_row8_col0\" class=\"data row8 col0\" >South Delhi</td>\n",
       "      <td id=\"T_14e5a_row8_col1\" class=\"data row8 col1\" >7</td>\n",
       "      <td id=\"T_14e5a_row8_col2\" class=\"data row8 col2\" >RAMVIR SINGH BIDHURI</td>\n",
       "      <td id=\"T_14e5a_row8_col3\" class=\"data row8 col3\" >Bharatiya Janata Party</td>\n",
       "      <td id=\"T_14e5a_row8_col4\" class=\"data row8 col4\" >SAHI RAM</td>\n",
       "      <td id=\"T_14e5a_row8_col5\" class=\"data row8 col5\" >Aam Aadmi Party</td>\n",
       "      <td id=\"T_14e5a_row8_col6\" class=\"data row8 col6\" >124333</td>\n",
       "      <td id=\"T_14e5a_row8_col7\" class=\"data row8 col7\" >Result Declared</td>\n",
       "    </tr>\n",
       "    <tr>\n",
       "      <td id=\"T_14e5a_row9_col0\" class=\"data row9 col0\" >West Delhi</td>\n",
       "      <td id=\"T_14e5a_row9_col1\" class=\"data row9 col1\" >6</td>\n",
       "      <td id=\"T_14e5a_row9_col2\" class=\"data row9 col2\" >KAMALJEET SEHRAWAT</td>\n",
       "      <td id=\"T_14e5a_row9_col3\" class=\"data row9 col3\" >Bharatiya Janata Party</td>\n",
       "      <td id=\"T_14e5a_row9_col4\" class=\"data row9 col4\" >MAHABAL MISHRA</td>\n",
       "      <td id=\"T_14e5a_row9_col5\" class=\"data row9 col5\" >Aam Aadmi Party</td>\n",
       "      <td id=\"T_14e5a_row9_col6\" class=\"data row9 col6\" >199013</td>\n",
       "      <td id=\"T_14e5a_row9_col7\" class=\"data row9 col7\" >Result Declared</td>\n",
       "    </tr>\n",
       "    <tr>\n",
       "      <td id=\"T_14e5a_row10_col0\" class=\"data row10 col0\" >Lakshadweep</td>\n",
       "      <td id=\"T_14e5a_row10_col1\" class=\"data row10 col1\" >1</td>\n",
       "      <td id=\"T_14e5a_row10_col2\" class=\"data row10 col2\" >MUHAMMED HAMDULLAH SAYEED</td>\n",
       "      <td id=\"T_14e5a_row10_col3\" class=\"data row10 col3\" >Indian National Congress</td>\n",
       "      <td id=\"T_14e5a_row10_col4\" class=\"data row10 col4\" >MOHAMMED FAIZAL PP</td>\n",
       "      <td id=\"T_14e5a_row10_col5\" class=\"data row10 col5\" >Nationalist Congress Party – Sharadchandra Pawar</td>\n",
       "      <td id=\"T_14e5a_row10_col6\" class=\"data row10 col6\" >2647</td>\n",
       "      <td id=\"T_14e5a_row10_col7\" class=\"data row10 col7\" >Result Declared</td>\n",
       "    </tr>\n",
       "    <tr>\n",
       "      <td id=\"T_14e5a_row11_col0\" class=\"data row11 col0\" >PUDUCHERRY</td>\n",
       "      <td id=\"T_14e5a_row11_col1\" class=\"data row11 col1\" >1</td>\n",
       "      <td id=\"T_14e5a_row11_col2\" class=\"data row11 col2\" >VE VAITHILINGAM</td>\n",
       "      <td id=\"T_14e5a_row11_col3\" class=\"data row11 col3\" >Indian National Congress</td>\n",
       "      <td id=\"T_14e5a_row11_col4\" class=\"data row11 col4\" >A NAMASSIVAYAM</td>\n",
       "      <td id=\"T_14e5a_row11_col5\" class=\"data row11 col5\" >Bharatiya Janata Party</td>\n",
       "      <td id=\"T_14e5a_row11_col6\" class=\"data row11 col6\" >136516</td>\n",
       "      <td id=\"T_14e5a_row11_col7\" class=\"data row11 col7\" >Result Declared</td>\n",
       "    </tr>\n",
       "    <tr>\n",
       "      <td id=\"T_14e5a_row12_col0\" class=\"data row12 col0\" >ANANTNAG-RAJOURI</td>\n",
       "      <td id=\"T_14e5a_row12_col1\" class=\"data row12 col1\" >3</td>\n",
       "      <td id=\"T_14e5a_row12_col2\" class=\"data row12 col2\" >MIAN ALTAF AHMAD</td>\n",
       "      <td id=\"T_14e5a_row12_col3\" class=\"data row12 col3\" >Jammu & Kashmir National Conference</td>\n",
       "      <td id=\"T_14e5a_row12_col4\" class=\"data row12 col4\" >MEHBOOBA MUFTI</td>\n",
       "      <td id=\"T_14e5a_row12_col5\" class=\"data row12 col5\" >Jammu & Kashmir Peoples Democratic Party</td>\n",
       "      <td id=\"T_14e5a_row12_col6\" class=\"data row12 col6\" >281794</td>\n",
       "      <td id=\"T_14e5a_row12_col7\" class=\"data row12 col7\" >Result Declared</td>\n",
       "    </tr>\n",
       "    <tr>\n",
       "      <td id=\"T_14e5a_row13_col0\" class=\"data row13 col0\" >BARAMULLA</td>\n",
       "      <td id=\"T_14e5a_row13_col1\" class=\"data row13 col1\" >1</td>\n",
       "      <td id=\"T_14e5a_row13_col2\" class=\"data row13 col2\" >ABDUL RASHID SHEIKH</td>\n",
       "      <td id=\"T_14e5a_row13_col3\" class=\"data row13 col3\" >Independent</td>\n",
       "      <td id=\"T_14e5a_row13_col4\" class=\"data row13 col4\" >OMAR ABDULLAH</td>\n",
       "      <td id=\"T_14e5a_row13_col5\" class=\"data row13 col5\" >Jammu & Kashmir National Conference</td>\n",
       "      <td id=\"T_14e5a_row13_col6\" class=\"data row13 col6\" >204142</td>\n",
       "      <td id=\"T_14e5a_row13_col7\" class=\"data row13 col7\" >Result Declared</td>\n",
       "    </tr>\n",
       "    <tr>\n",
       "      <td id=\"T_14e5a_row14_col0\" class=\"data row14 col0\" >JAMMU</td>\n",
       "      <td id=\"T_14e5a_row14_col1\" class=\"data row14 col1\" >5</td>\n",
       "      <td id=\"T_14e5a_row14_col2\" class=\"data row14 col2\" >JUGAL KISHORE</td>\n",
       "      <td id=\"T_14e5a_row14_col3\" class=\"data row14 col3\" >Bharatiya Janata Party</td>\n",
       "      <td id=\"T_14e5a_row14_col4\" class=\"data row14 col4\" >RAMAN BHALLA</td>\n",
       "      <td id=\"T_14e5a_row14_col5\" class=\"data row14 col5\" >Indian National Congress</td>\n",
       "      <td id=\"T_14e5a_row14_col6\" class=\"data row14 col6\" >135498</td>\n",
       "      <td id=\"T_14e5a_row14_col7\" class=\"data row14 col7\" >Result Declared</td>\n",
       "    </tr>\n",
       "    <tr>\n",
       "      <td id=\"T_14e5a_row15_col0\" class=\"data row15 col0\" >SRINAGAR</td>\n",
       "      <td id=\"T_14e5a_row15_col1\" class=\"data row15 col1\" >2</td>\n",
       "      <td id=\"T_14e5a_row15_col2\" class=\"data row15 col2\" >AGA SYED RUHULLAH MEHDI</td>\n",
       "      <td id=\"T_14e5a_row15_col3\" class=\"data row15 col3\" >Jammu & Kashmir National Conference</td>\n",
       "      <td id=\"T_14e5a_row15_col4\" class=\"data row15 col4\" >WAHEED UR REHMAN PARA</td>\n",
       "      <td id=\"T_14e5a_row15_col5\" class=\"data row15 col5\" >Jammu & Kashmir Peoples Democratic Party</td>\n",
       "      <td id=\"T_14e5a_row15_col6\" class=\"data row15 col6\" >188416</td>\n",
       "      <td id=\"T_14e5a_row15_col7\" class=\"data row15 col7\" >Result Declared</td>\n",
       "    </tr>\n",
       "    <tr>\n",
       "      <td id=\"T_14e5a_row16_col0\" class=\"data row16 col0\" >UDHAMPUR</td>\n",
       "      <td id=\"T_14e5a_row16_col1\" class=\"data row16 col1\" >4</td>\n",
       "      <td id=\"T_14e5a_row16_col2\" class=\"data row16 col2\" >DR JITENDRA SINGH</td>\n",
       "      <td id=\"T_14e5a_row16_col3\" class=\"data row16 col3\" >Bharatiya Janata Party</td>\n",
       "      <td id=\"T_14e5a_row16_col4\" class=\"data row16 col4\" >CH LAL SINGH</td>\n",
       "      <td id=\"T_14e5a_row16_col5\" class=\"data row16 col5\" >Indian National Congress</td>\n",
       "      <td id=\"T_14e5a_row16_col6\" class=\"data row16 col6\" >124373</td>\n",
       "      <td id=\"T_14e5a_row16_col7\" class=\"data row16 col7\" >Result Declared</td>\n",
       "    </tr>\n",
       "    <tr>\n",
       "      <td id=\"T_14e5a_row17_col0\" class=\"data row17 col0\" >Ladakh</td>\n",
       "      <td id=\"T_14e5a_row17_col1\" class=\"data row17 col1\" >1</td>\n",
       "      <td id=\"T_14e5a_row17_col2\" class=\"data row17 col2\" >MOHMAD HANEEFA</td>\n",
       "      <td id=\"T_14e5a_row17_col3\" class=\"data row17 col3\" >Independent</td>\n",
       "      <td id=\"T_14e5a_row17_col4\" class=\"data row17 col4\" >TSERING NAMGYAL</td>\n",
       "      <td id=\"T_14e5a_row17_col5\" class=\"data row17 col5\" >Indian National Congress</td>\n",
       "      <td id=\"T_14e5a_row17_col6\" class=\"data row17 col6\" >27862</td>\n",
       "      <td id=\"T_14e5a_row17_col7\" class=\"data row17 col7\" >Result Declared</td>\n",
       "    </tr>\n",
       "  </tbody>\n",
       "</table>\n"
      ],
      "text/plain": [
       "<pandas.io.formats.style.Styler at 0x231ed40ec70>"
      ]
     },
     "execution_count": 53,
     "metadata": {},
     "output_type": "execute_result"
    }
   ],
   "source": [
    "party_wise_results"
   ]
  },
  {
   "cell_type": "code",
   "execution_count": 54,
   "id": "fda8433b",
   "metadata": {},
   "outputs": [],
   "source": [
    "df = fetch_election_data(url_list)"
   ]
  },
  {
   "cell_type": "code",
   "execution_count": 55,
   "id": "b76d050e",
   "metadata": {},
   "outputs": [
    {
     "data": {
      "text/html": [
       "<div>\n",
       "<style scoped>\n",
       "    .dataframe tbody tr th:only-of-type {\n",
       "        vertical-align: middle;\n",
       "    }\n",
       "\n",
       "    .dataframe tbody tr th {\n",
       "        vertical-align: top;\n",
       "    }\n",
       "\n",
       "    .dataframe thead th {\n",
       "        text-align: right;\n",
       "    }\n",
       "</style>\n",
       "<table border=\"1\" class=\"dataframe\">\n",
       "  <thead>\n",
       "    <tr style=\"text-align: right;\">\n",
       "      <th></th>\n",
       "      <th>Constituency</th>\n",
       "      <th>Const. No.</th>\n",
       "      <th>Leading Candidate</th>\n",
       "      <th>Leading Party</th>\n",
       "      <th>Trailing Candidate</th>\n",
       "      <th>Trailing Party</th>\n",
       "      <th>Margin</th>\n",
       "      <th>Status</th>\n",
       "    </tr>\n",
       "  </thead>\n",
       "  <tbody>\n",
       "    <tr>\n",
       "      <th>0</th>\n",
       "      <td>Andaman &amp; Nicobar Islands</td>\n",
       "      <td>1</td>\n",
       "      <td>BISHNU PADA RAY</td>\n",
       "      <td>Bharatiya Janata Party</td>\n",
       "      <td>KULDEEP RAI SHARMA</td>\n",
       "      <td>Indian National Congress</td>\n",
       "      <td>24396</td>\n",
       "      <td>Result Declared</td>\n",
       "    </tr>\n",
       "    <tr>\n",
       "      <th>1</th>\n",
       "      <td>Chandigarh</td>\n",
       "      <td>1</td>\n",
       "      <td>MANISH TEWARI</td>\n",
       "      <td>Indian National Congress</td>\n",
       "      <td>SANJAY TANDON</td>\n",
       "      <td>Bharatiya Janata Party</td>\n",
       "      <td>2504</td>\n",
       "      <td>Result Declared</td>\n",
       "    </tr>\n",
       "    <tr>\n",
       "      <th>2</th>\n",
       "      <td>Dadar &amp; Nagar Haveli</td>\n",
       "      <td>2</td>\n",
       "      <td>DELKAR KALABEN MOHANBHAI</td>\n",
       "      <td>Bharatiya Janata Party</td>\n",
       "      <td>AJIT RAMJIBHAI MAHALA</td>\n",
       "      <td>Indian National Congress</td>\n",
       "      <td>57584</td>\n",
       "      <td>Result Declared</td>\n",
       "    </tr>\n",
       "    <tr>\n",
       "      <th>3</th>\n",
       "      <td>Daman &amp; Diu</td>\n",
       "      <td>1</td>\n",
       "      <td>PATEL UMESHBHAI BABUBHAI</td>\n",
       "      <td>Independent</td>\n",
       "      <td>LALUBHAI BABUBHAI PATEL</td>\n",
       "      <td>Bharatiya Janata Party</td>\n",
       "      <td>6225</td>\n",
       "      <td>Result Declared</td>\n",
       "    </tr>\n",
       "    <tr>\n",
       "      <th>4</th>\n",
       "      <td>Chandni Chowk</td>\n",
       "      <td>1</td>\n",
       "      <td>PRAVEEN KHANDELWAL</td>\n",
       "      <td>Bharatiya Janata Party</td>\n",
       "      <td>JAI PRAKASH AGARWAL</td>\n",
       "      <td>Indian National Congress</td>\n",
       "      <td>89325</td>\n",
       "      <td>Result Declared</td>\n",
       "    </tr>\n",
       "    <tr>\n",
       "      <th>5</th>\n",
       "      <td>East Delhi</td>\n",
       "      <td>3</td>\n",
       "      <td>HARSH MALHOTRA</td>\n",
       "      <td>Bharatiya Janata Party</td>\n",
       "      <td>KULDEEP KUMAR (MONU)</td>\n",
       "      <td>Aam Aadmi Party</td>\n",
       "      <td>93663</td>\n",
       "      <td>Result Declared</td>\n",
       "    </tr>\n",
       "    <tr>\n",
       "      <th>6</th>\n",
       "      <td>New Delhi</td>\n",
       "      <td>4</td>\n",
       "      <td>BANSURI SWARAJ</td>\n",
       "      <td>Bharatiya Janata Party</td>\n",
       "      <td>SOMNATH BHARTI</td>\n",
       "      <td>Aam Aadmi Party</td>\n",
       "      <td>78370</td>\n",
       "      <td>Result Declared</td>\n",
       "    </tr>\n",
       "    <tr>\n",
       "      <th>7</th>\n",
       "      <td>North-East Delhi</td>\n",
       "      <td>2</td>\n",
       "      <td>MANOJ TIWARI</td>\n",
       "      <td>Bharatiya Janata Party</td>\n",
       "      <td>KANHAIYA KUMAR</td>\n",
       "      <td>Indian National Congress</td>\n",
       "      <td>138778</td>\n",
       "      <td>Result Declared</td>\n",
       "    </tr>\n",
       "    <tr>\n",
       "      <th>8</th>\n",
       "      <td>North-West Delhi</td>\n",
       "      <td>5</td>\n",
       "      <td>YOGENDER CHANDOLIYA</td>\n",
       "      <td>Bharatiya Janata Party</td>\n",
       "      <td>UDIT RAJ</td>\n",
       "      <td>Indian National Congress</td>\n",
       "      <td>290849</td>\n",
       "      <td>Result Declared</td>\n",
       "    </tr>\n",
       "    <tr>\n",
       "      <th>9</th>\n",
       "      <td>South Delhi</td>\n",
       "      <td>7</td>\n",
       "      <td>RAMVIR SINGH BIDHURI</td>\n",
       "      <td>Bharatiya Janata Party</td>\n",
       "      <td>SAHI RAM</td>\n",
       "      <td>Aam Aadmi Party</td>\n",
       "      <td>124333</td>\n",
       "      <td>Result Declared</td>\n",
       "    </tr>\n",
       "    <tr>\n",
       "      <th>10</th>\n",
       "      <td>West Delhi</td>\n",
       "      <td>6</td>\n",
       "      <td>KAMALJEET SEHRAWAT</td>\n",
       "      <td>Bharatiya Janata Party</td>\n",
       "      <td>MAHABAL MISHRA</td>\n",
       "      <td>Aam Aadmi Party</td>\n",
       "      <td>199013</td>\n",
       "      <td>Result Declared</td>\n",
       "    </tr>\n",
       "    <tr>\n",
       "      <th>11</th>\n",
       "      <td>Lakshadweep</td>\n",
       "      <td>1</td>\n",
       "      <td>MUHAMMED HAMDULLAH SAYEED</td>\n",
       "      <td>Indian National Congress</td>\n",
       "      <td>MOHAMMED FAIZAL PP</td>\n",
       "      <td>Nationalist Congress Party – Sharadchandra Pawar</td>\n",
       "      <td>2647</td>\n",
       "      <td>Result Declared</td>\n",
       "    </tr>\n",
       "    <tr>\n",
       "      <th>12</th>\n",
       "      <td>PUDUCHERRY</td>\n",
       "      <td>1</td>\n",
       "      <td>VE VAITHILINGAM</td>\n",
       "      <td>Indian National Congress</td>\n",
       "      <td>A NAMASSIVAYAM</td>\n",
       "      <td>Bharatiya Janata Party</td>\n",
       "      <td>136516</td>\n",
       "      <td>Result Declared</td>\n",
       "    </tr>\n",
       "    <tr>\n",
       "      <th>13</th>\n",
       "      <td>ANANTNAG-RAJOURI</td>\n",
       "      <td>3</td>\n",
       "      <td>MIAN ALTAF AHMAD</td>\n",
       "      <td>Jammu &amp; Kashmir National Conference</td>\n",
       "      <td>MEHBOOBA MUFTI</td>\n",
       "      <td>Jammu &amp; Kashmir Peoples Democratic Party</td>\n",
       "      <td>281794</td>\n",
       "      <td>Result Declared</td>\n",
       "    </tr>\n",
       "    <tr>\n",
       "      <th>14</th>\n",
       "      <td>BARAMULLA</td>\n",
       "      <td>1</td>\n",
       "      <td>ABDUL RASHID SHEIKH</td>\n",
       "      <td>Independent</td>\n",
       "      <td>OMAR ABDULLAH</td>\n",
       "      <td>Jammu &amp; Kashmir National Conference</td>\n",
       "      <td>204142</td>\n",
       "      <td>Result Declared</td>\n",
       "    </tr>\n",
       "    <tr>\n",
       "      <th>15</th>\n",
       "      <td>JAMMU</td>\n",
       "      <td>5</td>\n",
       "      <td>JUGAL KISHORE</td>\n",
       "      <td>Bharatiya Janata Party</td>\n",
       "      <td>RAMAN BHALLA</td>\n",
       "      <td>Indian National Congress</td>\n",
       "      <td>135498</td>\n",
       "      <td>Result Declared</td>\n",
       "    </tr>\n",
       "    <tr>\n",
       "      <th>16</th>\n",
       "      <td>SRINAGAR</td>\n",
       "      <td>2</td>\n",
       "      <td>AGA SYED RUHULLAH MEHDI</td>\n",
       "      <td>Jammu &amp; Kashmir National Conference</td>\n",
       "      <td>WAHEED UR REHMAN PARA</td>\n",
       "      <td>Jammu &amp; Kashmir Peoples Democratic Party</td>\n",
       "      <td>188416</td>\n",
       "      <td>Result Declared</td>\n",
       "    </tr>\n",
       "    <tr>\n",
       "      <th>17</th>\n",
       "      <td>UDHAMPUR</td>\n",
       "      <td>4</td>\n",
       "      <td>DR JITENDRA SINGH</td>\n",
       "      <td>Bharatiya Janata Party</td>\n",
       "      <td>CH LAL SINGH</td>\n",
       "      <td>Indian National Congress</td>\n",
       "      <td>124373</td>\n",
       "      <td>Result Declared</td>\n",
       "    </tr>\n",
       "    <tr>\n",
       "      <th>18</th>\n",
       "      <td>Ladakh</td>\n",
       "      <td>1</td>\n",
       "      <td>MOHMAD HANEEFA</td>\n",
       "      <td>Independent</td>\n",
       "      <td>TSERING NAMGYAL</td>\n",
       "      <td>Indian National Congress</td>\n",
       "      <td>27862</td>\n",
       "      <td>Result Declared</td>\n",
       "    </tr>\n",
       "  </tbody>\n",
       "</table>\n",
       "</div>"
      ],
      "text/plain": [
       "                 Constituency Const. No.          Leading Candidate  \\\n",
       "0   Andaman & Nicobar Islands          1            BISHNU PADA RAY   \n",
       "1                  Chandigarh          1              MANISH TEWARI   \n",
       "2        Dadar & Nagar Haveli          2   DELKAR KALABEN MOHANBHAI   \n",
       "3                 Daman & Diu          1   PATEL UMESHBHAI BABUBHAI   \n",
       "4               Chandni Chowk          1         PRAVEEN KHANDELWAL   \n",
       "5                  East Delhi          3             HARSH MALHOTRA   \n",
       "6                   New Delhi          4             BANSURI SWARAJ   \n",
       "7            North-East Delhi          2               MANOJ TIWARI   \n",
       "8            North-West Delhi          5        YOGENDER CHANDOLIYA   \n",
       "9                 South Delhi          7       RAMVIR SINGH BIDHURI   \n",
       "10                 West Delhi          6         KAMALJEET SEHRAWAT   \n",
       "11                Lakshadweep          1  MUHAMMED HAMDULLAH SAYEED   \n",
       "12                 PUDUCHERRY          1            VE VAITHILINGAM   \n",
       "13           ANANTNAG-RAJOURI          3           MIAN ALTAF AHMAD   \n",
       "14                  BARAMULLA          1        ABDUL RASHID SHEIKH   \n",
       "15                      JAMMU          5              JUGAL KISHORE   \n",
       "16                   SRINAGAR          2    AGA SYED RUHULLAH MEHDI   \n",
       "17                   UDHAMPUR          4          DR JITENDRA SINGH   \n",
       "18                     Ladakh          1             MOHMAD HANEEFA   \n",
       "\n",
       "                          Leading Party       Trailing Candidate  \\\n",
       "0                Bharatiya Janata Party       KULDEEP RAI SHARMA   \n",
       "1              Indian National Congress            SANJAY TANDON   \n",
       "2                Bharatiya Janata Party    AJIT RAMJIBHAI MAHALA   \n",
       "3                           Independent  LALUBHAI BABUBHAI PATEL   \n",
       "4                Bharatiya Janata Party      JAI PRAKASH AGARWAL   \n",
       "5                Bharatiya Janata Party     KULDEEP KUMAR (MONU)   \n",
       "6                Bharatiya Janata Party           SOMNATH BHARTI   \n",
       "7                Bharatiya Janata Party           KANHAIYA KUMAR   \n",
       "8                Bharatiya Janata Party                 UDIT RAJ   \n",
       "9                Bharatiya Janata Party                 SAHI RAM   \n",
       "10               Bharatiya Janata Party           MAHABAL MISHRA   \n",
       "11             Indian National Congress       MOHAMMED FAIZAL PP   \n",
       "12             Indian National Congress           A NAMASSIVAYAM   \n",
       "13  Jammu & Kashmir National Conference           MEHBOOBA MUFTI   \n",
       "14                          Independent            OMAR ABDULLAH   \n",
       "15               Bharatiya Janata Party             RAMAN BHALLA   \n",
       "16  Jammu & Kashmir National Conference    WAHEED UR REHMAN PARA   \n",
       "17               Bharatiya Janata Party             CH LAL SINGH   \n",
       "18                          Independent          TSERING NAMGYAL   \n",
       "\n",
       "                                      Trailing Party  Margin           Status  \n",
       "0                           Indian National Congress   24396  Result Declared  \n",
       "1                             Bharatiya Janata Party    2504  Result Declared  \n",
       "2                           Indian National Congress   57584  Result Declared  \n",
       "3                             Bharatiya Janata Party    6225  Result Declared  \n",
       "4                           Indian National Congress   89325  Result Declared  \n",
       "5                                    Aam Aadmi Party   93663  Result Declared  \n",
       "6                                    Aam Aadmi Party   78370  Result Declared  \n",
       "7                           Indian National Congress  138778  Result Declared  \n",
       "8                           Indian National Congress  290849  Result Declared  \n",
       "9                                    Aam Aadmi Party  124333  Result Declared  \n",
       "10                                   Aam Aadmi Party  199013  Result Declared  \n",
       "11  Nationalist Congress Party – Sharadchandra Pawar    2647  Result Declared  \n",
       "12                            Bharatiya Janata Party  136516  Result Declared  \n",
       "13          Jammu & Kashmir Peoples Democratic Party  281794  Result Declared  \n",
       "14               Jammu & Kashmir National Conference  204142  Result Declared  \n",
       "15                          Indian National Congress  135498  Result Declared  \n",
       "16          Jammu & Kashmir Peoples Democratic Party  188416  Result Declared  \n",
       "17                          Indian National Congress  124373  Result Declared  \n",
       "18                          Indian National Congress   27862  Result Declared  "
      ]
     },
     "execution_count": 55,
     "metadata": {},
     "output_type": "execute_result"
    }
   ],
   "source": [
    "df"
   ]
  },
  {
   "cell_type": "code",
   "execution_count": 15,
   "id": "117789c0",
   "metadata": {},
   "outputs": [
    {
     "data": {
      "text/plain": [
       "Result Declared    19\n",
       "Name: Status, dtype: int64"
      ]
     },
     "execution_count": 15,
     "metadata": {},
     "output_type": "execute_result"
    }
   ],
   "source": [
    "df.Status.value_counts()"
   ]
  },
  {
   "cell_type": "code",
   "execution_count": 16,
   "id": "1bd342f2",
   "metadata": {},
   "outputs": [
    {
     "data": {
      "text/plain": [
       "Constituency          0\n",
       "Const. No.            0\n",
       "Leading Candidate     0\n",
       "Leading Party         0\n",
       "Trailing Candidate    0\n",
       "Trailing Party        0\n",
       "Margin                0\n",
       "Status                0\n",
       "dtype: int64"
      ]
     },
     "execution_count": 16,
     "metadata": {},
     "output_type": "execute_result"
    }
   ],
   "source": [
    "df.isna().sum()"
   ]
  },
  {
   "cell_type": "code",
   "execution_count": 56,
   "id": "fd18278f",
   "metadata": {},
   "outputs": [],
   "source": [
    "df = df.drop(['Status'],axis=\"columns\")"
   ]
  },
  {
   "cell_type": "code",
   "execution_count": 57,
   "id": "9a352e10",
   "metadata": {},
   "outputs": [],
   "source": [
    "df['Margin'] = pd.to_numeric(df['Margin'], errors='coerce')\n",
    "\n",
    "# Convert NaN to 0 (if needed)\n",
    "df['Margin'].fillna(0, inplace=True)\n",
    "\n",
    "# Convert to integer\n",
    "df['Margin'] = df['Margin'].astype(int)\n"
   ]
  },
  {
   "cell_type": "code",
   "execution_count": 58,
   "id": "52297d0b",
   "metadata": {},
   "outputs": [
    {
     "data": {
      "text/plain": [
       "Constituency          object\n",
       "Const. No.            object\n",
       "Leading Candidate     object\n",
       "Leading Party         object\n",
       "Trailing Candidate    object\n",
       "Trailing Party        object\n",
       "Margin                 int32\n",
       "dtype: object"
      ]
     },
     "execution_count": 58,
     "metadata": {},
     "output_type": "execute_result"
    }
   ],
   "source": [
    "df.dtypes"
   ]
  },
  {
   "cell_type": "code",
   "execution_count": 59,
   "id": "89bbbcc8",
   "metadata": {},
   "outputs": [
    {
     "data": {
      "text/html": [
       "<div>\n",
       "<style scoped>\n",
       "    .dataframe tbody tr th:only-of-type {\n",
       "        vertical-align: middle;\n",
       "    }\n",
       "\n",
       "    .dataframe tbody tr th {\n",
       "        vertical-align: top;\n",
       "    }\n",
       "\n",
       "    .dataframe thead th {\n",
       "        text-align: right;\n",
       "    }\n",
       "</style>\n",
       "<table border=\"1\" class=\"dataframe\">\n",
       "  <thead>\n",
       "    <tr style=\"text-align: right;\">\n",
       "      <th></th>\n",
       "      <th>Constituency</th>\n",
       "      <th>Const. No.</th>\n",
       "      <th>Leading Candidate</th>\n",
       "      <th>Leading Party</th>\n",
       "      <th>Trailing Candidate</th>\n",
       "      <th>Trailing Party</th>\n",
       "      <th>Margin</th>\n",
       "    </tr>\n",
       "  </thead>\n",
       "  <tbody>\n",
       "    <tr>\n",
       "      <th>0</th>\n",
       "      <td>Andaman &amp; Nicobar Islands</td>\n",
       "      <td>1</td>\n",
       "      <td>BISHNU PADA RAY</td>\n",
       "      <td>Bharatiya Janata Party</td>\n",
       "      <td>KULDEEP RAI SHARMA</td>\n",
       "      <td>Indian National Congress</td>\n",
       "      <td>24396</td>\n",
       "    </tr>\n",
       "    <tr>\n",
       "      <th>1</th>\n",
       "      <td>Chandigarh</td>\n",
       "      <td>1</td>\n",
       "      <td>MANISH TEWARI</td>\n",
       "      <td>Indian National Congress</td>\n",
       "      <td>SANJAY TANDON</td>\n",
       "      <td>Bharatiya Janata Party</td>\n",
       "      <td>2504</td>\n",
       "    </tr>\n",
       "    <tr>\n",
       "      <th>2</th>\n",
       "      <td>Dadar &amp; Nagar Haveli</td>\n",
       "      <td>2</td>\n",
       "      <td>DELKAR KALABEN MOHANBHAI</td>\n",
       "      <td>Bharatiya Janata Party</td>\n",
       "      <td>AJIT RAMJIBHAI MAHALA</td>\n",
       "      <td>Indian National Congress</td>\n",
       "      <td>57584</td>\n",
       "    </tr>\n",
       "    <tr>\n",
       "      <th>3</th>\n",
       "      <td>Daman &amp; Diu</td>\n",
       "      <td>1</td>\n",
       "      <td>PATEL UMESHBHAI BABUBHAI</td>\n",
       "      <td>Independent</td>\n",
       "      <td>LALUBHAI BABUBHAI PATEL</td>\n",
       "      <td>Bharatiya Janata Party</td>\n",
       "      <td>6225</td>\n",
       "    </tr>\n",
       "    <tr>\n",
       "      <th>4</th>\n",
       "      <td>Chandni Chowk</td>\n",
       "      <td>1</td>\n",
       "      <td>PRAVEEN KHANDELWAL</td>\n",
       "      <td>Bharatiya Janata Party</td>\n",
       "      <td>JAI PRAKASH AGARWAL</td>\n",
       "      <td>Indian National Congress</td>\n",
       "      <td>89325</td>\n",
       "    </tr>\n",
       "    <tr>\n",
       "      <th>5</th>\n",
       "      <td>East Delhi</td>\n",
       "      <td>3</td>\n",
       "      <td>HARSH MALHOTRA</td>\n",
       "      <td>Bharatiya Janata Party</td>\n",
       "      <td>KULDEEP KUMAR (MONU)</td>\n",
       "      <td>Aam Aadmi Party</td>\n",
       "      <td>93663</td>\n",
       "    </tr>\n",
       "    <tr>\n",
       "      <th>6</th>\n",
       "      <td>New Delhi</td>\n",
       "      <td>4</td>\n",
       "      <td>BANSURI SWARAJ</td>\n",
       "      <td>Bharatiya Janata Party</td>\n",
       "      <td>SOMNATH BHARTI</td>\n",
       "      <td>Aam Aadmi Party</td>\n",
       "      <td>78370</td>\n",
       "    </tr>\n",
       "    <tr>\n",
       "      <th>7</th>\n",
       "      <td>North-East Delhi</td>\n",
       "      <td>2</td>\n",
       "      <td>MANOJ TIWARI</td>\n",
       "      <td>Bharatiya Janata Party</td>\n",
       "      <td>KANHAIYA KUMAR</td>\n",
       "      <td>Indian National Congress</td>\n",
       "      <td>138778</td>\n",
       "    </tr>\n",
       "    <tr>\n",
       "      <th>8</th>\n",
       "      <td>North-West Delhi</td>\n",
       "      <td>5</td>\n",
       "      <td>YOGENDER CHANDOLIYA</td>\n",
       "      <td>Bharatiya Janata Party</td>\n",
       "      <td>UDIT RAJ</td>\n",
       "      <td>Indian National Congress</td>\n",
       "      <td>290849</td>\n",
       "    </tr>\n",
       "    <tr>\n",
       "      <th>9</th>\n",
       "      <td>South Delhi</td>\n",
       "      <td>7</td>\n",
       "      <td>RAMVIR SINGH BIDHURI</td>\n",
       "      <td>Bharatiya Janata Party</td>\n",
       "      <td>SAHI RAM</td>\n",
       "      <td>Aam Aadmi Party</td>\n",
       "      <td>124333</td>\n",
       "    </tr>\n",
       "    <tr>\n",
       "      <th>10</th>\n",
       "      <td>West Delhi</td>\n",
       "      <td>6</td>\n",
       "      <td>KAMALJEET SEHRAWAT</td>\n",
       "      <td>Bharatiya Janata Party</td>\n",
       "      <td>MAHABAL MISHRA</td>\n",
       "      <td>Aam Aadmi Party</td>\n",
       "      <td>199013</td>\n",
       "    </tr>\n",
       "    <tr>\n",
       "      <th>11</th>\n",
       "      <td>Lakshadweep</td>\n",
       "      <td>1</td>\n",
       "      <td>MUHAMMED HAMDULLAH SAYEED</td>\n",
       "      <td>Indian National Congress</td>\n",
       "      <td>MOHAMMED FAIZAL PP</td>\n",
       "      <td>Nationalist Congress Party – Sharadchandra Pawar</td>\n",
       "      <td>2647</td>\n",
       "    </tr>\n",
       "    <tr>\n",
       "      <th>12</th>\n",
       "      <td>PUDUCHERRY</td>\n",
       "      <td>1</td>\n",
       "      <td>VE VAITHILINGAM</td>\n",
       "      <td>Indian National Congress</td>\n",
       "      <td>A NAMASSIVAYAM</td>\n",
       "      <td>Bharatiya Janata Party</td>\n",
       "      <td>136516</td>\n",
       "    </tr>\n",
       "    <tr>\n",
       "      <th>13</th>\n",
       "      <td>ANANTNAG-RAJOURI</td>\n",
       "      <td>3</td>\n",
       "      <td>MIAN ALTAF AHMAD</td>\n",
       "      <td>Jammu &amp; Kashmir National Conference</td>\n",
       "      <td>MEHBOOBA MUFTI</td>\n",
       "      <td>Jammu &amp; Kashmir Peoples Democratic Party</td>\n",
       "      <td>281794</td>\n",
       "    </tr>\n",
       "    <tr>\n",
       "      <th>14</th>\n",
       "      <td>BARAMULLA</td>\n",
       "      <td>1</td>\n",
       "      <td>ABDUL RASHID SHEIKH</td>\n",
       "      <td>Independent</td>\n",
       "      <td>OMAR ABDULLAH</td>\n",
       "      <td>Jammu &amp; Kashmir National Conference</td>\n",
       "      <td>204142</td>\n",
       "    </tr>\n",
       "    <tr>\n",
       "      <th>15</th>\n",
       "      <td>JAMMU</td>\n",
       "      <td>5</td>\n",
       "      <td>JUGAL KISHORE</td>\n",
       "      <td>Bharatiya Janata Party</td>\n",
       "      <td>RAMAN BHALLA</td>\n",
       "      <td>Indian National Congress</td>\n",
       "      <td>135498</td>\n",
       "    </tr>\n",
       "    <tr>\n",
       "      <th>16</th>\n",
       "      <td>SRINAGAR</td>\n",
       "      <td>2</td>\n",
       "      <td>AGA SYED RUHULLAH MEHDI</td>\n",
       "      <td>Jammu &amp; Kashmir National Conference</td>\n",
       "      <td>WAHEED UR REHMAN PARA</td>\n",
       "      <td>Jammu &amp; Kashmir Peoples Democratic Party</td>\n",
       "      <td>188416</td>\n",
       "    </tr>\n",
       "    <tr>\n",
       "      <th>17</th>\n",
       "      <td>UDHAMPUR</td>\n",
       "      <td>4</td>\n",
       "      <td>DR JITENDRA SINGH</td>\n",
       "      <td>Bharatiya Janata Party</td>\n",
       "      <td>CH LAL SINGH</td>\n",
       "      <td>Indian National Congress</td>\n",
       "      <td>124373</td>\n",
       "    </tr>\n",
       "    <tr>\n",
       "      <th>18</th>\n",
       "      <td>Ladakh</td>\n",
       "      <td>1</td>\n",
       "      <td>MOHMAD HANEEFA</td>\n",
       "      <td>Independent</td>\n",
       "      <td>TSERING NAMGYAL</td>\n",
       "      <td>Indian National Congress</td>\n",
       "      <td>27862</td>\n",
       "    </tr>\n",
       "  </tbody>\n",
       "</table>\n",
       "</div>"
      ],
      "text/plain": [
       "                 Constituency Const. No.          Leading Candidate  \\\n",
       "0   Andaman & Nicobar Islands          1            BISHNU PADA RAY   \n",
       "1                  Chandigarh          1              MANISH TEWARI   \n",
       "2        Dadar & Nagar Haveli          2   DELKAR KALABEN MOHANBHAI   \n",
       "3                 Daman & Diu          1   PATEL UMESHBHAI BABUBHAI   \n",
       "4               Chandni Chowk          1         PRAVEEN KHANDELWAL   \n",
       "5                  East Delhi          3             HARSH MALHOTRA   \n",
       "6                   New Delhi          4             BANSURI SWARAJ   \n",
       "7            North-East Delhi          2               MANOJ TIWARI   \n",
       "8            North-West Delhi          5        YOGENDER CHANDOLIYA   \n",
       "9                 South Delhi          7       RAMVIR SINGH BIDHURI   \n",
       "10                 West Delhi          6         KAMALJEET SEHRAWAT   \n",
       "11                Lakshadweep          1  MUHAMMED HAMDULLAH SAYEED   \n",
       "12                 PUDUCHERRY          1            VE VAITHILINGAM   \n",
       "13           ANANTNAG-RAJOURI          3           MIAN ALTAF AHMAD   \n",
       "14                  BARAMULLA          1        ABDUL RASHID SHEIKH   \n",
       "15                      JAMMU          5              JUGAL KISHORE   \n",
       "16                   SRINAGAR          2    AGA SYED RUHULLAH MEHDI   \n",
       "17                   UDHAMPUR          4          DR JITENDRA SINGH   \n",
       "18                     Ladakh          1             MOHMAD HANEEFA   \n",
       "\n",
       "                          Leading Party       Trailing Candidate  \\\n",
       "0                Bharatiya Janata Party       KULDEEP RAI SHARMA   \n",
       "1              Indian National Congress            SANJAY TANDON   \n",
       "2                Bharatiya Janata Party    AJIT RAMJIBHAI MAHALA   \n",
       "3                           Independent  LALUBHAI BABUBHAI PATEL   \n",
       "4                Bharatiya Janata Party      JAI PRAKASH AGARWAL   \n",
       "5                Bharatiya Janata Party     KULDEEP KUMAR (MONU)   \n",
       "6                Bharatiya Janata Party           SOMNATH BHARTI   \n",
       "7                Bharatiya Janata Party           KANHAIYA KUMAR   \n",
       "8                Bharatiya Janata Party                 UDIT RAJ   \n",
       "9                Bharatiya Janata Party                 SAHI RAM   \n",
       "10               Bharatiya Janata Party           MAHABAL MISHRA   \n",
       "11             Indian National Congress       MOHAMMED FAIZAL PP   \n",
       "12             Indian National Congress           A NAMASSIVAYAM   \n",
       "13  Jammu & Kashmir National Conference           MEHBOOBA MUFTI   \n",
       "14                          Independent            OMAR ABDULLAH   \n",
       "15               Bharatiya Janata Party             RAMAN BHALLA   \n",
       "16  Jammu & Kashmir National Conference    WAHEED UR REHMAN PARA   \n",
       "17               Bharatiya Janata Party             CH LAL SINGH   \n",
       "18                          Independent          TSERING NAMGYAL   \n",
       "\n",
       "                                      Trailing Party  Margin  \n",
       "0                           Indian National Congress   24396  \n",
       "1                             Bharatiya Janata Party    2504  \n",
       "2                           Indian National Congress   57584  \n",
       "3                             Bharatiya Janata Party    6225  \n",
       "4                           Indian National Congress   89325  \n",
       "5                                    Aam Aadmi Party   93663  \n",
       "6                                    Aam Aadmi Party   78370  \n",
       "7                           Indian National Congress  138778  \n",
       "8                           Indian National Congress  290849  \n",
       "9                                    Aam Aadmi Party  124333  \n",
       "10                                   Aam Aadmi Party  199013  \n",
       "11  Nationalist Congress Party – Sharadchandra Pawar    2647  \n",
       "12                            Bharatiya Janata Party  136516  \n",
       "13          Jammu & Kashmir Peoples Democratic Party  281794  \n",
       "14               Jammu & Kashmir National Conference  204142  \n",
       "15                          Indian National Congress  135498  \n",
       "16          Jammu & Kashmir Peoples Democratic Party  188416  \n",
       "17                          Indian National Congress  124373  \n",
       "18                          Indian National Congress   27862  "
      ]
     },
     "execution_count": 59,
     "metadata": {},
     "output_type": "execute_result"
    }
   ],
   "source": [
    "df"
   ]
  },
  {
   "cell_type": "code",
   "execution_count": 21,
   "id": "e82df2ca",
   "metadata": {},
   "outputs": [
    {
     "data": {
      "text/plain": [
       "array(['Bharatiya Janata Party', 'Indian National Congress',\n",
       "       'Independent', 'Jammu & Kashmir National Conference'], dtype=object)"
      ]
     },
     "execution_count": 21,
     "metadata": {},
     "output_type": "execute_result"
    }
   ],
   "source": [
    "df['Leading Party'].unique()"
   ]
  },
  {
   "cell_type": "code",
   "execution_count": 22,
   "id": "90d48c8b",
   "metadata": {},
   "outputs": [
    {
     "data": {
      "text/html": [
       "        <script type=\"text/javascript\">\n",
       "        window.PlotlyConfig = {MathJaxConfig: 'local'};\n",
       "        if (window.MathJax && window.MathJax.Hub && window.MathJax.Hub.Config) {window.MathJax.Hub.Config({SVG: {font: \"STIX-Web\"}});}\n",
       "        if (typeof require !== 'undefined') {\n",
       "        require.undef(\"plotly\");\n",
       "        requirejs.config({\n",
       "            paths: {\n",
       "                'plotly': ['https://cdn.plot.ly/plotly-2.12.1.min']\n",
       "            }\n",
       "        });\n",
       "        require(['plotly'], function(Plotly) {\n",
       "            window._Plotly = Plotly;\n",
       "        });\n",
       "        }\n",
       "        </script>\n",
       "        "
      ]
     },
     "metadata": {},
     "output_type": "display_data"
    },
    {
     "data": {
      "application/vnd.plotly.v1+json": {
       "config": {
        "plotlyServerURL": "https://plot.ly"
       },
       "data": [
        {
         "alignmentgroup": "True",
         "hovertemplate": "Constituency=North-West Delhi<br>Leading Party=%{x}<br>Margin=%{y}<extra></extra>",
         "legendgroup": "North-West Delhi",
         "marker": {
          "color": "#636efa",
          "pattern": {
           "shape": ""
          }
         },
         "name": "North-West Delhi",
         "offsetgroup": "North-West Delhi",
         "orientation": "v",
         "showlegend": true,
         "textposition": "auto",
         "type": "bar",
         "x": [
          "Bharatiya Janata Party"
         ],
         "xaxis": "x",
         "y": [
          290849
         ],
         "yaxis": "y"
        },
        {
         "alignmentgroup": "True",
         "hovertemplate": "Constituency=ANANTNAG-RAJOURI<br>Leading Party=%{x}<br>Margin=%{y}<extra></extra>",
         "legendgroup": "ANANTNAG-RAJOURI",
         "marker": {
          "color": "#EF553B",
          "pattern": {
           "shape": ""
          }
         },
         "name": "ANANTNAG-RAJOURI",
         "offsetgroup": "ANANTNAG-RAJOURI",
         "orientation": "v",
         "showlegend": true,
         "textposition": "auto",
         "type": "bar",
         "x": [
          "Jammu & Kashmir National Conference"
         ],
         "xaxis": "x",
         "y": [
          281794
         ],
         "yaxis": "y"
        },
        {
         "alignmentgroup": "True",
         "hovertemplate": "Constituency=BARAMULLA<br>Leading Party=%{x}<br>Margin=%{y}<extra></extra>",
         "legendgroup": "BARAMULLA",
         "marker": {
          "color": "#00cc96",
          "pattern": {
           "shape": ""
          }
         },
         "name": "BARAMULLA",
         "offsetgroup": "BARAMULLA",
         "orientation": "v",
         "showlegend": true,
         "textposition": "auto",
         "type": "bar",
         "x": [
          "Independent"
         ],
         "xaxis": "x",
         "y": [
          204142
         ],
         "yaxis": "y"
        },
        {
         "alignmentgroup": "True",
         "hovertemplate": "Constituency=West Delhi<br>Leading Party=%{x}<br>Margin=%{y}<extra></extra>",
         "legendgroup": "West Delhi",
         "marker": {
          "color": "#ab63fa",
          "pattern": {
           "shape": ""
          }
         },
         "name": "West Delhi",
         "offsetgroup": "West Delhi",
         "orientation": "v",
         "showlegend": true,
         "textposition": "auto",
         "type": "bar",
         "x": [
          "Bharatiya Janata Party"
         ],
         "xaxis": "x",
         "y": [
          199013
         ],
         "yaxis": "y"
        },
        {
         "alignmentgroup": "True",
         "hovertemplate": "Constituency=SRINAGAR<br>Leading Party=%{x}<br>Margin=%{y}<extra></extra>",
         "legendgroup": "SRINAGAR",
         "marker": {
          "color": "#FFA15A",
          "pattern": {
           "shape": ""
          }
         },
         "name": "SRINAGAR",
         "offsetgroup": "SRINAGAR",
         "orientation": "v",
         "showlegend": true,
         "textposition": "auto",
         "type": "bar",
         "x": [
          "Jammu & Kashmir National Conference"
         ],
         "xaxis": "x",
         "y": [
          188416
         ],
         "yaxis": "y"
        },
        {
         "alignmentgroup": "True",
         "hovertemplate": "Constituency=North-East Delhi<br>Leading Party=%{x}<br>Margin=%{y}<extra></extra>",
         "legendgroup": "North-East Delhi",
         "marker": {
          "color": "#19d3f3",
          "pattern": {
           "shape": ""
          }
         },
         "name": "North-East Delhi",
         "offsetgroup": "North-East Delhi",
         "orientation": "v",
         "showlegend": true,
         "textposition": "auto",
         "type": "bar",
         "x": [
          "Bharatiya Janata Party"
         ],
         "xaxis": "x",
         "y": [
          138778
         ],
         "yaxis": "y"
        },
        {
         "alignmentgroup": "True",
         "hovertemplate": "Constituency=PUDUCHERRY<br>Leading Party=%{x}<br>Margin=%{y}<extra></extra>",
         "legendgroup": "PUDUCHERRY",
         "marker": {
          "color": "#FF6692",
          "pattern": {
           "shape": ""
          }
         },
         "name": "PUDUCHERRY",
         "offsetgroup": "PUDUCHERRY",
         "orientation": "v",
         "showlegend": true,
         "textposition": "auto",
         "type": "bar",
         "x": [
          "Indian National Congress"
         ],
         "xaxis": "x",
         "y": [
          136516
         ],
         "yaxis": "y"
        },
        {
         "alignmentgroup": "True",
         "hovertemplate": "Constituency=JAMMU<br>Leading Party=%{x}<br>Margin=%{y}<extra></extra>",
         "legendgroup": "JAMMU",
         "marker": {
          "color": "#B6E880",
          "pattern": {
           "shape": ""
          }
         },
         "name": "JAMMU",
         "offsetgroup": "JAMMU",
         "orientation": "v",
         "showlegend": true,
         "textposition": "auto",
         "type": "bar",
         "x": [
          "Bharatiya Janata Party"
         ],
         "xaxis": "x",
         "y": [
          135498
         ],
         "yaxis": "y"
        },
        {
         "alignmentgroup": "True",
         "hovertemplate": "Constituency=UDHAMPUR<br>Leading Party=%{x}<br>Margin=%{y}<extra></extra>",
         "legendgroup": "UDHAMPUR",
         "marker": {
          "color": "#FF97FF",
          "pattern": {
           "shape": ""
          }
         },
         "name": "UDHAMPUR",
         "offsetgroup": "UDHAMPUR",
         "orientation": "v",
         "showlegend": true,
         "textposition": "auto",
         "type": "bar",
         "x": [
          "Bharatiya Janata Party"
         ],
         "xaxis": "x",
         "y": [
          124373
         ],
         "yaxis": "y"
        },
        {
         "alignmentgroup": "True",
         "hovertemplate": "Constituency=South Delhi<br>Leading Party=%{x}<br>Margin=%{y}<extra></extra>",
         "legendgroup": "South Delhi",
         "marker": {
          "color": "#FECB52",
          "pattern": {
           "shape": ""
          }
         },
         "name": "South Delhi",
         "offsetgroup": "South Delhi",
         "orientation": "v",
         "showlegend": true,
         "textposition": "auto",
         "type": "bar",
         "x": [
          "Bharatiya Janata Party"
         ],
         "xaxis": "x",
         "y": [
          124333
         ],
         "yaxis": "y"
        },
        {
         "alignmentgroup": "True",
         "hovertemplate": "Constituency=East Delhi<br>Leading Party=%{x}<br>Margin=%{y}<extra></extra>",
         "legendgroup": "East Delhi",
         "marker": {
          "color": "#636efa",
          "pattern": {
           "shape": ""
          }
         },
         "name": "East Delhi",
         "offsetgroup": "East Delhi",
         "orientation": "v",
         "showlegend": true,
         "textposition": "auto",
         "type": "bar",
         "x": [
          "Bharatiya Janata Party"
         ],
         "xaxis": "x",
         "y": [
          93663
         ],
         "yaxis": "y"
        },
        {
         "alignmentgroup": "True",
         "hovertemplate": "Constituency=Chandni Chowk<br>Leading Party=%{x}<br>Margin=%{y}<extra></extra>",
         "legendgroup": "Chandni Chowk",
         "marker": {
          "color": "#EF553B",
          "pattern": {
           "shape": ""
          }
         },
         "name": "Chandni Chowk",
         "offsetgroup": "Chandni Chowk",
         "orientation": "v",
         "showlegend": true,
         "textposition": "auto",
         "type": "bar",
         "x": [
          "Bharatiya Janata Party"
         ],
         "xaxis": "x",
         "y": [
          89325
         ],
         "yaxis": "y"
        },
        {
         "alignmentgroup": "True",
         "hovertemplate": "Constituency=New Delhi<br>Leading Party=%{x}<br>Margin=%{y}<extra></extra>",
         "legendgroup": "New Delhi",
         "marker": {
          "color": "#00cc96",
          "pattern": {
           "shape": ""
          }
         },
         "name": "New Delhi",
         "offsetgroup": "New Delhi",
         "orientation": "v",
         "showlegend": true,
         "textposition": "auto",
         "type": "bar",
         "x": [
          "Bharatiya Janata Party"
         ],
         "xaxis": "x",
         "y": [
          78370
         ],
         "yaxis": "y"
        },
        {
         "alignmentgroup": "True",
         "hovertemplate": "Constituency=Dadar & Nagar Haveli<br>Leading Party=%{x}<br>Margin=%{y}<extra></extra>",
         "legendgroup": "Dadar & Nagar Haveli",
         "marker": {
          "color": "#ab63fa",
          "pattern": {
           "shape": ""
          }
         },
         "name": "Dadar & Nagar Haveli",
         "offsetgroup": "Dadar & Nagar Haveli",
         "orientation": "v",
         "showlegend": true,
         "textposition": "auto",
         "type": "bar",
         "x": [
          "Bharatiya Janata Party"
         ],
         "xaxis": "x",
         "y": [
          57584
         ],
         "yaxis": "y"
        },
        {
         "alignmentgroup": "True",
         "hovertemplate": "Constituency=Ladakh<br>Leading Party=%{x}<br>Margin=%{y}<extra></extra>",
         "legendgroup": "Ladakh",
         "marker": {
          "color": "#FFA15A",
          "pattern": {
           "shape": ""
          }
         },
         "name": "Ladakh",
         "offsetgroup": "Ladakh",
         "orientation": "v",
         "showlegend": true,
         "textposition": "auto",
         "type": "bar",
         "x": [
          "Independent"
         ],
         "xaxis": "x",
         "y": [
          27862
         ],
         "yaxis": "y"
        },
        {
         "alignmentgroup": "True",
         "hovertemplate": "Constituency=Andaman & Nicobar Islands<br>Leading Party=%{x}<br>Margin=%{y}<extra></extra>",
         "legendgroup": "Andaman & Nicobar Islands",
         "marker": {
          "color": "#19d3f3",
          "pattern": {
           "shape": ""
          }
         },
         "name": "Andaman & Nicobar Islands",
         "offsetgroup": "Andaman & Nicobar Islands",
         "orientation": "v",
         "showlegend": true,
         "textposition": "auto",
         "type": "bar",
         "x": [
          "Bharatiya Janata Party"
         ],
         "xaxis": "x",
         "y": [
          24396
         ],
         "yaxis": "y"
        },
        {
         "alignmentgroup": "True",
         "hovertemplate": "Constituency=Daman & Diu<br>Leading Party=%{x}<br>Margin=%{y}<extra></extra>",
         "legendgroup": "Daman & Diu",
         "marker": {
          "color": "#FF6692",
          "pattern": {
           "shape": ""
          }
         },
         "name": "Daman & Diu",
         "offsetgroup": "Daman & Diu",
         "orientation": "v",
         "showlegend": true,
         "textposition": "auto",
         "type": "bar",
         "x": [
          "Independent"
         ],
         "xaxis": "x",
         "y": [
          6225
         ],
         "yaxis": "y"
        },
        {
         "alignmentgroup": "True",
         "hovertemplate": "Constituency=Lakshadweep<br>Leading Party=%{x}<br>Margin=%{y}<extra></extra>",
         "legendgroup": "Lakshadweep",
         "marker": {
          "color": "#B6E880",
          "pattern": {
           "shape": ""
          }
         },
         "name": "Lakshadweep",
         "offsetgroup": "Lakshadweep",
         "orientation": "v",
         "showlegend": true,
         "textposition": "auto",
         "type": "bar",
         "x": [
          "Indian National Congress"
         ],
         "xaxis": "x",
         "y": [
          2647
         ],
         "yaxis": "y"
        },
        {
         "alignmentgroup": "True",
         "hovertemplate": "Constituency=Chandigarh<br>Leading Party=%{x}<br>Margin=%{y}<extra></extra>",
         "legendgroup": "Chandigarh",
         "marker": {
          "color": "#FF97FF",
          "pattern": {
           "shape": ""
          }
         },
         "name": "Chandigarh",
         "offsetgroup": "Chandigarh",
         "orientation": "v",
         "showlegend": true,
         "textposition": "auto",
         "type": "bar",
         "x": [
          "Indian National Congress"
         ],
         "xaxis": "x",
         "y": [
          2504
         ],
         "yaxis": "y"
        }
       ],
       "layout": {
        "barmode": "relative",
        "legend": {
         "title": {
          "text": "Constituency"
         },
         "tracegroupgap": 0
        },
        "template": {
         "data": {
          "bar": [
           {
            "error_x": {
             "color": "#2a3f5f"
            },
            "error_y": {
             "color": "#2a3f5f"
            },
            "marker": {
             "line": {
              "color": "#E5ECF6",
              "width": 0.5
             },
             "pattern": {
              "fillmode": "overlay",
              "size": 10,
              "solidity": 0.2
             }
            },
            "type": "bar"
           }
          ],
          "barpolar": [
           {
            "marker": {
             "line": {
              "color": "#E5ECF6",
              "width": 0.5
             },
             "pattern": {
              "fillmode": "overlay",
              "size": 10,
              "solidity": 0.2
             }
            },
            "type": "barpolar"
           }
          ],
          "carpet": [
           {
            "aaxis": {
             "endlinecolor": "#2a3f5f",
             "gridcolor": "white",
             "linecolor": "white",
             "minorgridcolor": "white",
             "startlinecolor": "#2a3f5f"
            },
            "baxis": {
             "endlinecolor": "#2a3f5f",
             "gridcolor": "white",
             "linecolor": "white",
             "minorgridcolor": "white",
             "startlinecolor": "#2a3f5f"
            },
            "type": "carpet"
           }
          ],
          "choropleth": [
           {
            "colorbar": {
             "outlinewidth": 0,
             "ticks": ""
            },
            "type": "choropleth"
           }
          ],
          "contour": [
           {
            "colorbar": {
             "outlinewidth": 0,
             "ticks": ""
            },
            "colorscale": [
             [
              0,
              "#0d0887"
             ],
             [
              0.1111111111111111,
              "#46039f"
             ],
             [
              0.2222222222222222,
              "#7201a8"
             ],
             [
              0.3333333333333333,
              "#9c179e"
             ],
             [
              0.4444444444444444,
              "#bd3786"
             ],
             [
              0.5555555555555556,
              "#d8576b"
             ],
             [
              0.6666666666666666,
              "#ed7953"
             ],
             [
              0.7777777777777778,
              "#fb9f3a"
             ],
             [
              0.8888888888888888,
              "#fdca26"
             ],
             [
              1,
              "#f0f921"
             ]
            ],
            "type": "contour"
           }
          ],
          "contourcarpet": [
           {
            "colorbar": {
             "outlinewidth": 0,
             "ticks": ""
            },
            "type": "contourcarpet"
           }
          ],
          "heatmap": [
           {
            "colorbar": {
             "outlinewidth": 0,
             "ticks": ""
            },
            "colorscale": [
             [
              0,
              "#0d0887"
             ],
             [
              0.1111111111111111,
              "#46039f"
             ],
             [
              0.2222222222222222,
              "#7201a8"
             ],
             [
              0.3333333333333333,
              "#9c179e"
             ],
             [
              0.4444444444444444,
              "#bd3786"
             ],
             [
              0.5555555555555556,
              "#d8576b"
             ],
             [
              0.6666666666666666,
              "#ed7953"
             ],
             [
              0.7777777777777778,
              "#fb9f3a"
             ],
             [
              0.8888888888888888,
              "#fdca26"
             ],
             [
              1,
              "#f0f921"
             ]
            ],
            "type": "heatmap"
           }
          ],
          "heatmapgl": [
           {
            "colorbar": {
             "outlinewidth": 0,
             "ticks": ""
            },
            "colorscale": [
             [
              0,
              "#0d0887"
             ],
             [
              0.1111111111111111,
              "#46039f"
             ],
             [
              0.2222222222222222,
              "#7201a8"
             ],
             [
              0.3333333333333333,
              "#9c179e"
             ],
             [
              0.4444444444444444,
              "#bd3786"
             ],
             [
              0.5555555555555556,
              "#d8576b"
             ],
             [
              0.6666666666666666,
              "#ed7953"
             ],
             [
              0.7777777777777778,
              "#fb9f3a"
             ],
             [
              0.8888888888888888,
              "#fdca26"
             ],
             [
              1,
              "#f0f921"
             ]
            ],
            "type": "heatmapgl"
           }
          ],
          "histogram": [
           {
            "marker": {
             "pattern": {
              "fillmode": "overlay",
              "size": 10,
              "solidity": 0.2
             }
            },
            "type": "histogram"
           }
          ],
          "histogram2d": [
           {
            "colorbar": {
             "outlinewidth": 0,
             "ticks": ""
            },
            "colorscale": [
             [
              0,
              "#0d0887"
             ],
             [
              0.1111111111111111,
              "#46039f"
             ],
             [
              0.2222222222222222,
              "#7201a8"
             ],
             [
              0.3333333333333333,
              "#9c179e"
             ],
             [
              0.4444444444444444,
              "#bd3786"
             ],
             [
              0.5555555555555556,
              "#d8576b"
             ],
             [
              0.6666666666666666,
              "#ed7953"
             ],
             [
              0.7777777777777778,
              "#fb9f3a"
             ],
             [
              0.8888888888888888,
              "#fdca26"
             ],
             [
              1,
              "#f0f921"
             ]
            ],
            "type": "histogram2d"
           }
          ],
          "histogram2dcontour": [
           {
            "colorbar": {
             "outlinewidth": 0,
             "ticks": ""
            },
            "colorscale": [
             [
              0,
              "#0d0887"
             ],
             [
              0.1111111111111111,
              "#46039f"
             ],
             [
              0.2222222222222222,
              "#7201a8"
             ],
             [
              0.3333333333333333,
              "#9c179e"
             ],
             [
              0.4444444444444444,
              "#bd3786"
             ],
             [
              0.5555555555555556,
              "#d8576b"
             ],
             [
              0.6666666666666666,
              "#ed7953"
             ],
             [
              0.7777777777777778,
              "#fb9f3a"
             ],
             [
              0.8888888888888888,
              "#fdca26"
             ],
             [
              1,
              "#f0f921"
             ]
            ],
            "type": "histogram2dcontour"
           }
          ],
          "mesh3d": [
           {
            "colorbar": {
             "outlinewidth": 0,
             "ticks": ""
            },
            "type": "mesh3d"
           }
          ],
          "parcoords": [
           {
            "line": {
             "colorbar": {
              "outlinewidth": 0,
              "ticks": ""
             }
            },
            "type": "parcoords"
           }
          ],
          "pie": [
           {
            "automargin": true,
            "type": "pie"
           }
          ],
          "scatter": [
           {
            "fillpattern": {
             "fillmode": "overlay",
             "size": 10,
             "solidity": 0.2
            },
            "type": "scatter"
           }
          ],
          "scatter3d": [
           {
            "line": {
             "colorbar": {
              "outlinewidth": 0,
              "ticks": ""
             }
            },
            "marker": {
             "colorbar": {
              "outlinewidth": 0,
              "ticks": ""
             }
            },
            "type": "scatter3d"
           }
          ],
          "scattercarpet": [
           {
            "marker": {
             "colorbar": {
              "outlinewidth": 0,
              "ticks": ""
             }
            },
            "type": "scattercarpet"
           }
          ],
          "scattergeo": [
           {
            "marker": {
             "colorbar": {
              "outlinewidth": 0,
              "ticks": ""
             }
            },
            "type": "scattergeo"
           }
          ],
          "scattergl": [
           {
            "marker": {
             "colorbar": {
              "outlinewidth": 0,
              "ticks": ""
             }
            },
            "type": "scattergl"
           }
          ],
          "scattermapbox": [
           {
            "marker": {
             "colorbar": {
              "outlinewidth": 0,
              "ticks": ""
             }
            },
            "type": "scattermapbox"
           }
          ],
          "scatterpolar": [
           {
            "marker": {
             "colorbar": {
              "outlinewidth": 0,
              "ticks": ""
             }
            },
            "type": "scatterpolar"
           }
          ],
          "scatterpolargl": [
           {
            "marker": {
             "colorbar": {
              "outlinewidth": 0,
              "ticks": ""
             }
            },
            "type": "scatterpolargl"
           }
          ],
          "scatterternary": [
           {
            "marker": {
             "colorbar": {
              "outlinewidth": 0,
              "ticks": ""
             }
            },
            "type": "scatterternary"
           }
          ],
          "surface": [
           {
            "colorbar": {
             "outlinewidth": 0,
             "ticks": ""
            },
            "colorscale": [
             [
              0,
              "#0d0887"
             ],
             [
              0.1111111111111111,
              "#46039f"
             ],
             [
              0.2222222222222222,
              "#7201a8"
             ],
             [
              0.3333333333333333,
              "#9c179e"
             ],
             [
              0.4444444444444444,
              "#bd3786"
             ],
             [
              0.5555555555555556,
              "#d8576b"
             ],
             [
              0.6666666666666666,
              "#ed7953"
             ],
             [
              0.7777777777777778,
              "#fb9f3a"
             ],
             [
              0.8888888888888888,
              "#fdca26"
             ],
             [
              1,
              "#f0f921"
             ]
            ],
            "type": "surface"
           }
          ],
          "table": [
           {
            "cells": {
             "fill": {
              "color": "#EBF0F8"
             },
             "line": {
              "color": "white"
             }
            },
            "header": {
             "fill": {
              "color": "#C8D4E3"
             },
             "line": {
              "color": "white"
             }
            },
            "type": "table"
           }
          ]
         },
         "layout": {
          "annotationdefaults": {
           "arrowcolor": "#2a3f5f",
           "arrowhead": 0,
           "arrowwidth": 1
          },
          "autotypenumbers": "strict",
          "coloraxis": {
           "colorbar": {
            "outlinewidth": 0,
            "ticks": ""
           }
          },
          "colorscale": {
           "diverging": [
            [
             0,
             "#8e0152"
            ],
            [
             0.1,
             "#c51b7d"
            ],
            [
             0.2,
             "#de77ae"
            ],
            [
             0.3,
             "#f1b6da"
            ],
            [
             0.4,
             "#fde0ef"
            ],
            [
             0.5,
             "#f7f7f7"
            ],
            [
             0.6,
             "#e6f5d0"
            ],
            [
             0.7,
             "#b8e186"
            ],
            [
             0.8,
             "#7fbc41"
            ],
            [
             0.9,
             "#4d9221"
            ],
            [
             1,
             "#276419"
            ]
           ],
           "sequential": [
            [
             0,
             "#0d0887"
            ],
            [
             0.1111111111111111,
             "#46039f"
            ],
            [
             0.2222222222222222,
             "#7201a8"
            ],
            [
             0.3333333333333333,
             "#9c179e"
            ],
            [
             0.4444444444444444,
             "#bd3786"
            ],
            [
             0.5555555555555556,
             "#d8576b"
            ],
            [
             0.6666666666666666,
             "#ed7953"
            ],
            [
             0.7777777777777778,
             "#fb9f3a"
            ],
            [
             0.8888888888888888,
             "#fdca26"
            ],
            [
             1,
             "#f0f921"
            ]
           ],
           "sequentialminus": [
            [
             0,
             "#0d0887"
            ],
            [
             0.1111111111111111,
             "#46039f"
            ],
            [
             0.2222222222222222,
             "#7201a8"
            ],
            [
             0.3333333333333333,
             "#9c179e"
            ],
            [
             0.4444444444444444,
             "#bd3786"
            ],
            [
             0.5555555555555556,
             "#d8576b"
            ],
            [
             0.6666666666666666,
             "#ed7953"
            ],
            [
             0.7777777777777778,
             "#fb9f3a"
            ],
            [
             0.8888888888888888,
             "#fdca26"
            ],
            [
             1,
             "#f0f921"
            ]
           ]
          },
          "colorway": [
           "#636efa",
           "#EF553B",
           "#00cc96",
           "#ab63fa",
           "#FFA15A",
           "#19d3f3",
           "#FF6692",
           "#B6E880",
           "#FF97FF",
           "#FECB52"
          ],
          "font": {
           "color": "#2a3f5f"
          },
          "geo": {
           "bgcolor": "white",
           "lakecolor": "white",
           "landcolor": "#E5ECF6",
           "showlakes": true,
           "showland": true,
           "subunitcolor": "white"
          },
          "hoverlabel": {
           "align": "left"
          },
          "hovermode": "closest",
          "mapbox": {
           "style": "light"
          },
          "paper_bgcolor": "white",
          "plot_bgcolor": "#E5ECF6",
          "polar": {
           "angularaxis": {
            "gridcolor": "white",
            "linecolor": "white",
            "ticks": ""
           },
           "bgcolor": "#E5ECF6",
           "radialaxis": {
            "gridcolor": "white",
            "linecolor": "white",
            "ticks": ""
           }
          },
          "scene": {
           "xaxis": {
            "backgroundcolor": "#E5ECF6",
            "gridcolor": "white",
            "gridwidth": 2,
            "linecolor": "white",
            "showbackground": true,
            "ticks": "",
            "zerolinecolor": "white"
           },
           "yaxis": {
            "backgroundcolor": "#E5ECF6",
            "gridcolor": "white",
            "gridwidth": 2,
            "linecolor": "white",
            "showbackground": true,
            "ticks": "",
            "zerolinecolor": "white"
           },
           "zaxis": {
            "backgroundcolor": "#E5ECF6",
            "gridcolor": "white",
            "gridwidth": 2,
            "linecolor": "white",
            "showbackground": true,
            "ticks": "",
            "zerolinecolor": "white"
           }
          },
          "shapedefaults": {
           "line": {
            "color": "#2a3f5f"
           }
          },
          "ternary": {
           "aaxis": {
            "gridcolor": "white",
            "linecolor": "white",
            "ticks": ""
           },
           "baxis": {
            "gridcolor": "white",
            "linecolor": "white",
            "ticks": ""
           },
           "bgcolor": "#E5ECF6",
           "caxis": {
            "gridcolor": "white",
            "linecolor": "white",
            "ticks": ""
           }
          },
          "title": {
           "x": 0.05
          },
          "xaxis": {
           "automargin": true,
           "gridcolor": "white",
           "linecolor": "white",
           "ticks": "",
           "title": {
            "standoff": 15
           },
           "zerolinecolor": "white",
           "zerolinewidth": 2
          },
          "yaxis": {
           "automargin": true,
           "gridcolor": "white",
           "linecolor": "white",
           "ticks": "",
           "title": {
            "standoff": 15
           },
           "zerolinecolor": "white",
           "zerolinewidth": 2
          }
         }
        },
        "title": {
         "text": "Top margin Achieved by party"
        },
        "xaxis": {
         "anchor": "y",
         "domain": [
          0,
          1
         ],
         "title": {
          "text": "Leading Party"
         }
        },
        "yaxis": {
         "anchor": "x",
         "domain": [
          0,
          1
         ],
         "title": {
          "text": "Margin"
         }
        }
       }
      },
      "text/html": [
       "<div>                            <div id=\"7779e425-cf0d-4cd4-8506-6bb48fcf335e\" class=\"plotly-graph-div\" style=\"height:525px; width:100%;\"></div>            <script type=\"text/javascript\">                require([\"plotly\"], function(Plotly) {                    window.PLOTLYENV=window.PLOTLYENV || {};                                    if (document.getElementById(\"7779e425-cf0d-4cd4-8506-6bb48fcf335e\")) {                    Plotly.newPlot(                        \"7779e425-cf0d-4cd4-8506-6bb48fcf335e\",                        [{\"alignmentgroup\":\"True\",\"hovertemplate\":\"Constituency=North-West Delhi<br>Leading Party=%{x}<br>Margin=%{y}<extra></extra>\",\"legendgroup\":\"North-West Delhi\",\"marker\":{\"color\":\"#636efa\",\"pattern\":{\"shape\":\"\"}},\"name\":\"North-West Delhi\",\"offsetgroup\":\"North-West Delhi\",\"orientation\":\"v\",\"showlegend\":true,\"textposition\":\"auto\",\"x\":[\"Bharatiya Janata Party\"],\"xaxis\":\"x\",\"y\":[290849],\"yaxis\":\"y\",\"type\":\"bar\"},{\"alignmentgroup\":\"True\",\"hovertemplate\":\"Constituency=ANANTNAG-RAJOURI<br>Leading Party=%{x}<br>Margin=%{y}<extra></extra>\",\"legendgroup\":\"ANANTNAG-RAJOURI\",\"marker\":{\"color\":\"#EF553B\",\"pattern\":{\"shape\":\"\"}},\"name\":\"ANANTNAG-RAJOURI\",\"offsetgroup\":\"ANANTNAG-RAJOURI\",\"orientation\":\"v\",\"showlegend\":true,\"textposition\":\"auto\",\"x\":[\"Jammu & Kashmir National Conference\"],\"xaxis\":\"x\",\"y\":[281794],\"yaxis\":\"y\",\"type\":\"bar\"},{\"alignmentgroup\":\"True\",\"hovertemplate\":\"Constituency=BARAMULLA<br>Leading Party=%{x}<br>Margin=%{y}<extra></extra>\",\"legendgroup\":\"BARAMULLA\",\"marker\":{\"color\":\"#00cc96\",\"pattern\":{\"shape\":\"\"}},\"name\":\"BARAMULLA\",\"offsetgroup\":\"BARAMULLA\",\"orientation\":\"v\",\"showlegend\":true,\"textposition\":\"auto\",\"x\":[\"Independent\"],\"xaxis\":\"x\",\"y\":[204142],\"yaxis\":\"y\",\"type\":\"bar\"},{\"alignmentgroup\":\"True\",\"hovertemplate\":\"Constituency=West Delhi<br>Leading Party=%{x}<br>Margin=%{y}<extra></extra>\",\"legendgroup\":\"West Delhi\",\"marker\":{\"color\":\"#ab63fa\",\"pattern\":{\"shape\":\"\"}},\"name\":\"West Delhi\",\"offsetgroup\":\"West Delhi\",\"orientation\":\"v\",\"showlegend\":true,\"textposition\":\"auto\",\"x\":[\"Bharatiya Janata Party\"],\"xaxis\":\"x\",\"y\":[199013],\"yaxis\":\"y\",\"type\":\"bar\"},{\"alignmentgroup\":\"True\",\"hovertemplate\":\"Constituency=SRINAGAR<br>Leading Party=%{x}<br>Margin=%{y}<extra></extra>\",\"legendgroup\":\"SRINAGAR\",\"marker\":{\"color\":\"#FFA15A\",\"pattern\":{\"shape\":\"\"}},\"name\":\"SRINAGAR\",\"offsetgroup\":\"SRINAGAR\",\"orientation\":\"v\",\"showlegend\":true,\"textposition\":\"auto\",\"x\":[\"Jammu & Kashmir National Conference\"],\"xaxis\":\"x\",\"y\":[188416],\"yaxis\":\"y\",\"type\":\"bar\"},{\"alignmentgroup\":\"True\",\"hovertemplate\":\"Constituency=North-East Delhi<br>Leading Party=%{x}<br>Margin=%{y}<extra></extra>\",\"legendgroup\":\"North-East Delhi\",\"marker\":{\"color\":\"#19d3f3\",\"pattern\":{\"shape\":\"\"}},\"name\":\"North-East Delhi\",\"offsetgroup\":\"North-East Delhi\",\"orientation\":\"v\",\"showlegend\":true,\"textposition\":\"auto\",\"x\":[\"Bharatiya Janata Party\"],\"xaxis\":\"x\",\"y\":[138778],\"yaxis\":\"y\",\"type\":\"bar\"},{\"alignmentgroup\":\"True\",\"hovertemplate\":\"Constituency=PUDUCHERRY<br>Leading Party=%{x}<br>Margin=%{y}<extra></extra>\",\"legendgroup\":\"PUDUCHERRY\",\"marker\":{\"color\":\"#FF6692\",\"pattern\":{\"shape\":\"\"}},\"name\":\"PUDUCHERRY\",\"offsetgroup\":\"PUDUCHERRY\",\"orientation\":\"v\",\"showlegend\":true,\"textposition\":\"auto\",\"x\":[\"Indian National Congress\"],\"xaxis\":\"x\",\"y\":[136516],\"yaxis\":\"y\",\"type\":\"bar\"},{\"alignmentgroup\":\"True\",\"hovertemplate\":\"Constituency=JAMMU<br>Leading Party=%{x}<br>Margin=%{y}<extra></extra>\",\"legendgroup\":\"JAMMU\",\"marker\":{\"color\":\"#B6E880\",\"pattern\":{\"shape\":\"\"}},\"name\":\"JAMMU\",\"offsetgroup\":\"JAMMU\",\"orientation\":\"v\",\"showlegend\":true,\"textposition\":\"auto\",\"x\":[\"Bharatiya Janata Party\"],\"xaxis\":\"x\",\"y\":[135498],\"yaxis\":\"y\",\"type\":\"bar\"},{\"alignmentgroup\":\"True\",\"hovertemplate\":\"Constituency=UDHAMPUR<br>Leading Party=%{x}<br>Margin=%{y}<extra></extra>\",\"legendgroup\":\"UDHAMPUR\",\"marker\":{\"color\":\"#FF97FF\",\"pattern\":{\"shape\":\"\"}},\"name\":\"UDHAMPUR\",\"offsetgroup\":\"UDHAMPUR\",\"orientation\":\"v\",\"showlegend\":true,\"textposition\":\"auto\",\"x\":[\"Bharatiya Janata Party\"],\"xaxis\":\"x\",\"y\":[124373],\"yaxis\":\"y\",\"type\":\"bar\"},{\"alignmentgroup\":\"True\",\"hovertemplate\":\"Constituency=South Delhi<br>Leading Party=%{x}<br>Margin=%{y}<extra></extra>\",\"legendgroup\":\"South Delhi\",\"marker\":{\"color\":\"#FECB52\",\"pattern\":{\"shape\":\"\"}},\"name\":\"South Delhi\",\"offsetgroup\":\"South Delhi\",\"orientation\":\"v\",\"showlegend\":true,\"textposition\":\"auto\",\"x\":[\"Bharatiya Janata Party\"],\"xaxis\":\"x\",\"y\":[124333],\"yaxis\":\"y\",\"type\":\"bar\"},{\"alignmentgroup\":\"True\",\"hovertemplate\":\"Constituency=East Delhi<br>Leading Party=%{x}<br>Margin=%{y}<extra></extra>\",\"legendgroup\":\"East Delhi\",\"marker\":{\"color\":\"#636efa\",\"pattern\":{\"shape\":\"\"}},\"name\":\"East Delhi\",\"offsetgroup\":\"East Delhi\",\"orientation\":\"v\",\"showlegend\":true,\"textposition\":\"auto\",\"x\":[\"Bharatiya Janata Party\"],\"xaxis\":\"x\",\"y\":[93663],\"yaxis\":\"y\",\"type\":\"bar\"},{\"alignmentgroup\":\"True\",\"hovertemplate\":\"Constituency=Chandni Chowk<br>Leading Party=%{x}<br>Margin=%{y}<extra></extra>\",\"legendgroup\":\"Chandni Chowk\",\"marker\":{\"color\":\"#EF553B\",\"pattern\":{\"shape\":\"\"}},\"name\":\"Chandni Chowk\",\"offsetgroup\":\"Chandni Chowk\",\"orientation\":\"v\",\"showlegend\":true,\"textposition\":\"auto\",\"x\":[\"Bharatiya Janata Party\"],\"xaxis\":\"x\",\"y\":[89325],\"yaxis\":\"y\",\"type\":\"bar\"},{\"alignmentgroup\":\"True\",\"hovertemplate\":\"Constituency=New Delhi<br>Leading Party=%{x}<br>Margin=%{y}<extra></extra>\",\"legendgroup\":\"New Delhi\",\"marker\":{\"color\":\"#00cc96\",\"pattern\":{\"shape\":\"\"}},\"name\":\"New Delhi\",\"offsetgroup\":\"New Delhi\",\"orientation\":\"v\",\"showlegend\":true,\"textposition\":\"auto\",\"x\":[\"Bharatiya Janata Party\"],\"xaxis\":\"x\",\"y\":[78370],\"yaxis\":\"y\",\"type\":\"bar\"},{\"alignmentgroup\":\"True\",\"hovertemplate\":\"Constituency=Dadar & Nagar Haveli<br>Leading Party=%{x}<br>Margin=%{y}<extra></extra>\",\"legendgroup\":\"Dadar & Nagar Haveli\",\"marker\":{\"color\":\"#ab63fa\",\"pattern\":{\"shape\":\"\"}},\"name\":\"Dadar & Nagar Haveli\",\"offsetgroup\":\"Dadar & Nagar Haveli\",\"orientation\":\"v\",\"showlegend\":true,\"textposition\":\"auto\",\"x\":[\"Bharatiya Janata Party\"],\"xaxis\":\"x\",\"y\":[57584],\"yaxis\":\"y\",\"type\":\"bar\"},{\"alignmentgroup\":\"True\",\"hovertemplate\":\"Constituency=Ladakh<br>Leading Party=%{x}<br>Margin=%{y}<extra></extra>\",\"legendgroup\":\"Ladakh\",\"marker\":{\"color\":\"#FFA15A\",\"pattern\":{\"shape\":\"\"}},\"name\":\"Ladakh\",\"offsetgroup\":\"Ladakh\",\"orientation\":\"v\",\"showlegend\":true,\"textposition\":\"auto\",\"x\":[\"Independent\"],\"xaxis\":\"x\",\"y\":[27862],\"yaxis\":\"y\",\"type\":\"bar\"},{\"alignmentgroup\":\"True\",\"hovertemplate\":\"Constituency=Andaman & Nicobar Islands<br>Leading Party=%{x}<br>Margin=%{y}<extra></extra>\",\"legendgroup\":\"Andaman & Nicobar Islands\",\"marker\":{\"color\":\"#19d3f3\",\"pattern\":{\"shape\":\"\"}},\"name\":\"Andaman & Nicobar Islands\",\"offsetgroup\":\"Andaman & Nicobar Islands\",\"orientation\":\"v\",\"showlegend\":true,\"textposition\":\"auto\",\"x\":[\"Bharatiya Janata Party\"],\"xaxis\":\"x\",\"y\":[24396],\"yaxis\":\"y\",\"type\":\"bar\"},{\"alignmentgroup\":\"True\",\"hovertemplate\":\"Constituency=Daman & Diu<br>Leading Party=%{x}<br>Margin=%{y}<extra></extra>\",\"legendgroup\":\"Daman & Diu\",\"marker\":{\"color\":\"#FF6692\",\"pattern\":{\"shape\":\"\"}},\"name\":\"Daman & Diu\",\"offsetgroup\":\"Daman & Diu\",\"orientation\":\"v\",\"showlegend\":true,\"textposition\":\"auto\",\"x\":[\"Independent\"],\"xaxis\":\"x\",\"y\":[6225],\"yaxis\":\"y\",\"type\":\"bar\"},{\"alignmentgroup\":\"True\",\"hovertemplate\":\"Constituency=Lakshadweep<br>Leading Party=%{x}<br>Margin=%{y}<extra></extra>\",\"legendgroup\":\"Lakshadweep\",\"marker\":{\"color\":\"#B6E880\",\"pattern\":{\"shape\":\"\"}},\"name\":\"Lakshadweep\",\"offsetgroup\":\"Lakshadweep\",\"orientation\":\"v\",\"showlegend\":true,\"textposition\":\"auto\",\"x\":[\"Indian National Congress\"],\"xaxis\":\"x\",\"y\":[2647],\"yaxis\":\"y\",\"type\":\"bar\"},{\"alignmentgroup\":\"True\",\"hovertemplate\":\"Constituency=Chandigarh<br>Leading Party=%{x}<br>Margin=%{y}<extra></extra>\",\"legendgroup\":\"Chandigarh\",\"marker\":{\"color\":\"#FF97FF\",\"pattern\":{\"shape\":\"\"}},\"name\":\"Chandigarh\",\"offsetgroup\":\"Chandigarh\",\"orientation\":\"v\",\"showlegend\":true,\"textposition\":\"auto\",\"x\":[\"Indian National Congress\"],\"xaxis\":\"x\",\"y\":[2504],\"yaxis\":\"y\",\"type\":\"bar\"}],                        {\"template\":{\"data\":{\"histogram2dcontour\":[{\"type\":\"histogram2dcontour\",\"colorbar\":{\"outlinewidth\":0,\"ticks\":\"\"},\"colorscale\":[[0.0,\"#0d0887\"],[0.1111111111111111,\"#46039f\"],[0.2222222222222222,\"#7201a8\"],[0.3333333333333333,\"#9c179e\"],[0.4444444444444444,\"#bd3786\"],[0.5555555555555556,\"#d8576b\"],[0.6666666666666666,\"#ed7953\"],[0.7777777777777778,\"#fb9f3a\"],[0.8888888888888888,\"#fdca26\"],[1.0,\"#f0f921\"]]}],\"choropleth\":[{\"type\":\"choropleth\",\"colorbar\":{\"outlinewidth\":0,\"ticks\":\"\"}}],\"histogram2d\":[{\"type\":\"histogram2d\",\"colorbar\":{\"outlinewidth\":0,\"ticks\":\"\"},\"colorscale\":[[0.0,\"#0d0887\"],[0.1111111111111111,\"#46039f\"],[0.2222222222222222,\"#7201a8\"],[0.3333333333333333,\"#9c179e\"],[0.4444444444444444,\"#bd3786\"],[0.5555555555555556,\"#d8576b\"],[0.6666666666666666,\"#ed7953\"],[0.7777777777777778,\"#fb9f3a\"],[0.8888888888888888,\"#fdca26\"],[1.0,\"#f0f921\"]]}],\"heatmap\":[{\"type\":\"heatmap\",\"colorbar\":{\"outlinewidth\":0,\"ticks\":\"\"},\"colorscale\":[[0.0,\"#0d0887\"],[0.1111111111111111,\"#46039f\"],[0.2222222222222222,\"#7201a8\"],[0.3333333333333333,\"#9c179e\"],[0.4444444444444444,\"#bd3786\"],[0.5555555555555556,\"#d8576b\"],[0.6666666666666666,\"#ed7953\"],[0.7777777777777778,\"#fb9f3a\"],[0.8888888888888888,\"#fdca26\"],[1.0,\"#f0f921\"]]}],\"heatmapgl\":[{\"type\":\"heatmapgl\",\"colorbar\":{\"outlinewidth\":0,\"ticks\":\"\"},\"colorscale\":[[0.0,\"#0d0887\"],[0.1111111111111111,\"#46039f\"],[0.2222222222222222,\"#7201a8\"],[0.3333333333333333,\"#9c179e\"],[0.4444444444444444,\"#bd3786\"],[0.5555555555555556,\"#d8576b\"],[0.6666666666666666,\"#ed7953\"],[0.7777777777777778,\"#fb9f3a\"],[0.8888888888888888,\"#fdca26\"],[1.0,\"#f0f921\"]]}],\"contourcarpet\":[{\"type\":\"contourcarpet\",\"colorbar\":{\"outlinewidth\":0,\"ticks\":\"\"}}],\"contour\":[{\"type\":\"contour\",\"colorbar\":{\"outlinewidth\":0,\"ticks\":\"\"},\"colorscale\":[[0.0,\"#0d0887\"],[0.1111111111111111,\"#46039f\"],[0.2222222222222222,\"#7201a8\"],[0.3333333333333333,\"#9c179e\"],[0.4444444444444444,\"#bd3786\"],[0.5555555555555556,\"#d8576b\"],[0.6666666666666666,\"#ed7953\"],[0.7777777777777778,\"#fb9f3a\"],[0.8888888888888888,\"#fdca26\"],[1.0,\"#f0f921\"]]}],\"surface\":[{\"type\":\"surface\",\"colorbar\":{\"outlinewidth\":0,\"ticks\":\"\"},\"colorscale\":[[0.0,\"#0d0887\"],[0.1111111111111111,\"#46039f\"],[0.2222222222222222,\"#7201a8\"],[0.3333333333333333,\"#9c179e\"],[0.4444444444444444,\"#bd3786\"],[0.5555555555555556,\"#d8576b\"],[0.6666666666666666,\"#ed7953\"],[0.7777777777777778,\"#fb9f3a\"],[0.8888888888888888,\"#fdca26\"],[1.0,\"#f0f921\"]]}],\"mesh3d\":[{\"type\":\"mesh3d\",\"colorbar\":{\"outlinewidth\":0,\"ticks\":\"\"}}],\"scatter\":[{\"fillpattern\":{\"fillmode\":\"overlay\",\"size\":10,\"solidity\":0.2},\"type\":\"scatter\"}],\"parcoords\":[{\"type\":\"parcoords\",\"line\":{\"colorbar\":{\"outlinewidth\":0,\"ticks\":\"\"}}}],\"scatterpolargl\":[{\"type\":\"scatterpolargl\",\"marker\":{\"colorbar\":{\"outlinewidth\":0,\"ticks\":\"\"}}}],\"bar\":[{\"error_x\":{\"color\":\"#2a3f5f\"},\"error_y\":{\"color\":\"#2a3f5f\"},\"marker\":{\"line\":{\"color\":\"#E5ECF6\",\"width\":0.5},\"pattern\":{\"fillmode\":\"overlay\",\"size\":10,\"solidity\":0.2}},\"type\":\"bar\"}],\"scattergeo\":[{\"type\":\"scattergeo\",\"marker\":{\"colorbar\":{\"outlinewidth\":0,\"ticks\":\"\"}}}],\"scatterpolar\":[{\"type\":\"scatterpolar\",\"marker\":{\"colorbar\":{\"outlinewidth\":0,\"ticks\":\"\"}}}],\"histogram\":[{\"marker\":{\"pattern\":{\"fillmode\":\"overlay\",\"size\":10,\"solidity\":0.2}},\"type\":\"histogram\"}],\"scattergl\":[{\"type\":\"scattergl\",\"marker\":{\"colorbar\":{\"outlinewidth\":0,\"ticks\":\"\"}}}],\"scatter3d\":[{\"type\":\"scatter3d\",\"line\":{\"colorbar\":{\"outlinewidth\":0,\"ticks\":\"\"}},\"marker\":{\"colorbar\":{\"outlinewidth\":0,\"ticks\":\"\"}}}],\"scattermapbox\":[{\"type\":\"scattermapbox\",\"marker\":{\"colorbar\":{\"outlinewidth\":0,\"ticks\":\"\"}}}],\"scatterternary\":[{\"type\":\"scatterternary\",\"marker\":{\"colorbar\":{\"outlinewidth\":0,\"ticks\":\"\"}}}],\"scattercarpet\":[{\"type\":\"scattercarpet\",\"marker\":{\"colorbar\":{\"outlinewidth\":0,\"ticks\":\"\"}}}],\"carpet\":[{\"aaxis\":{\"endlinecolor\":\"#2a3f5f\",\"gridcolor\":\"white\",\"linecolor\":\"white\",\"minorgridcolor\":\"white\",\"startlinecolor\":\"#2a3f5f\"},\"baxis\":{\"endlinecolor\":\"#2a3f5f\",\"gridcolor\":\"white\",\"linecolor\":\"white\",\"minorgridcolor\":\"white\",\"startlinecolor\":\"#2a3f5f\"},\"type\":\"carpet\"}],\"table\":[{\"cells\":{\"fill\":{\"color\":\"#EBF0F8\"},\"line\":{\"color\":\"white\"}},\"header\":{\"fill\":{\"color\":\"#C8D4E3\"},\"line\":{\"color\":\"white\"}},\"type\":\"table\"}],\"barpolar\":[{\"marker\":{\"line\":{\"color\":\"#E5ECF6\",\"width\":0.5},\"pattern\":{\"fillmode\":\"overlay\",\"size\":10,\"solidity\":0.2}},\"type\":\"barpolar\"}],\"pie\":[{\"automargin\":true,\"type\":\"pie\"}]},\"layout\":{\"autotypenumbers\":\"strict\",\"colorway\":[\"#636efa\",\"#EF553B\",\"#00cc96\",\"#ab63fa\",\"#FFA15A\",\"#19d3f3\",\"#FF6692\",\"#B6E880\",\"#FF97FF\",\"#FECB52\"],\"font\":{\"color\":\"#2a3f5f\"},\"hovermode\":\"closest\",\"hoverlabel\":{\"align\":\"left\"},\"paper_bgcolor\":\"white\",\"plot_bgcolor\":\"#E5ECF6\",\"polar\":{\"bgcolor\":\"#E5ECF6\",\"angularaxis\":{\"gridcolor\":\"white\",\"linecolor\":\"white\",\"ticks\":\"\"},\"radialaxis\":{\"gridcolor\":\"white\",\"linecolor\":\"white\",\"ticks\":\"\"}},\"ternary\":{\"bgcolor\":\"#E5ECF6\",\"aaxis\":{\"gridcolor\":\"white\",\"linecolor\":\"white\",\"ticks\":\"\"},\"baxis\":{\"gridcolor\":\"white\",\"linecolor\":\"white\",\"ticks\":\"\"},\"caxis\":{\"gridcolor\":\"white\",\"linecolor\":\"white\",\"ticks\":\"\"}},\"coloraxis\":{\"colorbar\":{\"outlinewidth\":0,\"ticks\":\"\"}},\"colorscale\":{\"sequential\":[[0.0,\"#0d0887\"],[0.1111111111111111,\"#46039f\"],[0.2222222222222222,\"#7201a8\"],[0.3333333333333333,\"#9c179e\"],[0.4444444444444444,\"#bd3786\"],[0.5555555555555556,\"#d8576b\"],[0.6666666666666666,\"#ed7953\"],[0.7777777777777778,\"#fb9f3a\"],[0.8888888888888888,\"#fdca26\"],[1.0,\"#f0f921\"]],\"sequentialminus\":[[0.0,\"#0d0887\"],[0.1111111111111111,\"#46039f\"],[0.2222222222222222,\"#7201a8\"],[0.3333333333333333,\"#9c179e\"],[0.4444444444444444,\"#bd3786\"],[0.5555555555555556,\"#d8576b\"],[0.6666666666666666,\"#ed7953\"],[0.7777777777777778,\"#fb9f3a\"],[0.8888888888888888,\"#fdca26\"],[1.0,\"#f0f921\"]],\"diverging\":[[0,\"#8e0152\"],[0.1,\"#c51b7d\"],[0.2,\"#de77ae\"],[0.3,\"#f1b6da\"],[0.4,\"#fde0ef\"],[0.5,\"#f7f7f7\"],[0.6,\"#e6f5d0\"],[0.7,\"#b8e186\"],[0.8,\"#7fbc41\"],[0.9,\"#4d9221\"],[1,\"#276419\"]]},\"xaxis\":{\"gridcolor\":\"white\",\"linecolor\":\"white\",\"ticks\":\"\",\"title\":{\"standoff\":15},\"zerolinecolor\":\"white\",\"automargin\":true,\"zerolinewidth\":2},\"yaxis\":{\"gridcolor\":\"white\",\"linecolor\":\"white\",\"ticks\":\"\",\"title\":{\"standoff\":15},\"zerolinecolor\":\"white\",\"automargin\":true,\"zerolinewidth\":2},\"scene\":{\"xaxis\":{\"backgroundcolor\":\"#E5ECF6\",\"gridcolor\":\"white\",\"linecolor\":\"white\",\"showbackground\":true,\"ticks\":\"\",\"zerolinecolor\":\"white\",\"gridwidth\":2},\"yaxis\":{\"backgroundcolor\":\"#E5ECF6\",\"gridcolor\":\"white\",\"linecolor\":\"white\",\"showbackground\":true,\"ticks\":\"\",\"zerolinecolor\":\"white\",\"gridwidth\":2},\"zaxis\":{\"backgroundcolor\":\"#E5ECF6\",\"gridcolor\":\"white\",\"linecolor\":\"white\",\"showbackground\":true,\"ticks\":\"\",\"zerolinecolor\":\"white\",\"gridwidth\":2}},\"shapedefaults\":{\"line\":{\"color\":\"#2a3f5f\"}},\"annotationdefaults\":{\"arrowcolor\":\"#2a3f5f\",\"arrowhead\":0,\"arrowwidth\":1},\"geo\":{\"bgcolor\":\"white\",\"landcolor\":\"#E5ECF6\",\"subunitcolor\":\"white\",\"showland\":true,\"showlakes\":true,\"lakecolor\":\"white\"},\"title\":{\"x\":0.05},\"mapbox\":{\"style\":\"light\"}}},\"xaxis\":{\"anchor\":\"y\",\"domain\":[0.0,1.0],\"title\":{\"text\":\"Leading Party\"}},\"yaxis\":{\"anchor\":\"x\",\"domain\":[0.0,1.0],\"title\":{\"text\":\"Margin\"}},\"legend\":{\"title\":{\"text\":\"Constituency\"},\"tracegroupgap\":0},\"title\":{\"text\":\"Top margin Achieved by party\"},\"barmode\":\"relative\"},                        {\"responsive\": true}                    ).then(function(){\n",
       "                            \n",
       "var gd = document.getElementById('7779e425-cf0d-4cd4-8506-6bb48fcf335e');\n",
       "var x = new MutationObserver(function (mutations, observer) {{\n",
       "        var display = window.getComputedStyle(gd).display;\n",
       "        if (!display || display === 'none') {{\n",
       "            console.log([gd, 'removed!']);\n",
       "            Plotly.purge(gd);\n",
       "            observer.disconnect();\n",
       "        }}\n",
       "}});\n",
       "\n",
       "// Listen for the removal of the full notebook cells\n",
       "var notebookContainer = gd.closest('#notebook-container');\n",
       "if (notebookContainer) {{\n",
       "    x.observe(notebookContainer, {childList: true});\n",
       "}}\n",
       "\n",
       "// Listen for the clearing of the current output cell\n",
       "var outputEl = gd.closest('.output');\n",
       "if (outputEl) {{\n",
       "    x.observe(outputEl, {childList: true});\n",
       "}}\n",
       "\n",
       "                        })                };                });            </script>        </div>"
      ]
     },
     "metadata": {},
     "output_type": "display_data"
    }
   ],
   "source": [
    "# Sort by 'Margin and select top 20 rows\n",
    "top_20 = df.sort_values(by='Margin',ascending=False).head(20)\n",
    "\n",
    "\n",
    "# Create the bar plot\n",
    "\n",
    "fig = px.bar(top_20,x='Leading Party', y='Margin', title='Top margin Achieved by party',\n",
    "             color='Constituency')\n",
    "\n",
    "py.init_notebook_mode(connected=True)\n",
    "\n",
    "\n",
    "fig.show()"
   ]
  },
  {
   "cell_type": "code",
   "execution_count": 23,
   "id": "0148c444",
   "metadata": {},
   "outputs": [
    {
     "data": {
      "text/html": [
       "<div>\n",
       "<style scoped>\n",
       "    .dataframe tbody tr th:only-of-type {\n",
       "        vertical-align: middle;\n",
       "    }\n",
       "\n",
       "    .dataframe tbody tr th {\n",
       "        vertical-align: top;\n",
       "    }\n",
       "\n",
       "    .dataframe thead th {\n",
       "        text-align: right;\n",
       "    }\n",
       "</style>\n",
       "<table border=\"1\" class=\"dataframe\">\n",
       "  <thead>\n",
       "    <tr style=\"text-align: right;\">\n",
       "      <th></th>\n",
       "      <th>Constituency</th>\n",
       "      <th>Const. No.</th>\n",
       "      <th>Leading Candidate</th>\n",
       "      <th>Leading Party</th>\n",
       "      <th>Trailing Candidate</th>\n",
       "      <th>Trailing Party</th>\n",
       "      <th>Margin</th>\n",
       "    </tr>\n",
       "  </thead>\n",
       "  <tbody>\n",
       "    <tr>\n",
       "      <th>8</th>\n",
       "      <td>North-West Delhi</td>\n",
       "      <td>5</td>\n",
       "      <td>YOGENDER CHANDOLIYA</td>\n",
       "      <td>Bharatiya Janata Party</td>\n",
       "      <td>UDIT RAJ</td>\n",
       "      <td>Indian National Congress</td>\n",
       "      <td>290849</td>\n",
       "    </tr>\n",
       "    <tr>\n",
       "      <th>13</th>\n",
       "      <td>ANANTNAG-RAJOURI</td>\n",
       "      <td>3</td>\n",
       "      <td>MIAN ALTAF AHMAD</td>\n",
       "      <td>Jammu &amp; Kashmir National Conference</td>\n",
       "      <td>MEHBOOBA MUFTI</td>\n",
       "      <td>Jammu &amp; Kashmir Peoples Democratic Party</td>\n",
       "      <td>281794</td>\n",
       "    </tr>\n",
       "    <tr>\n",
       "      <th>14</th>\n",
       "      <td>BARAMULLA</td>\n",
       "      <td>1</td>\n",
       "      <td>ABDUL RASHID SHEIKH</td>\n",
       "      <td>Independent</td>\n",
       "      <td>OMAR ABDULLAH</td>\n",
       "      <td>Jammu &amp; Kashmir National Conference</td>\n",
       "      <td>204142</td>\n",
       "    </tr>\n",
       "    <tr>\n",
       "      <th>10</th>\n",
       "      <td>West Delhi</td>\n",
       "      <td>6</td>\n",
       "      <td>KAMALJEET SEHRAWAT</td>\n",
       "      <td>Bharatiya Janata Party</td>\n",
       "      <td>MAHABAL MISHRA</td>\n",
       "      <td>Aam Aadmi Party</td>\n",
       "      <td>199013</td>\n",
       "    </tr>\n",
       "    <tr>\n",
       "      <th>16</th>\n",
       "      <td>SRINAGAR</td>\n",
       "      <td>2</td>\n",
       "      <td>AGA SYED RUHULLAH MEHDI</td>\n",
       "      <td>Jammu &amp; Kashmir National Conference</td>\n",
       "      <td>WAHEED UR REHMAN PARA</td>\n",
       "      <td>Jammu &amp; Kashmir Peoples Democratic Party</td>\n",
       "      <td>188416</td>\n",
       "    </tr>\n",
       "    <tr>\n",
       "      <th>7</th>\n",
       "      <td>North-East Delhi</td>\n",
       "      <td>2</td>\n",
       "      <td>MANOJ TIWARI</td>\n",
       "      <td>Bharatiya Janata Party</td>\n",
       "      <td>KANHAIYA KUMAR</td>\n",
       "      <td>Indian National Congress</td>\n",
       "      <td>138778</td>\n",
       "    </tr>\n",
       "    <tr>\n",
       "      <th>12</th>\n",
       "      <td>PUDUCHERRY</td>\n",
       "      <td>1</td>\n",
       "      <td>VE VAITHILINGAM</td>\n",
       "      <td>Indian National Congress</td>\n",
       "      <td>A NAMASSIVAYAM</td>\n",
       "      <td>Bharatiya Janata Party</td>\n",
       "      <td>136516</td>\n",
       "    </tr>\n",
       "    <tr>\n",
       "      <th>15</th>\n",
       "      <td>JAMMU</td>\n",
       "      <td>5</td>\n",
       "      <td>JUGAL KISHORE</td>\n",
       "      <td>Bharatiya Janata Party</td>\n",
       "      <td>RAMAN BHALLA</td>\n",
       "      <td>Indian National Congress</td>\n",
       "      <td>135498</td>\n",
       "    </tr>\n",
       "    <tr>\n",
       "      <th>17</th>\n",
       "      <td>UDHAMPUR</td>\n",
       "      <td>4</td>\n",
       "      <td>DR JITENDRA SINGH</td>\n",
       "      <td>Bharatiya Janata Party</td>\n",
       "      <td>CH LAL SINGH</td>\n",
       "      <td>Indian National Congress</td>\n",
       "      <td>124373</td>\n",
       "    </tr>\n",
       "    <tr>\n",
       "      <th>9</th>\n",
       "      <td>South Delhi</td>\n",
       "      <td>7</td>\n",
       "      <td>RAMVIR SINGH BIDHURI</td>\n",
       "      <td>Bharatiya Janata Party</td>\n",
       "      <td>SAHI RAM</td>\n",
       "      <td>Aam Aadmi Party</td>\n",
       "      <td>124333</td>\n",
       "    </tr>\n",
       "    <tr>\n",
       "      <th>5</th>\n",
       "      <td>East Delhi</td>\n",
       "      <td>3</td>\n",
       "      <td>HARSH MALHOTRA</td>\n",
       "      <td>Bharatiya Janata Party</td>\n",
       "      <td>KULDEEP KUMAR (MONU)</td>\n",
       "      <td>Aam Aadmi Party</td>\n",
       "      <td>93663</td>\n",
       "    </tr>\n",
       "    <tr>\n",
       "      <th>4</th>\n",
       "      <td>Chandni Chowk</td>\n",
       "      <td>1</td>\n",
       "      <td>PRAVEEN KHANDELWAL</td>\n",
       "      <td>Bharatiya Janata Party</td>\n",
       "      <td>JAI PRAKASH AGARWAL</td>\n",
       "      <td>Indian National Congress</td>\n",
       "      <td>89325</td>\n",
       "    </tr>\n",
       "    <tr>\n",
       "      <th>6</th>\n",
       "      <td>New Delhi</td>\n",
       "      <td>4</td>\n",
       "      <td>BANSURI SWARAJ</td>\n",
       "      <td>Bharatiya Janata Party</td>\n",
       "      <td>SOMNATH BHARTI</td>\n",
       "      <td>Aam Aadmi Party</td>\n",
       "      <td>78370</td>\n",
       "    </tr>\n",
       "    <tr>\n",
       "      <th>2</th>\n",
       "      <td>Dadar &amp; Nagar Haveli</td>\n",
       "      <td>2</td>\n",
       "      <td>DELKAR KALABEN MOHANBHAI</td>\n",
       "      <td>Bharatiya Janata Party</td>\n",
       "      <td>AJIT RAMJIBHAI MAHALA</td>\n",
       "      <td>Indian National Congress</td>\n",
       "      <td>57584</td>\n",
       "    </tr>\n",
       "    <tr>\n",
       "      <th>18</th>\n",
       "      <td>Ladakh</td>\n",
       "      <td>1</td>\n",
       "      <td>MOHMAD HANEEFA</td>\n",
       "      <td>Independent</td>\n",
       "      <td>TSERING NAMGYAL</td>\n",
       "      <td>Indian National Congress</td>\n",
       "      <td>27862</td>\n",
       "    </tr>\n",
       "    <tr>\n",
       "      <th>0</th>\n",
       "      <td>Andaman &amp; Nicobar Islands</td>\n",
       "      <td>1</td>\n",
       "      <td>BISHNU PADA RAY</td>\n",
       "      <td>Bharatiya Janata Party</td>\n",
       "      <td>KULDEEP RAI SHARMA</td>\n",
       "      <td>Indian National Congress</td>\n",
       "      <td>24396</td>\n",
       "    </tr>\n",
       "    <tr>\n",
       "      <th>3</th>\n",
       "      <td>Daman &amp; Diu</td>\n",
       "      <td>1</td>\n",
       "      <td>PATEL UMESHBHAI BABUBHAI</td>\n",
       "      <td>Independent</td>\n",
       "      <td>LALUBHAI BABUBHAI PATEL</td>\n",
       "      <td>Bharatiya Janata Party</td>\n",
       "      <td>6225</td>\n",
       "    </tr>\n",
       "    <tr>\n",
       "      <th>11</th>\n",
       "      <td>Lakshadweep</td>\n",
       "      <td>1</td>\n",
       "      <td>MUHAMMED HAMDULLAH SAYEED</td>\n",
       "      <td>Indian National Congress</td>\n",
       "      <td>MOHAMMED FAIZAL PP</td>\n",
       "      <td>Nationalist Congress Party – Sharadchandra Pawar</td>\n",
       "      <td>2647</td>\n",
       "    </tr>\n",
       "    <tr>\n",
       "      <th>1</th>\n",
       "      <td>Chandigarh</td>\n",
       "      <td>1</td>\n",
       "      <td>MANISH TEWARI</td>\n",
       "      <td>Indian National Congress</td>\n",
       "      <td>SANJAY TANDON</td>\n",
       "      <td>Bharatiya Janata Party</td>\n",
       "      <td>2504</td>\n",
       "    </tr>\n",
       "  </tbody>\n",
       "</table>\n",
       "</div>"
      ],
      "text/plain": [
       "                 Constituency Const. No.          Leading Candidate  \\\n",
       "8            North-West Delhi          5        YOGENDER CHANDOLIYA   \n",
       "13           ANANTNAG-RAJOURI          3           MIAN ALTAF AHMAD   \n",
       "14                  BARAMULLA          1        ABDUL RASHID SHEIKH   \n",
       "10                 West Delhi          6         KAMALJEET SEHRAWAT   \n",
       "16                   SRINAGAR          2    AGA SYED RUHULLAH MEHDI   \n",
       "7            North-East Delhi          2               MANOJ TIWARI   \n",
       "12                 PUDUCHERRY          1            VE VAITHILINGAM   \n",
       "15                      JAMMU          5              JUGAL KISHORE   \n",
       "17                   UDHAMPUR          4          DR JITENDRA SINGH   \n",
       "9                 South Delhi          7       RAMVIR SINGH BIDHURI   \n",
       "5                  East Delhi          3             HARSH MALHOTRA   \n",
       "4               Chandni Chowk          1         PRAVEEN KHANDELWAL   \n",
       "6                   New Delhi          4             BANSURI SWARAJ   \n",
       "2        Dadar & Nagar Haveli          2   DELKAR KALABEN MOHANBHAI   \n",
       "18                     Ladakh          1             MOHMAD HANEEFA   \n",
       "0   Andaman & Nicobar Islands          1            BISHNU PADA RAY   \n",
       "3                 Daman & Diu          1   PATEL UMESHBHAI BABUBHAI   \n",
       "11                Lakshadweep          1  MUHAMMED HAMDULLAH SAYEED   \n",
       "1                  Chandigarh          1              MANISH TEWARI   \n",
       "\n",
       "                          Leading Party       Trailing Candidate  \\\n",
       "8                Bharatiya Janata Party                 UDIT RAJ   \n",
       "13  Jammu & Kashmir National Conference           MEHBOOBA MUFTI   \n",
       "14                          Independent            OMAR ABDULLAH   \n",
       "10               Bharatiya Janata Party           MAHABAL MISHRA   \n",
       "16  Jammu & Kashmir National Conference    WAHEED UR REHMAN PARA   \n",
       "7                Bharatiya Janata Party           KANHAIYA KUMAR   \n",
       "12             Indian National Congress           A NAMASSIVAYAM   \n",
       "15               Bharatiya Janata Party             RAMAN BHALLA   \n",
       "17               Bharatiya Janata Party             CH LAL SINGH   \n",
       "9                Bharatiya Janata Party                 SAHI RAM   \n",
       "5                Bharatiya Janata Party     KULDEEP KUMAR (MONU)   \n",
       "4                Bharatiya Janata Party      JAI PRAKASH AGARWAL   \n",
       "6                Bharatiya Janata Party           SOMNATH BHARTI   \n",
       "2                Bharatiya Janata Party    AJIT RAMJIBHAI MAHALA   \n",
       "18                          Independent          TSERING NAMGYAL   \n",
       "0                Bharatiya Janata Party       KULDEEP RAI SHARMA   \n",
       "3                           Independent  LALUBHAI BABUBHAI PATEL   \n",
       "11             Indian National Congress       MOHAMMED FAIZAL PP   \n",
       "1              Indian National Congress            SANJAY TANDON   \n",
       "\n",
       "                                      Trailing Party  Margin  \n",
       "8                           Indian National Congress  290849  \n",
       "13          Jammu & Kashmir Peoples Democratic Party  281794  \n",
       "14               Jammu & Kashmir National Conference  204142  \n",
       "10                                   Aam Aadmi Party  199013  \n",
       "16          Jammu & Kashmir Peoples Democratic Party  188416  \n",
       "7                           Indian National Congress  138778  \n",
       "12                            Bharatiya Janata Party  136516  \n",
       "15                          Indian National Congress  135498  \n",
       "17                          Indian National Congress  124373  \n",
       "9                                    Aam Aadmi Party  124333  \n",
       "5                                    Aam Aadmi Party   93663  \n",
       "4                           Indian National Congress   89325  \n",
       "6                                    Aam Aadmi Party   78370  \n",
       "2                           Indian National Congress   57584  \n",
       "18                          Indian National Congress   27862  \n",
       "0                           Indian National Congress   24396  \n",
       "3                             Bharatiya Janata Party    6225  \n",
       "11  Nationalist Congress Party – Sharadchandra Pawar    2647  \n",
       "1                             Bharatiya Janata Party    2504  "
      ]
     },
     "execution_count": 23,
     "metadata": {},
     "output_type": "execute_result"
    }
   ],
   "source": [
    "top_20"
   ]
  },
  {
   "cell_type": "code",
   "execution_count": 24,
   "id": "7eb0c3b4",
   "metadata": {},
   "outputs": [
    {
     "data": {
      "text/html": [
       "        <script type=\"text/javascript\">\n",
       "        window.PlotlyConfig = {MathJaxConfig: 'local'};\n",
       "        if (window.MathJax && window.MathJax.Hub && window.MathJax.Hub.Config) {window.MathJax.Hub.Config({SVG: {font: \"STIX-Web\"}});}\n",
       "        if (typeof require !== 'undefined') {\n",
       "        require.undef(\"plotly\");\n",
       "        requirejs.config({\n",
       "            paths: {\n",
       "                'plotly': ['https://cdn.plot.ly/plotly-2.12.1.min']\n",
       "            }\n",
       "        });\n",
       "        require(['plotly'], function(Plotly) {\n",
       "            window._Plotly = Plotly;\n",
       "        });\n",
       "        }\n",
       "        </script>\n",
       "        "
      ]
     },
     "metadata": {},
     "output_type": "display_data"
    },
    {
     "data": {
      "application/vnd.plotly.v1+json": {
       "config": {
        "plotlyServerURL": "https://plot.ly"
       },
       "data": [
        {
         "domain": {
          "x": [
           0,
           1
          ],
          "y": [
           0,
           1
          ]
         },
         "hovertemplate": "index=%{label}<br>value=%{value}<extra></extra>",
         "labels": [
          "Bharatiya Janata Party",
          "Indian National Congress",
          "Independent",
          "Jammu & Kashmir National Conference"
         ],
         "legendgroup": "",
         "name": "",
         "showlegend": true,
         "type": "pie",
         "values": [
          11,
          3,
          3,
          2
         ]
        }
       ],
       "layout": {
        "legend": {
         "tracegroupgap": 0
        },
        "template": {
         "data": {
          "bar": [
           {
            "error_x": {
             "color": "#2a3f5f"
            },
            "error_y": {
             "color": "#2a3f5f"
            },
            "marker": {
             "line": {
              "color": "#E5ECF6",
              "width": 0.5
             },
             "pattern": {
              "fillmode": "overlay",
              "size": 10,
              "solidity": 0.2
             }
            },
            "type": "bar"
           }
          ],
          "barpolar": [
           {
            "marker": {
             "line": {
              "color": "#E5ECF6",
              "width": 0.5
             },
             "pattern": {
              "fillmode": "overlay",
              "size": 10,
              "solidity": 0.2
             }
            },
            "type": "barpolar"
           }
          ],
          "carpet": [
           {
            "aaxis": {
             "endlinecolor": "#2a3f5f",
             "gridcolor": "white",
             "linecolor": "white",
             "minorgridcolor": "white",
             "startlinecolor": "#2a3f5f"
            },
            "baxis": {
             "endlinecolor": "#2a3f5f",
             "gridcolor": "white",
             "linecolor": "white",
             "minorgridcolor": "white",
             "startlinecolor": "#2a3f5f"
            },
            "type": "carpet"
           }
          ],
          "choropleth": [
           {
            "colorbar": {
             "outlinewidth": 0,
             "ticks": ""
            },
            "type": "choropleth"
           }
          ],
          "contour": [
           {
            "colorbar": {
             "outlinewidth": 0,
             "ticks": ""
            },
            "colorscale": [
             [
              0,
              "#0d0887"
             ],
             [
              0.1111111111111111,
              "#46039f"
             ],
             [
              0.2222222222222222,
              "#7201a8"
             ],
             [
              0.3333333333333333,
              "#9c179e"
             ],
             [
              0.4444444444444444,
              "#bd3786"
             ],
             [
              0.5555555555555556,
              "#d8576b"
             ],
             [
              0.6666666666666666,
              "#ed7953"
             ],
             [
              0.7777777777777778,
              "#fb9f3a"
             ],
             [
              0.8888888888888888,
              "#fdca26"
             ],
             [
              1,
              "#f0f921"
             ]
            ],
            "type": "contour"
           }
          ],
          "contourcarpet": [
           {
            "colorbar": {
             "outlinewidth": 0,
             "ticks": ""
            },
            "type": "contourcarpet"
           }
          ],
          "heatmap": [
           {
            "colorbar": {
             "outlinewidth": 0,
             "ticks": ""
            },
            "colorscale": [
             [
              0,
              "#0d0887"
             ],
             [
              0.1111111111111111,
              "#46039f"
             ],
             [
              0.2222222222222222,
              "#7201a8"
             ],
             [
              0.3333333333333333,
              "#9c179e"
             ],
             [
              0.4444444444444444,
              "#bd3786"
             ],
             [
              0.5555555555555556,
              "#d8576b"
             ],
             [
              0.6666666666666666,
              "#ed7953"
             ],
             [
              0.7777777777777778,
              "#fb9f3a"
             ],
             [
              0.8888888888888888,
              "#fdca26"
             ],
             [
              1,
              "#f0f921"
             ]
            ],
            "type": "heatmap"
           }
          ],
          "heatmapgl": [
           {
            "colorbar": {
             "outlinewidth": 0,
             "ticks": ""
            },
            "colorscale": [
             [
              0,
              "#0d0887"
             ],
             [
              0.1111111111111111,
              "#46039f"
             ],
             [
              0.2222222222222222,
              "#7201a8"
             ],
             [
              0.3333333333333333,
              "#9c179e"
             ],
             [
              0.4444444444444444,
              "#bd3786"
             ],
             [
              0.5555555555555556,
              "#d8576b"
             ],
             [
              0.6666666666666666,
              "#ed7953"
             ],
             [
              0.7777777777777778,
              "#fb9f3a"
             ],
             [
              0.8888888888888888,
              "#fdca26"
             ],
             [
              1,
              "#f0f921"
             ]
            ],
            "type": "heatmapgl"
           }
          ],
          "histogram": [
           {
            "marker": {
             "pattern": {
              "fillmode": "overlay",
              "size": 10,
              "solidity": 0.2
             }
            },
            "type": "histogram"
           }
          ],
          "histogram2d": [
           {
            "colorbar": {
             "outlinewidth": 0,
             "ticks": ""
            },
            "colorscale": [
             [
              0,
              "#0d0887"
             ],
             [
              0.1111111111111111,
              "#46039f"
             ],
             [
              0.2222222222222222,
              "#7201a8"
             ],
             [
              0.3333333333333333,
              "#9c179e"
             ],
             [
              0.4444444444444444,
              "#bd3786"
             ],
             [
              0.5555555555555556,
              "#d8576b"
             ],
             [
              0.6666666666666666,
              "#ed7953"
             ],
             [
              0.7777777777777778,
              "#fb9f3a"
             ],
             [
              0.8888888888888888,
              "#fdca26"
             ],
             [
              1,
              "#f0f921"
             ]
            ],
            "type": "histogram2d"
           }
          ],
          "histogram2dcontour": [
           {
            "colorbar": {
             "outlinewidth": 0,
             "ticks": ""
            },
            "colorscale": [
             [
              0,
              "#0d0887"
             ],
             [
              0.1111111111111111,
              "#46039f"
             ],
             [
              0.2222222222222222,
              "#7201a8"
             ],
             [
              0.3333333333333333,
              "#9c179e"
             ],
             [
              0.4444444444444444,
              "#bd3786"
             ],
             [
              0.5555555555555556,
              "#d8576b"
             ],
             [
              0.6666666666666666,
              "#ed7953"
             ],
             [
              0.7777777777777778,
              "#fb9f3a"
             ],
             [
              0.8888888888888888,
              "#fdca26"
             ],
             [
              1,
              "#f0f921"
             ]
            ],
            "type": "histogram2dcontour"
           }
          ],
          "mesh3d": [
           {
            "colorbar": {
             "outlinewidth": 0,
             "ticks": ""
            },
            "type": "mesh3d"
           }
          ],
          "parcoords": [
           {
            "line": {
             "colorbar": {
              "outlinewidth": 0,
              "ticks": ""
             }
            },
            "type": "parcoords"
           }
          ],
          "pie": [
           {
            "automargin": true,
            "type": "pie"
           }
          ],
          "scatter": [
           {
            "fillpattern": {
             "fillmode": "overlay",
             "size": 10,
             "solidity": 0.2
            },
            "type": "scatter"
           }
          ],
          "scatter3d": [
           {
            "line": {
             "colorbar": {
              "outlinewidth": 0,
              "ticks": ""
             }
            },
            "marker": {
             "colorbar": {
              "outlinewidth": 0,
              "ticks": ""
             }
            },
            "type": "scatter3d"
           }
          ],
          "scattercarpet": [
           {
            "marker": {
             "colorbar": {
              "outlinewidth": 0,
              "ticks": ""
             }
            },
            "type": "scattercarpet"
           }
          ],
          "scattergeo": [
           {
            "marker": {
             "colorbar": {
              "outlinewidth": 0,
              "ticks": ""
             }
            },
            "type": "scattergeo"
           }
          ],
          "scattergl": [
           {
            "marker": {
             "colorbar": {
              "outlinewidth": 0,
              "ticks": ""
             }
            },
            "type": "scattergl"
           }
          ],
          "scattermapbox": [
           {
            "marker": {
             "colorbar": {
              "outlinewidth": 0,
              "ticks": ""
             }
            },
            "type": "scattermapbox"
           }
          ],
          "scatterpolar": [
           {
            "marker": {
             "colorbar": {
              "outlinewidth": 0,
              "ticks": ""
             }
            },
            "type": "scatterpolar"
           }
          ],
          "scatterpolargl": [
           {
            "marker": {
             "colorbar": {
              "outlinewidth": 0,
              "ticks": ""
             }
            },
            "type": "scatterpolargl"
           }
          ],
          "scatterternary": [
           {
            "marker": {
             "colorbar": {
              "outlinewidth": 0,
              "ticks": ""
             }
            },
            "type": "scatterternary"
           }
          ],
          "surface": [
           {
            "colorbar": {
             "outlinewidth": 0,
             "ticks": ""
            },
            "colorscale": [
             [
              0,
              "#0d0887"
             ],
             [
              0.1111111111111111,
              "#46039f"
             ],
             [
              0.2222222222222222,
              "#7201a8"
             ],
             [
              0.3333333333333333,
              "#9c179e"
             ],
             [
              0.4444444444444444,
              "#bd3786"
             ],
             [
              0.5555555555555556,
              "#d8576b"
             ],
             [
              0.6666666666666666,
              "#ed7953"
             ],
             [
              0.7777777777777778,
              "#fb9f3a"
             ],
             [
              0.8888888888888888,
              "#fdca26"
             ],
             [
              1,
              "#f0f921"
             ]
            ],
            "type": "surface"
           }
          ],
          "table": [
           {
            "cells": {
             "fill": {
              "color": "#EBF0F8"
             },
             "line": {
              "color": "white"
             }
            },
            "header": {
             "fill": {
              "color": "#C8D4E3"
             },
             "line": {
              "color": "white"
             }
            },
            "type": "table"
           }
          ]
         },
         "layout": {
          "annotationdefaults": {
           "arrowcolor": "#2a3f5f",
           "arrowhead": 0,
           "arrowwidth": 1
          },
          "autotypenumbers": "strict",
          "coloraxis": {
           "colorbar": {
            "outlinewidth": 0,
            "ticks": ""
           }
          },
          "colorscale": {
           "diverging": [
            [
             0,
             "#8e0152"
            ],
            [
             0.1,
             "#c51b7d"
            ],
            [
             0.2,
             "#de77ae"
            ],
            [
             0.3,
             "#f1b6da"
            ],
            [
             0.4,
             "#fde0ef"
            ],
            [
             0.5,
             "#f7f7f7"
            ],
            [
             0.6,
             "#e6f5d0"
            ],
            [
             0.7,
             "#b8e186"
            ],
            [
             0.8,
             "#7fbc41"
            ],
            [
             0.9,
             "#4d9221"
            ],
            [
             1,
             "#276419"
            ]
           ],
           "sequential": [
            [
             0,
             "#0d0887"
            ],
            [
             0.1111111111111111,
             "#46039f"
            ],
            [
             0.2222222222222222,
             "#7201a8"
            ],
            [
             0.3333333333333333,
             "#9c179e"
            ],
            [
             0.4444444444444444,
             "#bd3786"
            ],
            [
             0.5555555555555556,
             "#d8576b"
            ],
            [
             0.6666666666666666,
             "#ed7953"
            ],
            [
             0.7777777777777778,
             "#fb9f3a"
            ],
            [
             0.8888888888888888,
             "#fdca26"
            ],
            [
             1,
             "#f0f921"
            ]
           ],
           "sequentialminus": [
            [
             0,
             "#0d0887"
            ],
            [
             0.1111111111111111,
             "#46039f"
            ],
            [
             0.2222222222222222,
             "#7201a8"
            ],
            [
             0.3333333333333333,
             "#9c179e"
            ],
            [
             0.4444444444444444,
             "#bd3786"
            ],
            [
             0.5555555555555556,
             "#d8576b"
            ],
            [
             0.6666666666666666,
             "#ed7953"
            ],
            [
             0.7777777777777778,
             "#fb9f3a"
            ],
            [
             0.8888888888888888,
             "#fdca26"
            ],
            [
             1,
             "#f0f921"
            ]
           ]
          },
          "colorway": [
           "#636efa",
           "#EF553B",
           "#00cc96",
           "#ab63fa",
           "#FFA15A",
           "#19d3f3",
           "#FF6692",
           "#B6E880",
           "#FF97FF",
           "#FECB52"
          ],
          "font": {
           "color": "#2a3f5f"
          },
          "geo": {
           "bgcolor": "white",
           "lakecolor": "white",
           "landcolor": "#E5ECF6",
           "showlakes": true,
           "showland": true,
           "subunitcolor": "white"
          },
          "hoverlabel": {
           "align": "left"
          },
          "hovermode": "closest",
          "mapbox": {
           "style": "light"
          },
          "paper_bgcolor": "white",
          "plot_bgcolor": "#E5ECF6",
          "polar": {
           "angularaxis": {
            "gridcolor": "white",
            "linecolor": "white",
            "ticks": ""
           },
           "bgcolor": "#E5ECF6",
           "radialaxis": {
            "gridcolor": "white",
            "linecolor": "white",
            "ticks": ""
           }
          },
          "scene": {
           "xaxis": {
            "backgroundcolor": "#E5ECF6",
            "gridcolor": "white",
            "gridwidth": 2,
            "linecolor": "white",
            "showbackground": true,
            "ticks": "",
            "zerolinecolor": "white"
           },
           "yaxis": {
            "backgroundcolor": "#E5ECF6",
            "gridcolor": "white",
            "gridwidth": 2,
            "linecolor": "white",
            "showbackground": true,
            "ticks": "",
            "zerolinecolor": "white"
           },
           "zaxis": {
            "backgroundcolor": "#E5ECF6",
            "gridcolor": "white",
            "gridwidth": 2,
            "linecolor": "white",
            "showbackground": true,
            "ticks": "",
            "zerolinecolor": "white"
           }
          },
          "shapedefaults": {
           "line": {
            "color": "#2a3f5f"
           }
          },
          "ternary": {
           "aaxis": {
            "gridcolor": "white",
            "linecolor": "white",
            "ticks": ""
           },
           "baxis": {
            "gridcolor": "white",
            "linecolor": "white",
            "ticks": ""
           },
           "bgcolor": "#E5ECF6",
           "caxis": {
            "gridcolor": "white",
            "linecolor": "white",
            "ticks": ""
           }
          },
          "title": {
           "x": 0.05
          },
          "xaxis": {
           "automargin": true,
           "gridcolor": "white",
           "linecolor": "white",
           "ticks": "",
           "title": {
            "standoff": 15
           },
           "zerolinecolor": "white",
           "zerolinewidth": 2
          },
          "yaxis": {
           "automargin": true,
           "gridcolor": "white",
           "linecolor": "white",
           "ticks": "",
           "title": {
            "standoff": 15
           },
           "zerolinecolor": "white",
           "zerolinewidth": 2
          }
         }
        },
        "title": {
         "text": "Distribution of leading party's seat"
        }
       }
      },
      "text/html": [
       "<div>                            <div id=\"3265b250-86a3-4538-8208-5838ca5beab0\" class=\"plotly-graph-div\" style=\"height:525px; width:100%;\"></div>            <script type=\"text/javascript\">                require([\"plotly\"], function(Plotly) {                    window.PLOTLYENV=window.PLOTLYENV || {};                                    if (document.getElementById(\"3265b250-86a3-4538-8208-5838ca5beab0\")) {                    Plotly.newPlot(                        \"3265b250-86a3-4538-8208-5838ca5beab0\",                        [{\"domain\":{\"x\":[0.0,1.0],\"y\":[0.0,1.0]},\"hovertemplate\":\"index=%{label}<br>value=%{value}<extra></extra>\",\"labels\":[\"Bharatiya Janata Party\",\"Indian National Congress\",\"Independent\",\"Jammu & Kashmir National Conference\"],\"legendgroup\":\"\",\"name\":\"\",\"showlegend\":true,\"values\":[11,3,3,2],\"type\":\"pie\"}],                        {\"template\":{\"data\":{\"histogram2dcontour\":[{\"type\":\"histogram2dcontour\",\"colorbar\":{\"outlinewidth\":0,\"ticks\":\"\"},\"colorscale\":[[0.0,\"#0d0887\"],[0.1111111111111111,\"#46039f\"],[0.2222222222222222,\"#7201a8\"],[0.3333333333333333,\"#9c179e\"],[0.4444444444444444,\"#bd3786\"],[0.5555555555555556,\"#d8576b\"],[0.6666666666666666,\"#ed7953\"],[0.7777777777777778,\"#fb9f3a\"],[0.8888888888888888,\"#fdca26\"],[1.0,\"#f0f921\"]]}],\"choropleth\":[{\"type\":\"choropleth\",\"colorbar\":{\"outlinewidth\":0,\"ticks\":\"\"}}],\"histogram2d\":[{\"type\":\"histogram2d\",\"colorbar\":{\"outlinewidth\":0,\"ticks\":\"\"},\"colorscale\":[[0.0,\"#0d0887\"],[0.1111111111111111,\"#46039f\"],[0.2222222222222222,\"#7201a8\"],[0.3333333333333333,\"#9c179e\"],[0.4444444444444444,\"#bd3786\"],[0.5555555555555556,\"#d8576b\"],[0.6666666666666666,\"#ed7953\"],[0.7777777777777778,\"#fb9f3a\"],[0.8888888888888888,\"#fdca26\"],[1.0,\"#f0f921\"]]}],\"heatmap\":[{\"type\":\"heatmap\",\"colorbar\":{\"outlinewidth\":0,\"ticks\":\"\"},\"colorscale\":[[0.0,\"#0d0887\"],[0.1111111111111111,\"#46039f\"],[0.2222222222222222,\"#7201a8\"],[0.3333333333333333,\"#9c179e\"],[0.4444444444444444,\"#bd3786\"],[0.5555555555555556,\"#d8576b\"],[0.6666666666666666,\"#ed7953\"],[0.7777777777777778,\"#fb9f3a\"],[0.8888888888888888,\"#fdca26\"],[1.0,\"#f0f921\"]]}],\"heatmapgl\":[{\"type\":\"heatmapgl\",\"colorbar\":{\"outlinewidth\":0,\"ticks\":\"\"},\"colorscale\":[[0.0,\"#0d0887\"],[0.1111111111111111,\"#46039f\"],[0.2222222222222222,\"#7201a8\"],[0.3333333333333333,\"#9c179e\"],[0.4444444444444444,\"#bd3786\"],[0.5555555555555556,\"#d8576b\"],[0.6666666666666666,\"#ed7953\"],[0.7777777777777778,\"#fb9f3a\"],[0.8888888888888888,\"#fdca26\"],[1.0,\"#f0f921\"]]}],\"contourcarpet\":[{\"type\":\"contourcarpet\",\"colorbar\":{\"outlinewidth\":0,\"ticks\":\"\"}}],\"contour\":[{\"type\":\"contour\",\"colorbar\":{\"outlinewidth\":0,\"ticks\":\"\"},\"colorscale\":[[0.0,\"#0d0887\"],[0.1111111111111111,\"#46039f\"],[0.2222222222222222,\"#7201a8\"],[0.3333333333333333,\"#9c179e\"],[0.4444444444444444,\"#bd3786\"],[0.5555555555555556,\"#d8576b\"],[0.6666666666666666,\"#ed7953\"],[0.7777777777777778,\"#fb9f3a\"],[0.8888888888888888,\"#fdca26\"],[1.0,\"#f0f921\"]]}],\"surface\":[{\"type\":\"surface\",\"colorbar\":{\"outlinewidth\":0,\"ticks\":\"\"},\"colorscale\":[[0.0,\"#0d0887\"],[0.1111111111111111,\"#46039f\"],[0.2222222222222222,\"#7201a8\"],[0.3333333333333333,\"#9c179e\"],[0.4444444444444444,\"#bd3786\"],[0.5555555555555556,\"#d8576b\"],[0.6666666666666666,\"#ed7953\"],[0.7777777777777778,\"#fb9f3a\"],[0.8888888888888888,\"#fdca26\"],[1.0,\"#f0f921\"]]}],\"mesh3d\":[{\"type\":\"mesh3d\",\"colorbar\":{\"outlinewidth\":0,\"ticks\":\"\"}}],\"scatter\":[{\"fillpattern\":{\"fillmode\":\"overlay\",\"size\":10,\"solidity\":0.2},\"type\":\"scatter\"}],\"parcoords\":[{\"type\":\"parcoords\",\"line\":{\"colorbar\":{\"outlinewidth\":0,\"ticks\":\"\"}}}],\"scatterpolargl\":[{\"type\":\"scatterpolargl\",\"marker\":{\"colorbar\":{\"outlinewidth\":0,\"ticks\":\"\"}}}],\"bar\":[{\"error_x\":{\"color\":\"#2a3f5f\"},\"error_y\":{\"color\":\"#2a3f5f\"},\"marker\":{\"line\":{\"color\":\"#E5ECF6\",\"width\":0.5},\"pattern\":{\"fillmode\":\"overlay\",\"size\":10,\"solidity\":0.2}},\"type\":\"bar\"}],\"scattergeo\":[{\"type\":\"scattergeo\",\"marker\":{\"colorbar\":{\"outlinewidth\":0,\"ticks\":\"\"}}}],\"scatterpolar\":[{\"type\":\"scatterpolar\",\"marker\":{\"colorbar\":{\"outlinewidth\":0,\"ticks\":\"\"}}}],\"histogram\":[{\"marker\":{\"pattern\":{\"fillmode\":\"overlay\",\"size\":10,\"solidity\":0.2}},\"type\":\"histogram\"}],\"scattergl\":[{\"type\":\"scattergl\",\"marker\":{\"colorbar\":{\"outlinewidth\":0,\"ticks\":\"\"}}}],\"scatter3d\":[{\"type\":\"scatter3d\",\"line\":{\"colorbar\":{\"outlinewidth\":0,\"ticks\":\"\"}},\"marker\":{\"colorbar\":{\"outlinewidth\":0,\"ticks\":\"\"}}}],\"scattermapbox\":[{\"type\":\"scattermapbox\",\"marker\":{\"colorbar\":{\"outlinewidth\":0,\"ticks\":\"\"}}}],\"scatterternary\":[{\"type\":\"scatterternary\",\"marker\":{\"colorbar\":{\"outlinewidth\":0,\"ticks\":\"\"}}}],\"scattercarpet\":[{\"type\":\"scattercarpet\",\"marker\":{\"colorbar\":{\"outlinewidth\":0,\"ticks\":\"\"}}}],\"carpet\":[{\"aaxis\":{\"endlinecolor\":\"#2a3f5f\",\"gridcolor\":\"white\",\"linecolor\":\"white\",\"minorgridcolor\":\"white\",\"startlinecolor\":\"#2a3f5f\"},\"baxis\":{\"endlinecolor\":\"#2a3f5f\",\"gridcolor\":\"white\",\"linecolor\":\"white\",\"minorgridcolor\":\"white\",\"startlinecolor\":\"#2a3f5f\"},\"type\":\"carpet\"}],\"table\":[{\"cells\":{\"fill\":{\"color\":\"#EBF0F8\"},\"line\":{\"color\":\"white\"}},\"header\":{\"fill\":{\"color\":\"#C8D4E3\"},\"line\":{\"color\":\"white\"}},\"type\":\"table\"}],\"barpolar\":[{\"marker\":{\"line\":{\"color\":\"#E5ECF6\",\"width\":0.5},\"pattern\":{\"fillmode\":\"overlay\",\"size\":10,\"solidity\":0.2}},\"type\":\"barpolar\"}],\"pie\":[{\"automargin\":true,\"type\":\"pie\"}]},\"layout\":{\"autotypenumbers\":\"strict\",\"colorway\":[\"#636efa\",\"#EF553B\",\"#00cc96\",\"#ab63fa\",\"#FFA15A\",\"#19d3f3\",\"#FF6692\",\"#B6E880\",\"#FF97FF\",\"#FECB52\"],\"font\":{\"color\":\"#2a3f5f\"},\"hovermode\":\"closest\",\"hoverlabel\":{\"align\":\"left\"},\"paper_bgcolor\":\"white\",\"plot_bgcolor\":\"#E5ECF6\",\"polar\":{\"bgcolor\":\"#E5ECF6\",\"angularaxis\":{\"gridcolor\":\"white\",\"linecolor\":\"white\",\"ticks\":\"\"},\"radialaxis\":{\"gridcolor\":\"white\",\"linecolor\":\"white\",\"ticks\":\"\"}},\"ternary\":{\"bgcolor\":\"#E5ECF6\",\"aaxis\":{\"gridcolor\":\"white\",\"linecolor\":\"white\",\"ticks\":\"\"},\"baxis\":{\"gridcolor\":\"white\",\"linecolor\":\"white\",\"ticks\":\"\"},\"caxis\":{\"gridcolor\":\"white\",\"linecolor\":\"white\",\"ticks\":\"\"}},\"coloraxis\":{\"colorbar\":{\"outlinewidth\":0,\"ticks\":\"\"}},\"colorscale\":{\"sequential\":[[0.0,\"#0d0887\"],[0.1111111111111111,\"#46039f\"],[0.2222222222222222,\"#7201a8\"],[0.3333333333333333,\"#9c179e\"],[0.4444444444444444,\"#bd3786\"],[0.5555555555555556,\"#d8576b\"],[0.6666666666666666,\"#ed7953\"],[0.7777777777777778,\"#fb9f3a\"],[0.8888888888888888,\"#fdca26\"],[1.0,\"#f0f921\"]],\"sequentialminus\":[[0.0,\"#0d0887\"],[0.1111111111111111,\"#46039f\"],[0.2222222222222222,\"#7201a8\"],[0.3333333333333333,\"#9c179e\"],[0.4444444444444444,\"#bd3786\"],[0.5555555555555556,\"#d8576b\"],[0.6666666666666666,\"#ed7953\"],[0.7777777777777778,\"#fb9f3a\"],[0.8888888888888888,\"#fdca26\"],[1.0,\"#f0f921\"]],\"diverging\":[[0,\"#8e0152\"],[0.1,\"#c51b7d\"],[0.2,\"#de77ae\"],[0.3,\"#f1b6da\"],[0.4,\"#fde0ef\"],[0.5,\"#f7f7f7\"],[0.6,\"#e6f5d0\"],[0.7,\"#b8e186\"],[0.8,\"#7fbc41\"],[0.9,\"#4d9221\"],[1,\"#276419\"]]},\"xaxis\":{\"gridcolor\":\"white\",\"linecolor\":\"white\",\"ticks\":\"\",\"title\":{\"standoff\":15},\"zerolinecolor\":\"white\",\"automargin\":true,\"zerolinewidth\":2},\"yaxis\":{\"gridcolor\":\"white\",\"linecolor\":\"white\",\"ticks\":\"\",\"title\":{\"standoff\":15},\"zerolinecolor\":\"white\",\"automargin\":true,\"zerolinewidth\":2},\"scene\":{\"xaxis\":{\"backgroundcolor\":\"#E5ECF6\",\"gridcolor\":\"white\",\"linecolor\":\"white\",\"showbackground\":true,\"ticks\":\"\",\"zerolinecolor\":\"white\",\"gridwidth\":2},\"yaxis\":{\"backgroundcolor\":\"#E5ECF6\",\"gridcolor\":\"white\",\"linecolor\":\"white\",\"showbackground\":true,\"ticks\":\"\",\"zerolinecolor\":\"white\",\"gridwidth\":2},\"zaxis\":{\"backgroundcolor\":\"#E5ECF6\",\"gridcolor\":\"white\",\"linecolor\":\"white\",\"showbackground\":true,\"ticks\":\"\",\"zerolinecolor\":\"white\",\"gridwidth\":2}},\"shapedefaults\":{\"line\":{\"color\":\"#2a3f5f\"}},\"annotationdefaults\":{\"arrowcolor\":\"#2a3f5f\",\"arrowhead\":0,\"arrowwidth\":1},\"geo\":{\"bgcolor\":\"white\",\"landcolor\":\"#E5ECF6\",\"subunitcolor\":\"white\",\"showland\":true,\"showlakes\":true,\"lakecolor\":\"white\"},\"title\":{\"x\":0.05},\"mapbox\":{\"style\":\"light\"}}},\"legend\":{\"tracegroupgap\":0},\"title\":{\"text\":\"Distribution of leading party's seat\"}},                        {\"responsive\": true}                    ).then(function(){\n",
       "                            \n",
       "var gd = document.getElementById('3265b250-86a3-4538-8208-5838ca5beab0');\n",
       "var x = new MutationObserver(function (mutations, observer) {{\n",
       "        var display = window.getComputedStyle(gd).display;\n",
       "        if (!display || display === 'none') {{\n",
       "            console.log([gd, 'removed!']);\n",
       "            Plotly.purge(gd);\n",
       "            observer.disconnect();\n",
       "        }}\n",
       "}});\n",
       "\n",
       "// Listen for the removal of the full notebook cells\n",
       "var notebookContainer = gd.closest('#notebook-container');\n",
       "if (notebookContainer) {{\n",
       "    x.observe(notebookContainer, {childList: true});\n",
       "}}\n",
       "\n",
       "// Listen for the clearing of the current output cell\n",
       "var outputEl = gd.closest('.output');\n",
       "if (outputEl) {{\n",
       "    x.observe(outputEl, {childList: true});\n",
       "}}\n",
       "\n",
       "                        })                };                });            </script>        </div>"
      ]
     },
     "metadata": {},
     "output_type": "display_data"
    }
   ],
   "source": [
    "leads = df['Leading Party'].value_counts().head(20)\n",
    "\n",
    "fig = px.pie(leads, names=leads.index, values=leads.values,\n",
    "             title=\"Distribution of leading party's seat\")\n",
    "\n",
    "py.init_notebook_mode(connected=True)\n",
    "\n",
    "fig.show()"
   ]
  },
  {
   "cell_type": "code",
   "execution_count": 25,
   "id": "efa2de42",
   "metadata": {},
   "outputs": [
    {
     "data": {
      "image/png": "[encoded data removed]",
      "text/plain": [
       "<Figure size 1008x576 with 1 Axes>"
      ]
     },
     "metadata": {
      "needs_background": "light"
     },
     "output_type": "display_data"
    }
   ],
   "source": [
    "def leading_vs_trailing_parties(df, n=20):\n",
    "    leading_trailing = df.melt(id_vars=['Constituency'], value_vars=['Leading Party', 'Trailing Party'], \n",
    "                               var_name='Party Type', value_name='Party')\n",
    "    top_n_parties = leading_trailing['Party'].value_counts().index[:n]\n",
    "    leading_trailing = leading_trailing[leading_trailing['Party'].isin(top_n_parties)]\n",
    "    plt.figure(figsize=(14, 8))\n",
    "    sns.countplot(y='Party', hue='Party Type', data=leading_trailing, order=top_n_parties)\n",
    "    plt.title(f'Top {n} Parties by Leading and Trailing Status')\n",
    "    plt.xlabel('Count')\n",
    "    plt.ylabel('Party')\n",
    "    plt.show()\n",
    "\n",
    "leading_vs_trailing_parties(df, n=20)"
   ]
  },
  {
   "cell_type": "code",
   "execution_count": 26,
   "id": "fb735e7a",
   "metadata": {},
   "outputs": [
    {
     "data": {
      "image/png": "[encoded data removed]",
      "text/plain": [
       "<Figure size 720x576 with 1 Axes>"
      ]
     },
     "metadata": {},
     "output_type": "display_data"
    }
   ],
   "source": [
    "# Group by 'Leading Party' and sum the 'Margin'\n",
    "party_votes = df.groupby('Leading Party')['Margin'].sum().sort_values(ascending=False)\n",
    "\n",
    "# Plot pie chart\n",
    "plt.figure(figsize=(10, 8))\n",
    "wedges, texts, autotexts = plt.pie(party_votes, labels=None, autopct='%1.1f%%', startangle=140, wedgeprops=dict(edgecolor='w'))\n",
    "plt.title('Votes Distribution by Party', pad=20)\n",
    "plt.axis('equal')\n",
    "\n",
    "plt.legend(labels=party_votes.index, loc='center left', bbox_to_anchor=(1, 0.5), fontsize='medium')\n",
    "\n",
    "plt.show()"
   ]
  },
  {
   "cell_type": "code",
   "execution_count": 27,
   "id": "58b12d2c",
   "metadata": {},
   "outputs": [
    {
     "data": {
      "image/png": "[encoded data removed]",
      "text/plain": [
       "<Figure size 1440x720 with 1 Axes>"
      ]
     },
     "metadata": {
      "needs_background": "light"
     },
     "output_type": "display_data"
    }
   ],
   "source": [
    "\n",
    "data = {\n",
    "    \"Party\": [\n",
    "        \"Bharatiya Janata Party - BJP\", \"Indian National Congress - INC\", \"Samajwadi Party - SP\",\n",
    "        \"All India Trinamool Congress - AITC\", \"Dravida Munnetra Kazhagam - DMK\", \"Telugu Desam - TDP\",\n",
    "        \"Janata Dal (United) - JD(U)\", \"Shiv Sena (Uddhav Balasaheb Thackrey) - SHSUBT\",\n",
    "        \"Nationalist Congress Party – Sharadchandra Pawar - NCPSP\", \"Shiv Sena - SHS\",\n",
    "        \"Lok Janshakti Party(Ram Vilas) - LJPRV\", \"Yuvajana Sramika Rythu Congress Party - YSRCP\",\n",
    "        \"Rashtriya Janata Dal - RJD\", \"Communist Party of India (Marxist) - CPI(M)\", \n",
    "        \"Indian Union Muslim League - IUML\", \"Aam Aadmi Party - AAAP\", \"Jharkhand Mukti Morcha - JMM\",\n",
    "        \"Janasena Party - JnP\", \"Communist Party of India (Marxist-Leninist) (Liberation) - CPI(ML)(L)\",\n",
    "        \"Janata Dal (Secular) - JD(S)\", \"Viduthalai Chiruthaigal Katchi - VCK\", \"Communist Party of India - CPI\",\n",
    "        \"Rashtriya Lok Dal - RLD\", \"Jammu & Kashmir National Conference - JKN\", \"United People’s Party, Liberal - UPPL\",\n",
    "        \"Asom Gana Parishad - AGP\", \"Hindustani Awam Morcha (Secular) - HAMS\", \"Kerala Congress - KEC\",\n",
    "        \"Revolutionary Socialist Party - RSP\", \"Nationalist Congress Party - NCP\", \"Voice of the People Party - VOTPP\",\n",
    "        \"Zoram People’s Movement - ZPM\", \"Shiromani Akali Dal - SAD\", \"Rashtriya Loktantrik Party - RLTP\",\n",
    "        \"Bharat Adivasi Party - BHRTADVSIP\", \"Sikkim Krantikari Morcha - SKM\", \"Marumalarchi Dravida Munnetra Kazhagam - MDMK\",\n",
    "        \"Aazad Samaj Party (Kanshi Ram) - ASPKR\", \"Apna Dal (Soneylal) - ADAL\", \"AJSU Party - AJSUP\",\n",
    "        \"All India Majlis-E-Ittehadul Muslimeen - AIMIM\", \"Independent - IND\"\n",
    "    ],\n",
    "    \"Won\": [\n",
    "        240, 99, 37, 29, 22, 16, 12, 9, 8, 7, 5, 4, 4, 4, 3, 3, 3, 2, 2, 2, 2, 2, 2, 2, 1, 1, 1, 1, 1, 1, 1, 1, 1, 1, 1, 1, 1, 1, 1, 1, 1, 7\n",
    "    ]\n",
    "}\n",
    "\n",
    "# Convert to DataFrame\n",
    "df = pd.DataFrame(data)\n",
    "\n",
    "# Plot number of seats won by each party\n",
    "plt.figure(figsize=(20, 10))\n",
    "sns.barplot(x='Won', y='Party', data=df, palette='viridis')\n",
    "plt.title('Number of Seats Won by Each Party')\n",
    "plt.xlabel('Seats Won')\n",
    "plt.ylabel('Party')\n",
    "plt.show()\n",
    "\n"
   ]
  },
  {
   "cell_type": "code",
   "execution_count": 38,
   "id": "2f1bc5ec",
   "metadata": {},
   "outputs": [
    {
     "data": {
      "application/vnd.plotly.v1+json": {
       "config": {
        "plotlyServerURL": "https://plot.ly"
       },
       "data": [
        {
         "domain": {
          "x": [
           0,
           1
          ],
          "y": [
           0,
           1
          ]
         },
         "hovertemplate": "Party=%{label}<br>Won=%{value}<extra></extra>",
         "labels": [
          "Bharatiya Janata Party - BJP",
          "Indian National Congress - INC",
          "Samajwadi Party - SP",
          "All India Trinamool Congress - AITC",
          "Dravida Munnetra Kazhagam - DMK",
          "Telugu Desam - TDP",
          "Janata Dal (United) - JD(U)",
          "Shiv Sena (Uddhav Balasaheb Thackrey) - SHSUBT",
          "Nationalist Congress Party – Sharadchandra Pawar - NCPSP",
          "Shiv Sena - SHS"
         ],
         "legendgroup": "",
         "name": "",
         "showlegend": true,
         "type": "pie",
         "values": [
          240,
          99,
          37,
          29,
          22,
          16,
          12,
          9,
          8,
          7
         ]
        }
       ],
       "layout": {
        "legend": {
         "tracegroupgap": 0
        },
        "template": {
         "data": {
          "bar": [
           {
            "error_x": {
             "color": "#2a3f5f"
            },
            "error_y": {
             "color": "#2a3f5f"
            },
            "marker": {
             "line": {
              "color": "#E5ECF6",
              "width": 0.5
             },
             "pattern": {
              "fillmode": "overlay",
              "size": 10,
              "solidity": 0.2
             }
            },
            "type": "bar"
           }
          ],
          "barpolar": [
           {
            "marker": {
             "line": {
              "color": "#E5ECF6",
              "width": 0.5
             },
             "pattern": {
              "fillmode": "overlay",
              "size": 10,
              "solidity": 0.2
             }
            },
            "type": "barpolar"
           }
          ],
          "carpet": [
           {
            "aaxis": {
             "endlinecolor": "#2a3f5f",
             "gridcolor": "white",
             "linecolor": "white",
             "minorgridcolor": "white",
             "startlinecolor": "#2a3f5f"
            },
            "baxis": {
             "endlinecolor": "#2a3f5f",
             "gridcolor": "white",
             "linecolor": "white",
             "minorgridcolor": "white",
             "startlinecolor": "#2a3f5f"
            },
            "type": "carpet"
           }
          ],
          "choropleth": [
           {
            "colorbar": {
             "outlinewidth": 0,
             "ticks": ""
            },
            "type": "choropleth"
           }
          ],
          "contour": [
           {
            "colorbar": {
             "outlinewidth": 0,
             "ticks": ""
            },
            "colorscale": [
             [
              0,
              "#0d0887"
             ],
             [
              0.1111111111111111,
              "#46039f"
             ],
             [
              0.2222222222222222,
              "#7201a8"
             ],
             [
              0.3333333333333333,
              "#9c179e"
             ],
             [
              0.4444444444444444,
              "#bd3786"
             ],
             [
              0.5555555555555556,
              "#d8576b"
             ],
             [
              0.6666666666666666,
              "#ed7953"
             ],
             [
              0.7777777777777778,
              "#fb9f3a"
             ],
             [
              0.8888888888888888,
              "#fdca26"
             ],
             [
              1,
              "#f0f921"
             ]
            ],
            "type": "contour"
           }
          ],
          "contourcarpet": [
           {
            "colorbar": {
             "outlinewidth": 0,
             "ticks": ""
            },
            "type": "contourcarpet"
           }
          ],
          "heatmap": [
           {
            "colorbar": {
             "outlinewidth": 0,
             "ticks": ""
            },
            "colorscale": [
             [
              0,
              "#0d0887"
             ],
             [
              0.1111111111111111,
              "#46039f"
             ],
             [
              0.2222222222222222,
              "#7201a8"
             ],
             [
              0.3333333333333333,
              "#9c179e"
             ],
             [
              0.4444444444444444,
              "#bd3786"
             ],
             [
              0.5555555555555556,
              "#d8576b"
             ],
             [
              0.6666666666666666,
              "#ed7953"
             ],
             [
              0.7777777777777778,
              "#fb9f3a"
             ],
             [
              0.8888888888888888,
              "#fdca26"
             ],
             [
              1,
              "#f0f921"
             ]
            ],
            "type": "heatmap"
           }
          ],
          "heatmapgl": [
           {
            "colorbar": {
             "outlinewidth": 0,
             "ticks": ""
            },
            "colorscale": [
             [
              0,
              "#0d0887"
             ],
             [
              0.1111111111111111,
              "#46039f"
             ],
             [
              0.2222222222222222,
              "#7201a8"
             ],
             [
              0.3333333333333333,
              "#9c179e"
             ],
             [
              0.4444444444444444,
              "#bd3786"
             ],
             [
              0.5555555555555556,
              "#d8576b"
             ],
             [
              0.6666666666666666,
              "#ed7953"
             ],
             [
              0.7777777777777778,
              "#fb9f3a"
             ],
             [
              0.8888888888888888,
              "#fdca26"
             ],
             [
              1,
              "#f0f921"
             ]
            ],
            "type": "heatmapgl"
           }
          ],
          "histogram": [
           {
            "marker": {
             "pattern": {
              "fillmode": "overlay",
              "size": 10,
              "solidity": 0.2
             }
            },
            "type": "histogram"
           }
          ],
          "histogram2d": [
           {
            "colorbar": {
             "outlinewidth": 0,
             "ticks": ""
            },
            "colorscale": [
             [
              0,
              "#0d0887"
             ],
             [
              0.1111111111111111,
              "#46039f"
             ],
             [
              0.2222222222222222,
              "#7201a8"
             ],
             [
              0.3333333333333333,
              "#9c179e"
             ],
             [
              0.4444444444444444,
              "#bd3786"
             ],
             [
              0.5555555555555556,
              "#d8576b"
             ],
             [
              0.6666666666666666,
              "#ed7953"
             ],
             [
              0.7777777777777778,
              "#fb9f3a"
             ],
             [
              0.8888888888888888,
              "#fdca26"
             ],
             [
              1,
              "#f0f921"
             ]
            ],
            "type": "histogram2d"
           }
          ],
          "histogram2dcontour": [
           {
            "colorbar": {
             "outlinewidth": 0,
             "ticks": ""
            },
            "colorscale": [
             [
              0,
              "#0d0887"
             ],
             [
              0.1111111111111111,
              "#46039f"
             ],
             [
              0.2222222222222222,
              "#7201a8"
             ],
             [
              0.3333333333333333,
              "#9c179e"
             ],
             [
              0.4444444444444444,
              "#bd3786"
             ],
             [
              0.5555555555555556,
              "#d8576b"
             ],
             [
              0.6666666666666666,
              "#ed7953"
             ],
             [
              0.7777777777777778,
              "#fb9f3a"
             ],
             [
              0.8888888888888888,
              "#fdca26"
             ],
             [
              1,
              "#f0f921"
             ]
            ],
            "type": "histogram2dcontour"
           }
          ],
          "mesh3d": [
           {
            "colorbar": {
             "outlinewidth": 0,
             "ticks": ""
            },
            "type": "mesh3d"
           }
          ],
          "parcoords": [
           {
            "line": {
             "colorbar": {
              "outlinewidth": 0,
              "ticks": ""
             }
            },
            "type": "parcoords"
           }
          ],
          "pie": [
           {
            "automargin": true,
            "type": "pie"
           }
          ],
          "scatter": [
           {
            "fillpattern": {
             "fillmode": "overlay",
             "size": 10,
             "solidity": 0.2
            },
            "type": "scatter"
           }
          ],
          "scatter3d": [
           {
            "line": {
             "colorbar": {
              "outlinewidth": 0,
              "ticks": ""
             }
            },
            "marker": {
             "colorbar": {
              "outlinewidth": 0,
              "ticks": ""
             }
            },
            "type": "scatter3d"
           }
          ],
          "scattercarpet": [
           {
            "marker": {
             "colorbar": {
              "outlinewidth": 0,
              "ticks": ""
             }
            },
            "type": "scattercarpet"
           }
          ],
          "scattergeo": [
           {
            "marker": {
             "colorbar": {
              "outlinewidth": 0,
              "ticks": ""
             }
            },
            "type": "scattergeo"
           }
          ],
          "scattergl": [
           {
            "marker": {
             "colorbar": {
              "outlinewidth": 0,
              "ticks": ""
             }
            },
            "type": "scattergl"
           }
          ],
          "scattermapbox": [
           {
            "marker": {
             "colorbar": {
              "outlinewidth": 0,
              "ticks": ""
             }
            },
            "type": "scattermapbox"
           }
          ],
          "scatterpolar": [
           {
            "marker": {
             "colorbar": {
              "outlinewidth": 0,
              "ticks": ""
             }
            },
            "type": "scatterpolar"
           }
          ],
          "scatterpolargl": [
           {
            "marker": {
             "colorbar": {
              "outlinewidth": 0,
              "ticks": ""
             }
            },
            "type": "scatterpolargl"
           }
          ],
          "scatterternary": [
           {
            "marker": {
             "colorbar": {
              "outlinewidth": 0,
              "ticks": ""
             }
            },
            "type": "scatterternary"
           }
          ],
          "surface": [
           {
            "colorbar": {
             "outlinewidth": 0,
             "ticks": ""
            },
            "colorscale": [
             [
              0,
              "#0d0887"
             ],
             [
              0.1111111111111111,
              "#46039f"
             ],
             [
              0.2222222222222222,
              "#7201a8"
             ],
             [
              0.3333333333333333,
              "#9c179e"
             ],
             [
              0.4444444444444444,
              "#bd3786"
             ],
             [
              0.5555555555555556,
              "#d8576b"
             ],
             [
              0.6666666666666666,
              "#ed7953"
             ],
             [
              0.7777777777777778,
              "#fb9f3a"
             ],
             [
              0.8888888888888888,
              "#fdca26"
             ],
             [
              1,
              "#f0f921"
             ]
            ],
            "type": "surface"
           }
          ],
          "table": [
           {
            "cells": {
             "fill": {
              "color": "#EBF0F8"
             },
             "line": {
              "color": "white"
             }
            },
            "header": {
             "fill": {
              "color": "#C8D4E3"
             },
             "line": {
              "color": "white"
             }
            },
            "type": "table"
           }
          ]
         },
         "layout": {
          "annotationdefaults": {
           "arrowcolor": "#2a3f5f",
           "arrowhead": 0,
           "arrowwidth": 1
          },
          "autotypenumbers": "strict",
          "coloraxis": {
           "colorbar": {
            "outlinewidth": 0,
            "ticks": ""
           }
          },
          "colorscale": {
           "diverging": [
            [
             0,
             "#8e0152"
            ],
            [
             0.1,
             "#c51b7d"
            ],
            [
             0.2,
             "#de77ae"
            ],
            [
             0.3,
             "#f1b6da"
            ],
            [
             0.4,
             "#fde0ef"
            ],
            [
             0.5,
             "#f7f7f7"
            ],
            [
             0.6,
             "#e6f5d0"
            ],
            [
             0.7,
             "#b8e186"
            ],
            [
             0.8,
             "#7fbc41"
            ],
            [
             0.9,
             "#4d9221"
            ],
            [
             1,
             "#276419"
            ]
           ],
           "sequential": [
            [
             0,
             "#0d0887"
            ],
            [
             0.1111111111111111,
             "#46039f"
            ],
            [
             0.2222222222222222,
             "#7201a8"
            ],
            [
             0.3333333333333333,
             "#9c179e"
            ],
            [
             0.4444444444444444,
             "#bd3786"
            ],
            [
             0.5555555555555556,
             "#d8576b"
            ],
            [
             0.6666666666666666,
             "#ed7953"
            ],
            [
             0.7777777777777778,
             "#fb9f3a"
            ],
            [
             0.8888888888888888,
             "#fdca26"
            ],
            [
             1,
             "#f0f921"
            ]
           ],
           "sequentialminus": [
            [
             0,
             "#0d0887"
            ],
            [
             0.1111111111111111,
             "#46039f"
            ],
            [
             0.2222222222222222,
             "#7201a8"
            ],
            [
             0.3333333333333333,
             "#9c179e"
            ],
            [
             0.4444444444444444,
             "#bd3786"
            ],
            [
             0.5555555555555556,
             "#d8576b"
            ],
            [
             0.6666666666666666,
             "#ed7953"
            ],
            [
             0.7777777777777778,
             "#fb9f3a"
            ],
            [
             0.8888888888888888,
             "#fdca26"
            ],
            [
             1,
             "#f0f921"
            ]
           ]
          },
          "colorway": [
           "#636efa",
           "#EF553B",
           "#00cc96",
           "#ab63fa",
           "#FFA15A",
           "#19d3f3",
           "#FF6692",
           "#B6E880",
           "#FF97FF",
           "#FECB52"
          ],
          "font": {
           "color": "#2a3f5f"
          },
          "geo": {
           "bgcolor": "white",
           "lakecolor": "white",
           "landcolor": "#E5ECF6",
           "showlakes": true,
           "showland": true,
           "subunitcolor": "white"
          },
          "hoverlabel": {
           "align": "left"
          },
          "hovermode": "closest",
          "mapbox": {
           "style": "light"
          },
          "paper_bgcolor": "white",
          "plot_bgcolor": "#E5ECF6",
          "polar": {
           "angularaxis": {
            "gridcolor": "white",
            "linecolor": "white",
            "ticks": ""
           },
           "bgcolor": "#E5ECF6",
           "radialaxis": {
            "gridcolor": "white",
            "linecolor": "white",
            "ticks": ""
           }
          },
          "scene": {
           "xaxis": {
            "backgroundcolor": "#E5ECF6",
            "gridcolor": "white",
            "gridwidth": 2,
            "linecolor": "white",
            "showbackground": true,
            "ticks": "",
            "zerolinecolor": "white"
           },
           "yaxis": {
            "backgroundcolor": "#E5ECF6",
            "gridcolor": "white",
            "gridwidth": 2,
            "linecolor": "white",
            "showbackground": true,
            "ticks": "",
            "zerolinecolor": "white"
           },
           "zaxis": {
            "backgroundcolor": "#E5ECF6",
            "gridcolor": "white",
            "gridwidth": 2,
            "linecolor": "white",
            "showbackground": true,
            "ticks": "",
            "zerolinecolor": "white"
           }
          },
          "shapedefaults": {
           "line": {
            "color": "#2a3f5f"
           }
          },
          "ternary": {
           "aaxis": {
            "gridcolor": "white",
            "linecolor": "white",
            "ticks": ""
           },
           "baxis": {
            "gridcolor": "white",
            "linecolor": "white",
            "ticks": ""
           },
           "bgcolor": "#E5ECF6",
           "caxis": {
            "gridcolor": "white",
            "linecolor": "white",
            "ticks": ""
           }
          },
          "title": {
           "x": 0.05
          },
          "xaxis": {
           "automargin": true,
           "gridcolor": "white",
           "linecolor": "white",
           "ticks": "",
           "title": {
            "standoff": 15
           },
           "zerolinecolor": "white",
           "zerolinewidth": 2
          },
          "yaxis": {
           "automargin": true,
           "gridcolor": "white",
           "linecolor": "white",
           "ticks": "",
           "title": {
            "standoff": 15
           },
           "zerolinecolor": "white",
           "zerolinewidth": 2
          }
         }
        },
        "title": {
         "text": "Top 10 Parties by Seats Won"
        }
       }
      },
      "text/html": [
       "<div>                            <div id=\"9873418d-179b-43ee-900b-2f3a5d413b71\" class=\"plotly-graph-div\" style=\"height:525px; width:100%;\"></div>            <script type=\"text/javascript\">                require([\"plotly\"], function(Plotly) {                    window.PLOTLYENV=window.PLOTLYENV || {};                                    if (document.getElementById(\"9873418d-179b-43ee-900b-2f3a5d413b71\")) {                    Plotly.newPlot(                        \"9873418d-179b-43ee-900b-2f3a5d413b71\",                        [{\"domain\":{\"x\":[0.0,1.0],\"y\":[0.0,1.0]},\"hovertemplate\":\"Party=%{label}<br>Won=%{value}<extra></extra>\",\"labels\":[\"Bharatiya Janata Party - BJP\",\"Indian National Congress - INC\",\"Samajwadi Party - SP\",\"All India Trinamool Congress - AITC\",\"Dravida Munnetra Kazhagam - DMK\",\"Telugu Desam - TDP\",\"Janata Dal (United) - JD(U)\",\"Shiv Sena (Uddhav Balasaheb Thackrey) - SHSUBT\",\"Nationalist Congress Party \\u2013 Sharadchandra Pawar - NCPSP\",\"Shiv Sena - SHS\"],\"legendgroup\":\"\",\"name\":\"\",\"showlegend\":true,\"values\":[240,99,37,29,22,16,12,9,8,7],\"type\":\"pie\"}],                        {\"template\":{\"data\":{\"histogram2dcontour\":[{\"type\":\"histogram2dcontour\",\"colorbar\":{\"outlinewidth\":0,\"ticks\":\"\"},\"colorscale\":[[0.0,\"#0d0887\"],[0.1111111111111111,\"#46039f\"],[0.2222222222222222,\"#7201a8\"],[0.3333333333333333,\"#9c179e\"],[0.4444444444444444,\"#bd3786\"],[0.5555555555555556,\"#d8576b\"],[0.6666666666666666,\"#ed7953\"],[0.7777777777777778,\"#fb9f3a\"],[0.8888888888888888,\"#fdca26\"],[1.0,\"#f0f921\"]]}],\"choropleth\":[{\"type\":\"choropleth\",\"colorbar\":{\"outlinewidth\":0,\"ticks\":\"\"}}],\"histogram2d\":[{\"type\":\"histogram2d\",\"colorbar\":{\"outlinewidth\":0,\"ticks\":\"\"},\"colorscale\":[[0.0,\"#0d0887\"],[0.1111111111111111,\"#46039f\"],[0.2222222222222222,\"#7201a8\"],[0.3333333333333333,\"#9c179e\"],[0.4444444444444444,\"#bd3786\"],[0.5555555555555556,\"#d8576b\"],[0.6666666666666666,\"#ed7953\"],[0.7777777777777778,\"#fb9f3a\"],[0.8888888888888888,\"#fdca26\"],[1.0,\"#f0f921\"]]}],\"heatmap\":[{\"type\":\"heatmap\",\"colorbar\":{\"outlinewidth\":0,\"ticks\":\"\"},\"colorscale\":[[0.0,\"#0d0887\"],[0.1111111111111111,\"#46039f\"],[0.2222222222222222,\"#7201a8\"],[0.3333333333333333,\"#9c179e\"],[0.4444444444444444,\"#bd3786\"],[0.5555555555555556,\"#d8576b\"],[0.6666666666666666,\"#ed7953\"],[0.7777777777777778,\"#fb9f3a\"],[0.8888888888888888,\"#fdca26\"],[1.0,\"#f0f921\"]]}],\"heatmapgl\":[{\"type\":\"heatmapgl\",\"colorbar\":{\"outlinewidth\":0,\"ticks\":\"\"},\"colorscale\":[[0.0,\"#0d0887\"],[0.1111111111111111,\"#46039f\"],[0.2222222222222222,\"#7201a8\"],[0.3333333333333333,\"#9c179e\"],[0.4444444444444444,\"#bd3786\"],[0.5555555555555556,\"#d8576b\"],[0.6666666666666666,\"#ed7953\"],[0.7777777777777778,\"#fb9f3a\"],[0.8888888888888888,\"#fdca26\"],[1.0,\"#f0f921\"]]}],\"contourcarpet\":[{\"type\":\"contourcarpet\",\"colorbar\":{\"outlinewidth\":0,\"ticks\":\"\"}}],\"contour\":[{\"type\":\"contour\",\"colorbar\":{\"outlinewidth\":0,\"ticks\":\"\"},\"colorscale\":[[0.0,\"#0d0887\"],[0.1111111111111111,\"#46039f\"],[0.2222222222222222,\"#7201a8\"],[0.3333333333333333,\"#9c179e\"],[0.4444444444444444,\"#bd3786\"],[0.5555555555555556,\"#d8576b\"],[0.6666666666666666,\"#ed7953\"],[0.7777777777777778,\"#fb9f3a\"],[0.8888888888888888,\"#fdca26\"],[1.0,\"#f0f921\"]]}],\"surface\":[{\"type\":\"surface\",\"colorbar\":{\"outlinewidth\":0,\"ticks\":\"\"},\"colorscale\":[[0.0,\"#0d0887\"],[0.1111111111111111,\"#46039f\"],[0.2222222222222222,\"#7201a8\"],[0.3333333333333333,\"#9c179e\"],[0.4444444444444444,\"#bd3786\"],[0.5555555555555556,\"#d8576b\"],[0.6666666666666666,\"#ed7953\"],[0.7777777777777778,\"#fb9f3a\"],[0.8888888888888888,\"#fdca26\"],[1.0,\"#f0f921\"]]}],\"mesh3d\":[{\"type\":\"mesh3d\",\"colorbar\":{\"outlinewidth\":0,\"ticks\":\"\"}}],\"scatter\":[{\"fillpattern\":{\"fillmode\":\"overlay\",\"size\":10,\"solidity\":0.2},\"type\":\"scatter\"}],\"parcoords\":[{\"type\":\"parcoords\",\"line\":{\"colorbar\":{\"outlinewidth\":0,\"ticks\":\"\"}}}],\"scatterpolargl\":[{\"type\":\"scatterpolargl\",\"marker\":{\"colorbar\":{\"outlinewidth\":0,\"ticks\":\"\"}}}],\"bar\":[{\"error_x\":{\"color\":\"#2a3f5f\"},\"error_y\":{\"color\":\"#2a3f5f\"},\"marker\":{\"line\":{\"color\":\"#E5ECF6\",\"width\":0.5},\"pattern\":{\"fillmode\":\"overlay\",\"size\":10,\"solidity\":0.2}},\"type\":\"bar\"}],\"scattergeo\":[{\"type\":\"scattergeo\",\"marker\":{\"colorbar\":{\"outlinewidth\":0,\"ticks\":\"\"}}}],\"scatterpolar\":[{\"type\":\"scatterpolar\",\"marker\":{\"colorbar\":{\"outlinewidth\":0,\"ticks\":\"\"}}}],\"histogram\":[{\"marker\":{\"pattern\":{\"fillmode\":\"overlay\",\"size\":10,\"solidity\":0.2}},\"type\":\"histogram\"}],\"scattergl\":[{\"type\":\"scattergl\",\"marker\":{\"colorbar\":{\"outlinewidth\":0,\"ticks\":\"\"}}}],\"scatter3d\":[{\"type\":\"scatter3d\",\"line\":{\"colorbar\":{\"outlinewidth\":0,\"ticks\":\"\"}},\"marker\":{\"colorbar\":{\"outlinewidth\":0,\"ticks\":\"\"}}}],\"scattermapbox\":[{\"type\":\"scattermapbox\",\"marker\":{\"colorbar\":{\"outlinewidth\":0,\"ticks\":\"\"}}}],\"scatterternary\":[{\"type\":\"scatterternary\",\"marker\":{\"colorbar\":{\"outlinewidth\":0,\"ticks\":\"\"}}}],\"scattercarpet\":[{\"type\":\"scattercarpet\",\"marker\":{\"colorbar\":{\"outlinewidth\":0,\"ticks\":\"\"}}}],\"carpet\":[{\"aaxis\":{\"endlinecolor\":\"#2a3f5f\",\"gridcolor\":\"white\",\"linecolor\":\"white\",\"minorgridcolor\":\"white\",\"startlinecolor\":\"#2a3f5f\"},\"baxis\":{\"endlinecolor\":\"#2a3f5f\",\"gridcolor\":\"white\",\"linecolor\":\"white\",\"minorgridcolor\":\"white\",\"startlinecolor\":\"#2a3f5f\"},\"type\":\"carpet\"}],\"table\":[{\"cells\":{\"fill\":{\"color\":\"#EBF0F8\"},\"line\":{\"color\":\"white\"}},\"header\":{\"fill\":{\"color\":\"#C8D4E3\"},\"line\":{\"color\":\"white\"}},\"type\":\"table\"}],\"barpolar\":[{\"marker\":{\"line\":{\"color\":\"#E5ECF6\",\"width\":0.5},\"pattern\":{\"fillmode\":\"overlay\",\"size\":10,\"solidity\":0.2}},\"type\":\"barpolar\"}],\"pie\":[{\"automargin\":true,\"type\":\"pie\"}]},\"layout\":{\"autotypenumbers\":\"strict\",\"colorway\":[\"#636efa\",\"#EF553B\",\"#00cc96\",\"#ab63fa\",\"#FFA15A\",\"#19d3f3\",\"#FF6692\",\"#B6E880\",\"#FF97FF\",\"#FECB52\"],\"font\":{\"color\":\"#2a3f5f\"},\"hovermode\":\"closest\",\"hoverlabel\":{\"align\":\"left\"},\"paper_bgcolor\":\"white\",\"plot_bgcolor\":\"#E5ECF6\",\"polar\":{\"bgcolor\":\"#E5ECF6\",\"angularaxis\":{\"gridcolor\":\"white\",\"linecolor\":\"white\",\"ticks\":\"\"},\"radialaxis\":{\"gridcolor\":\"white\",\"linecolor\":\"white\",\"ticks\":\"\"}},\"ternary\":{\"bgcolor\":\"#E5ECF6\",\"aaxis\":{\"gridcolor\":\"white\",\"linecolor\":\"white\",\"ticks\":\"\"},\"baxis\":{\"gridcolor\":\"white\",\"linecolor\":\"white\",\"ticks\":\"\"},\"caxis\":{\"gridcolor\":\"white\",\"linecolor\":\"white\",\"ticks\":\"\"}},\"coloraxis\":{\"colorbar\":{\"outlinewidth\":0,\"ticks\":\"\"}},\"colorscale\":{\"sequential\":[[0.0,\"#0d0887\"],[0.1111111111111111,\"#46039f\"],[0.2222222222222222,\"#7201a8\"],[0.3333333333333333,\"#9c179e\"],[0.4444444444444444,\"#bd3786\"],[0.5555555555555556,\"#d8576b\"],[0.6666666666666666,\"#ed7953\"],[0.7777777777777778,\"#fb9f3a\"],[0.8888888888888888,\"#fdca26\"],[1.0,\"#f0f921\"]],\"sequentialminus\":[[0.0,\"#0d0887\"],[0.1111111111111111,\"#46039f\"],[0.2222222222222222,\"#7201a8\"],[0.3333333333333333,\"#9c179e\"],[0.4444444444444444,\"#bd3786\"],[0.5555555555555556,\"#d8576b\"],[0.6666666666666666,\"#ed7953\"],[0.7777777777777778,\"#fb9f3a\"],[0.8888888888888888,\"#fdca26\"],[1.0,\"#f0f921\"]],\"diverging\":[[0,\"#8e0152\"],[0.1,\"#c51b7d\"],[0.2,\"#de77ae\"],[0.3,\"#f1b6da\"],[0.4,\"#fde0ef\"],[0.5,\"#f7f7f7\"],[0.6,\"#e6f5d0\"],[0.7,\"#b8e186\"],[0.8,\"#7fbc41\"],[0.9,\"#4d9221\"],[1,\"#276419\"]]},\"xaxis\":{\"gridcolor\":\"white\",\"linecolor\":\"white\",\"ticks\":\"\",\"title\":{\"standoff\":15},\"zerolinecolor\":\"white\",\"automargin\":true,\"zerolinewidth\":2},\"yaxis\":{\"gridcolor\":\"white\",\"linecolor\":\"white\",\"ticks\":\"\",\"title\":{\"standoff\":15},\"zerolinecolor\":\"white\",\"automargin\":true,\"zerolinewidth\":2},\"scene\":{\"xaxis\":{\"backgroundcolor\":\"#E5ECF6\",\"gridcolor\":\"white\",\"linecolor\":\"white\",\"showbackground\":true,\"ticks\":\"\",\"zerolinecolor\":\"white\",\"gridwidth\":2},\"yaxis\":{\"backgroundcolor\":\"#E5ECF6\",\"gridcolor\":\"white\",\"linecolor\":\"white\",\"showbackground\":true,\"ticks\":\"\",\"zerolinecolor\":\"white\",\"gridwidth\":2},\"zaxis\":{\"backgroundcolor\":\"#E5ECF6\",\"gridcolor\":\"white\",\"linecolor\":\"white\",\"showbackground\":true,\"ticks\":\"\",\"zerolinecolor\":\"white\",\"gridwidth\":2}},\"shapedefaults\":{\"line\":{\"color\":\"#2a3f5f\"}},\"annotationdefaults\":{\"arrowcolor\":\"#2a3f5f\",\"arrowhead\":0,\"arrowwidth\":1},\"geo\":{\"bgcolor\":\"white\",\"landcolor\":\"#E5ECF6\",\"subunitcolor\":\"white\",\"showland\":true,\"showlakes\":true,\"lakecolor\":\"white\"},\"title\":{\"x\":0.05},\"mapbox\":{\"style\":\"light\"}}},\"legend\":{\"tracegroupgap\":0},\"title\":{\"text\":\"Top 10 Parties by Seats Won\"}},                        {\"responsive\": true}                    ).then(function(){\n",
       "                            \n",
       "var gd = document.getElementById('9873418d-179b-43ee-900b-2f3a5d413b71');\n",
       "var x = new MutationObserver(function (mutations, observer) {{\n",
       "        var display = window.getComputedStyle(gd).display;\n",
       "        if (!display || display === 'none') {{\n",
       "            console.log([gd, 'removed!']);\n",
       "            Plotly.purge(gd);\n",
       "            observer.disconnect();\n",
       "        }}\n",
       "}});\n",
       "\n",
       "// Listen for the removal of the full notebook cells\n",
       "var notebookContainer = gd.closest('#notebook-container');\n",
       "if (notebookContainer) {{\n",
       "    x.observe(notebookContainer, {childList: true});\n",
       "}}\n",
       "\n",
       "// Listen for the clearing of the current output cell\n",
       "var outputEl = gd.closest('.output');\n",
       "if (outputEl) {{\n",
       "    x.observe(outputEl, {childList: true});\n",
       "}}\n",
       "\n",
       "                        })                };                });            </script>        </div>"
      ]
     },
     "metadata": {},
     "output_type": "display_data"
    }
   ],
   "source": [
    "top_10_parties = df.head(10)\n",
    "fig = px.pie(top_10_parties, names='Party', values='Won', title=\"Top 10 Parties by Seats Won\")\n",
    "fig.show()\n"
   ]
  },
  {
   "cell_type": "code",
   "execution_count": 39,
   "id": "0b590a5d",
   "metadata": {},
   "outputs": [
    {
     "data": {
      "image/png": "[encoded data removed]",
      "text/plain": [
       "<Figure size 1008x504 with 1 Axes>"
      ]
     },
     "metadata": {
      "needs_background": "light"
     },
     "output_type": "display_data"
    }
   ],
   "source": [
    "few_wins_parties = df[df['Won'] < 10]\n",
    "plt.figure(figsize=(14, 7))\n",
    "sns.barplot(x='Won', y='Party', data=few_wins_parties, palette='muted')\n",
    "plt.title('Number of Seats Won by Parties with Fewer Wins')\n",
    "plt.xlabel('Number of Seats')\n",
    "plt.ylabel('Party')\n",
    "plt.show()"
   ]
  },
  {
   "cell_type": "code",
   "execution_count": 68,
   "id": "04c3f1d2",
   "metadata": {},
   "outputs": [
    {
     "data": {
      "image/png": "[encoded data removed]",
      "text/plain": [
       "<Figure size 1008x504 with 1 Axes>"
      ]
     },
     "metadata": {
      "needs_background": "light"
     },
     "output_type": "display_data"
    }
   ],
   "source": [
    "# Box Plot: Distribution of margins by leading party\n",
    "plt.figure(figsize=(14, 7))\n",
    "sns.boxplot(x='Leading Party', y='Margin', data=df)\n",
    "plt.title('Distribution of Margins by Leading Party')\n",
    "plt.xlabel('Leading Party')\n",
    "plt.ylabel('Margin')\n",
    "plt.xticks(rotation=90)\n",
    "plt.show()\n"
   ]
  },
  {
   "cell_type": "code",
   "execution_count": 67,
   "id": "0feb5097",
   "metadata": {},
   "outputs": [
    {
     "data": {
      "image/png": "[encoded data removed]",
      "text/plain": [
       "<Figure size 1008x504 with 1 Axes>"
      ]
     },
     "metadata": {
      "needs_background": "light"
     },
     "output_type": "display_data"
    }
   ],
   "source": [
    "plt.figure(figsize=(14, 7))\n",
    "sns.countplot(y='Leading Party', data=df, order=df['Leading Party'].value_counts().index)\n",
    "plt.title('Distribution of Leading Parties')\n",
    "plt.xlabel('Count')\n",
    "plt.ylabel('Leading Party')\n",
    "plt.show()"
   ]
  },
  {
   "cell_type": "code",
   "execution_count": 36,
   "id": "4f6bd69e",
   "metadata": {},
   "outputs": [
    {
     "data": {
      "text/plain": [
       "<bound method DataFrame.info of                                                 Party  Won\n",
       "0                        Bharatiya Janata Party - BJP  240\n",
       "1                      Indian National Congress - INC   99\n",
       "2                                Samajwadi Party - SP   37\n",
       "3                 All India Trinamool Congress - AITC   29\n",
       "4                     Dravida Munnetra Kazhagam - DMK   22\n",
       "5                                  Telugu Desam - TDP   16\n",
       "6                         Janata Dal (United) - JD(U)   12\n",
       "7      Shiv Sena (Uddhav Balasaheb Thackrey) - SHSUBT    9\n",
       "8   Nationalist Congress Party – Sharadchandra Paw...    8\n",
       "9                                     Shiv Sena - SHS    7\n",
       "10             Lok Janshakti Party(Ram Vilas) - LJPRV    5\n",
       "11      Yuvajana Sramika Rythu Congress Party - YSRCP    4\n",
       "12                         Rashtriya Janata Dal - RJD    4\n",
       "13        Communist Party of India (Marxist) - CPI(M)    4\n",
       "14                  Indian Union Muslim League - IUML    3\n",
       "15                             Aam Aadmi Party - AAAP    3\n",
       "16                       Jharkhand Mukti Morcha - JMM    3\n",
       "17                               Janasena Party - JnP    2\n",
       "18  Communist Party of India (Marxist-Leninist) (L...    2\n",
       "19                       Janata Dal (Secular) - JD(S)    2\n",
       "20               Viduthalai Chiruthaigal Katchi - VCK    2\n",
       "21                     Communist Party of India - CPI    2\n",
       "22                            Rashtriya Lok Dal - RLD    2\n",
       "23          Jammu & Kashmir National Conference - JKN    2\n",
       "24              United People’s Party, Liberal - UPPL    1\n",
       "25                           Asom Gana Parishad - AGP    1\n",
       "26            Hindustani Awam Morcha (Secular) - HAMS    1\n",
       "27                              Kerala Congress - KEC    1\n",
       "28                Revolutionary Socialist Party - RSP    1\n",
       "29                   Nationalist Congress Party - NCP    1\n",
       "30                  Voice of the People Party - VOTPP    1\n",
       "31                      Zoram People’s Movement - ZPM    1\n",
       "32                          Shiromani Akali Dal - SAD    1\n",
       "33                  Rashtriya Loktantrik Party - RLTP    1\n",
       "34                  Bharat Adivasi Party - BHRTADVSIP    1\n",
       "35                     Sikkim Krantikari Morcha - SKM    1\n",
       "36      Marumalarchi Dravida Munnetra Kazhagam - MDMK    1\n",
       "37             Aazad Samaj Party (Kanshi Ram) - ASPKR    1\n",
       "38                         Apna Dal (Soneylal) - ADAL    1\n",
       "39                                 AJSU Party - AJSUP    1\n",
       "40     All India Majlis-E-Ittehadul Muslimeen - AIMIM    1\n",
       "41                                  Independent - IND    7>"
      ]
     },
     "execution_count": 36,
     "metadata": {},
     "output_type": "execute_result"
    }
   ],
   "source": [
    "df.info"
   ]
  },
  {
   "cell_type": "code",
   "execution_count": 60,
   "id": "bcd6e33b",
   "metadata": {},
   "outputs": [
    {
     "data": {
      "text/plain": [
       "<bound method DataFrame.info of                  Constituency Const. No.          Leading Candidate  \\\n",
       "0   Andaman & Nicobar Islands          1            BISHNU PADA RAY   \n",
       "1                  Chandigarh          1              MANISH TEWARI   \n",
       "2        Dadar & Nagar Haveli          2   DELKAR KALABEN MOHANBHAI   \n",
       "3                 Daman & Diu          1   PATEL UMESHBHAI BABUBHAI   \n",
       "4               Chandni Chowk          1         PRAVEEN KHANDELWAL   \n",
       "5                  East Delhi          3             HARSH MALHOTRA   \n",
       "6                   New Delhi          4             BANSURI SWARAJ   \n",
       "7            North-East Delhi          2               MANOJ TIWARI   \n",
       "8            North-West Delhi          5        YOGENDER CHANDOLIYA   \n",
       "9                 South Delhi          7       RAMVIR SINGH BIDHURI   \n",
       "10                 West Delhi          6         KAMALJEET SEHRAWAT   \n",
       "11                Lakshadweep          1  MUHAMMED HAMDULLAH SAYEED   \n",
       "12                 PUDUCHERRY          1            VE VAITHILINGAM   \n",
       "13           ANANTNAG-RAJOURI          3           MIAN ALTAF AHMAD   \n",
       "14                  BARAMULLA          1        ABDUL RASHID SHEIKH   \n",
       "15                      JAMMU          5              JUGAL KISHORE   \n",
       "16                   SRINAGAR          2    AGA SYED RUHULLAH MEHDI   \n",
       "17                   UDHAMPUR          4          DR JITENDRA SINGH   \n",
       "18                     Ladakh          1             MOHMAD HANEEFA   \n",
       "\n",
       "                          Leading Party       Trailing Candidate  \\\n",
       "0                Bharatiya Janata Party       KULDEEP RAI SHARMA   \n",
       "1              Indian National Congress            SANJAY TANDON   \n",
       "2                Bharatiya Janata Party    AJIT RAMJIBHAI MAHALA   \n",
       "3                           Independent  LALUBHAI BABUBHAI PATEL   \n",
       "4                Bharatiya Janata Party      JAI PRAKASH AGARWAL   \n",
       "5                Bharatiya Janata Party     KULDEEP KUMAR (MONU)   \n",
       "6                Bharatiya Janata Party           SOMNATH BHARTI   \n",
       "7                Bharatiya Janata Party           KANHAIYA KUMAR   \n",
       "8                Bharatiya Janata Party                 UDIT RAJ   \n",
       "9                Bharatiya Janata Party                 SAHI RAM   \n",
       "10               Bharatiya Janata Party           MAHABAL MISHRA   \n",
       "11             Indian National Congress       MOHAMMED FAIZAL PP   \n",
       "12             Indian National Congress           A NAMASSIVAYAM   \n",
       "13  Jammu & Kashmir National Conference           MEHBOOBA MUFTI   \n",
       "14                          Independent            OMAR ABDULLAH   \n",
       "15               Bharatiya Janata Party             RAMAN BHALLA   \n",
       "16  Jammu & Kashmir National Conference    WAHEED UR REHMAN PARA   \n",
       "17               Bharatiya Janata Party             CH LAL SINGH   \n",
       "18                          Independent          TSERING NAMGYAL   \n",
       "\n",
       "                                      Trailing Party  Margin  \n",
       "0                           Indian National Congress   24396  \n",
       "1                             Bharatiya Janata Party    2504  \n",
       "2                           Indian National Congress   57584  \n",
       "3                             Bharatiya Janata Party    6225  \n",
       "4                           Indian National Congress   89325  \n",
       "5                                    Aam Aadmi Party   93663  \n",
       "6                                    Aam Aadmi Party   78370  \n",
       "7                           Indian National Congress  138778  \n",
       "8                           Indian National Congress  290849  \n",
       "9                                    Aam Aadmi Party  124333  \n",
       "10                                   Aam Aadmi Party  199013  \n",
       "11  Nationalist Congress Party – Sharadchandra Pawar    2647  \n",
       "12                            Bharatiya Janata Party  136516  \n",
       "13          Jammu & Kashmir Peoples Democratic Party  281794  \n",
       "14               Jammu & Kashmir National Conference  204142  \n",
       "15                          Indian National Congress  135498  \n",
       "16          Jammu & Kashmir Peoples Democratic Party  188416  \n",
       "17                          Indian National Congress  124373  \n",
       "18                          Indian National Congress   27862  >"
      ]
     },
     "execution_count": 60,
     "metadata": {},
     "output_type": "execute_result"
    }
   ],
   "source": [
    "df.info"
   ]
  },
  {
   "cell_type": "code",
   "execution_count": 61,
   "id": "b0eac321",
   "metadata": {},
   "outputs": [
    {
     "data": {
      "text/html": [
       "<div>\n",
       "<style scoped>\n",
       "    .dataframe tbody tr th:only-of-type {\n",
       "        vertical-align: middle;\n",
       "    }\n",
       "\n",
       "    .dataframe tbody tr th {\n",
       "        vertical-align: top;\n",
       "    }\n",
       "\n",
       "    .dataframe thead th {\n",
       "        text-align: right;\n",
       "    }\n",
       "</style>\n",
       "<table border=\"1\" class=\"dataframe\">\n",
       "  <thead>\n",
       "    <tr style=\"text-align: right;\">\n",
       "      <th></th>\n",
       "      <th>Constituency</th>\n",
       "      <th>Const. No.</th>\n",
       "      <th>Leading Candidate</th>\n",
       "      <th>Leading Party</th>\n",
       "      <th>Trailing Candidate</th>\n",
       "      <th>Trailing Party</th>\n",
       "      <th>Margin</th>\n",
       "    </tr>\n",
       "  </thead>\n",
       "  <tbody>\n",
       "    <tr>\n",
       "      <th>0</th>\n",
       "      <td>Andaman &amp; Nicobar Islands</td>\n",
       "      <td>1</td>\n",
       "      <td>BISHNU PADA RAY</td>\n",
       "      <td>Bharatiya Janata Party</td>\n",
       "      <td>KULDEEP RAI SHARMA</td>\n",
       "      <td>Indian National Congress</td>\n",
       "      <td>24396</td>\n",
       "    </tr>\n",
       "    <tr>\n",
       "      <th>1</th>\n",
       "      <td>Chandigarh</td>\n",
       "      <td>1</td>\n",
       "      <td>MANISH TEWARI</td>\n",
       "      <td>Indian National Congress</td>\n",
       "      <td>SANJAY TANDON</td>\n",
       "      <td>Bharatiya Janata Party</td>\n",
       "      <td>2504</td>\n",
       "    </tr>\n",
       "    <tr>\n",
       "      <th>2</th>\n",
       "      <td>Dadar &amp; Nagar Haveli</td>\n",
       "      <td>2</td>\n",
       "      <td>DELKAR KALABEN MOHANBHAI</td>\n",
       "      <td>Bharatiya Janata Party</td>\n",
       "      <td>AJIT RAMJIBHAI MAHALA</td>\n",
       "      <td>Indian National Congress</td>\n",
       "      <td>57584</td>\n",
       "    </tr>\n",
       "    <tr>\n",
       "      <th>3</th>\n",
       "      <td>Daman &amp; Diu</td>\n",
       "      <td>1</td>\n",
       "      <td>PATEL UMESHBHAI BABUBHAI</td>\n",
       "      <td>Independent</td>\n",
       "      <td>LALUBHAI BABUBHAI PATEL</td>\n",
       "      <td>Bharatiya Janata Party</td>\n",
       "      <td>6225</td>\n",
       "    </tr>\n",
       "    <tr>\n",
       "      <th>4</th>\n",
       "      <td>Chandni Chowk</td>\n",
       "      <td>1</td>\n",
       "      <td>PRAVEEN KHANDELWAL</td>\n",
       "      <td>Bharatiya Janata Party</td>\n",
       "      <td>JAI PRAKASH AGARWAL</td>\n",
       "      <td>Indian National Congress</td>\n",
       "      <td>89325</td>\n",
       "    </tr>\n",
       "    <tr>\n",
       "      <th>5</th>\n",
       "      <td>East Delhi</td>\n",
       "      <td>3</td>\n",
       "      <td>HARSH MALHOTRA</td>\n",
       "      <td>Bharatiya Janata Party</td>\n",
       "      <td>KULDEEP KUMAR (MONU)</td>\n",
       "      <td>Aam Aadmi Party</td>\n",
       "      <td>93663</td>\n",
       "    </tr>\n",
       "    <tr>\n",
       "      <th>6</th>\n",
       "      <td>New Delhi</td>\n",
       "      <td>4</td>\n",
       "      <td>BANSURI SWARAJ</td>\n",
       "      <td>Bharatiya Janata Party</td>\n",
       "      <td>SOMNATH BHARTI</td>\n",
       "      <td>Aam Aadmi Party</td>\n",
       "      <td>78370</td>\n",
       "    </tr>\n",
       "    <tr>\n",
       "      <th>7</th>\n",
       "      <td>North-East Delhi</td>\n",
       "      <td>2</td>\n",
       "      <td>MANOJ TIWARI</td>\n",
       "      <td>Bharatiya Janata Party</td>\n",
       "      <td>KANHAIYA KUMAR</td>\n",
       "      <td>Indian National Congress</td>\n",
       "      <td>138778</td>\n",
       "    </tr>\n",
       "    <tr>\n",
       "      <th>8</th>\n",
       "      <td>North-West Delhi</td>\n",
       "      <td>5</td>\n",
       "      <td>YOGENDER CHANDOLIYA</td>\n",
       "      <td>Bharatiya Janata Party</td>\n",
       "      <td>UDIT RAJ</td>\n",
       "      <td>Indian National Congress</td>\n",
       "      <td>290849</td>\n",
       "    </tr>\n",
       "    <tr>\n",
       "      <th>9</th>\n",
       "      <td>South Delhi</td>\n",
       "      <td>7</td>\n",
       "      <td>RAMVIR SINGH BIDHURI</td>\n",
       "      <td>Bharatiya Janata Party</td>\n",
       "      <td>SAHI RAM</td>\n",
       "      <td>Aam Aadmi Party</td>\n",
       "      <td>124333</td>\n",
       "    </tr>\n",
       "    <tr>\n",
       "      <th>10</th>\n",
       "      <td>West Delhi</td>\n",
       "      <td>6</td>\n",
       "      <td>KAMALJEET SEHRAWAT</td>\n",
       "      <td>Bharatiya Janata Party</td>\n",
       "      <td>MAHABAL MISHRA</td>\n",
       "      <td>Aam Aadmi Party</td>\n",
       "      <td>199013</td>\n",
       "    </tr>\n",
       "    <tr>\n",
       "      <th>11</th>\n",
       "      <td>Lakshadweep</td>\n",
       "      <td>1</td>\n",
       "      <td>MUHAMMED HAMDULLAH SAYEED</td>\n",
       "      <td>Indian National Congress</td>\n",
       "      <td>MOHAMMED FAIZAL PP</td>\n",
       "      <td>Nationalist Congress Party – Sharadchandra Pawar</td>\n",
       "      <td>2647</td>\n",
       "    </tr>\n",
       "    <tr>\n",
       "      <th>12</th>\n",
       "      <td>PUDUCHERRY</td>\n",
       "      <td>1</td>\n",
       "      <td>VE VAITHILINGAM</td>\n",
       "      <td>Indian National Congress</td>\n",
       "      <td>A NAMASSIVAYAM</td>\n",
       "      <td>Bharatiya Janata Party</td>\n",
       "      <td>136516</td>\n",
       "    </tr>\n",
       "    <tr>\n",
       "      <th>13</th>\n",
       "      <td>ANANTNAG-RAJOURI</td>\n",
       "      <td>3</td>\n",
       "      <td>MIAN ALTAF AHMAD</td>\n",
       "      <td>Jammu &amp; Kashmir National Conference</td>\n",
       "      <td>MEHBOOBA MUFTI</td>\n",
       "      <td>Jammu &amp; Kashmir Peoples Democratic Party</td>\n",
       "      <td>281794</td>\n",
       "    </tr>\n",
       "    <tr>\n",
       "      <th>14</th>\n",
       "      <td>BARAMULLA</td>\n",
       "      <td>1</td>\n",
       "      <td>ABDUL RASHID SHEIKH</td>\n",
       "      <td>Independent</td>\n",
       "      <td>OMAR ABDULLAH</td>\n",
       "      <td>Jammu &amp; Kashmir National Conference</td>\n",
       "      <td>204142</td>\n",
       "    </tr>\n",
       "    <tr>\n",
       "      <th>15</th>\n",
       "      <td>JAMMU</td>\n",
       "      <td>5</td>\n",
       "      <td>JUGAL KISHORE</td>\n",
       "      <td>Bharatiya Janata Party</td>\n",
       "      <td>RAMAN BHALLA</td>\n",
       "      <td>Indian National Congress</td>\n",
       "      <td>135498</td>\n",
       "    </tr>\n",
       "    <tr>\n",
       "      <th>16</th>\n",
       "      <td>SRINAGAR</td>\n",
       "      <td>2</td>\n",
       "      <td>AGA SYED RUHULLAH MEHDI</td>\n",
       "      <td>Jammu &amp; Kashmir National Conference</td>\n",
       "      <td>WAHEED UR REHMAN PARA</td>\n",
       "      <td>Jammu &amp; Kashmir Peoples Democratic Party</td>\n",
       "      <td>188416</td>\n",
       "    </tr>\n",
       "    <tr>\n",
       "      <th>17</th>\n",
       "      <td>UDHAMPUR</td>\n",
       "      <td>4</td>\n",
       "      <td>DR JITENDRA SINGH</td>\n",
       "      <td>Bharatiya Janata Party</td>\n",
       "      <td>CH LAL SINGH</td>\n",
       "      <td>Indian National Congress</td>\n",
       "      <td>124373</td>\n",
       "    </tr>\n",
       "    <tr>\n",
       "      <th>18</th>\n",
       "      <td>Ladakh</td>\n",
       "      <td>1</td>\n",
       "      <td>MOHMAD HANEEFA</td>\n",
       "      <td>Independent</td>\n",
       "      <td>TSERING NAMGYAL</td>\n",
       "      <td>Indian National Congress</td>\n",
       "      <td>27862</td>\n",
       "    </tr>\n",
       "  </tbody>\n",
       "</table>\n",
       "</div>"
      ],
      "text/plain": [
       "                 Constituency Const. No.          Leading Candidate  \\\n",
       "0   Andaman & Nicobar Islands          1            BISHNU PADA RAY   \n",
       "1                  Chandigarh          1              MANISH TEWARI   \n",
       "2        Dadar & Nagar Haveli          2   DELKAR KALABEN MOHANBHAI   \n",
       "3                 Daman & Diu          1   PATEL UMESHBHAI BABUBHAI   \n",
       "4               Chandni Chowk          1         PRAVEEN KHANDELWAL   \n",
       "5                  East Delhi          3             HARSH MALHOTRA   \n",
       "6                   New Delhi          4             BANSURI SWARAJ   \n",
       "7            North-East Delhi          2               MANOJ TIWARI   \n",
       "8            North-West Delhi          5        YOGENDER CHANDOLIYA   \n",
       "9                 South Delhi          7       RAMVIR SINGH BIDHURI   \n",
       "10                 West Delhi          6         KAMALJEET SEHRAWAT   \n",
       "11                Lakshadweep          1  MUHAMMED HAMDULLAH SAYEED   \n",
       "12                 PUDUCHERRY          1            VE VAITHILINGAM   \n",
       "13           ANANTNAG-RAJOURI          3           MIAN ALTAF AHMAD   \n",
       "14                  BARAMULLA          1        ABDUL RASHID SHEIKH   \n",
       "15                      JAMMU          5              JUGAL KISHORE   \n",
       "16                   SRINAGAR          2    AGA SYED RUHULLAH MEHDI   \n",
       "17                   UDHAMPUR          4          DR JITENDRA SINGH   \n",
       "18                     Ladakh          1             MOHMAD HANEEFA   \n",
       "\n",
       "                          Leading Party       Trailing Candidate  \\\n",
       "0                Bharatiya Janata Party       KULDEEP RAI SHARMA   \n",
       "1              Indian National Congress            SANJAY TANDON   \n",
       "2                Bharatiya Janata Party    AJIT RAMJIBHAI MAHALA   \n",
       "3                           Independent  LALUBHAI BABUBHAI PATEL   \n",
       "4                Bharatiya Janata Party      JAI PRAKASH AGARWAL   \n",
       "5                Bharatiya Janata Party     KULDEEP KUMAR (MONU)   \n",
       "6                Bharatiya Janata Party           SOMNATH BHARTI   \n",
       "7                Bharatiya Janata Party           KANHAIYA KUMAR   \n",
       "8                Bharatiya Janata Party                 UDIT RAJ   \n",
       "9                Bharatiya Janata Party                 SAHI RAM   \n",
       "10               Bharatiya Janata Party           MAHABAL MISHRA   \n",
       "11             Indian National Congress       MOHAMMED FAIZAL PP   \n",
       "12             Indian National Congress           A NAMASSIVAYAM   \n",
       "13  Jammu & Kashmir National Conference           MEHBOOBA MUFTI   \n",
       "14                          Independent            OMAR ABDULLAH   \n",
       "15               Bharatiya Janata Party             RAMAN BHALLA   \n",
       "16  Jammu & Kashmir National Conference    WAHEED UR REHMAN PARA   \n",
       "17               Bharatiya Janata Party             CH LAL SINGH   \n",
       "18                          Independent          TSERING NAMGYAL   \n",
       "\n",
       "                                      Trailing Party  Margin  \n",
       "0                           Indian National Congress   24396  \n",
       "1                             Bharatiya Janata Party    2504  \n",
       "2                           Indian National Congress   57584  \n",
       "3                             Bharatiya Janata Party    6225  \n",
       "4                           Indian National Congress   89325  \n",
       "5                                    Aam Aadmi Party   93663  \n",
       "6                                    Aam Aadmi Party   78370  \n",
       "7                           Indian National Congress  138778  \n",
       "8                           Indian National Congress  290849  \n",
       "9                                    Aam Aadmi Party  124333  \n",
       "10                                   Aam Aadmi Party  199013  \n",
       "11  Nationalist Congress Party – Sharadchandra Pawar    2647  \n",
       "12                            Bharatiya Janata Party  136516  \n",
       "13          Jammu & Kashmir Peoples Democratic Party  281794  \n",
       "14               Jammu & Kashmir National Conference  204142  \n",
       "15                          Indian National Congress  135498  \n",
       "16          Jammu & Kashmir Peoples Democratic Party  188416  \n",
       "17                          Indian National Congress  124373  \n",
       "18                          Indian National Congress   27862  "
      ]
     },
     "execution_count": 61,
     "metadata": {},
     "output_type": "execute_result"
    }
   ],
   "source": [
    "df"
   ]
  },
  {
   "cell_type": "code",
   "execution_count": 65,
   "id": "2ba00e38",
   "metadata": {},
   "outputs": [
    {
     "data": {
      "image/png": "[encoded data removed]",
      "text/plain": [
       "<Figure size 1008x504 with 1 Axes>"
      ]
     },
     "metadata": {
      "needs_background": "light"
     },
     "output_type": "display_data"
    },
    {
     "data": {
      "image/png": "[encoded data removed]",
      "text/plain": [
       "<Figure size 1008x504 with 1 Axes>"
      ]
     },
     "metadata": {
      "needs_background": "light"
     },
     "output_type": "display_data"
    }
   ],
   "source": [
    "# Stacked Bar Chart: Leading vs. Trailing parties for each constituency\n",
    "leading_parties = df['Leading Party'].value_counts().reset_index()\n",
    "leading_parties.columns = ['Party', 'Seats']\n",
    "trailing_parties = df['Trailing Party'].value_counts().reset_index()\n",
    "trailing_parties.columns = ['Party', 'Seats']\n",
    "\n",
    "# Merging leading and trailing party data\n",
    "combined_parties = pd.merge(leading_parties, trailing_parties, on='Party', how='outer').fillna(0)\n",
    "combined_parties.columns = ['Party', 'Leading Seats', 'Trailing Seats']\n",
    "combined_parties = combined_parties.sort_values(by='Leading Seats', ascending=False)\n",
    "\n",
    "# Plotting the stacked bar chart\n",
    "combined_parties.set_index('Party').plot(kind='bar', stacked=True, figsize=(14, 7))\n",
    "plt.title('Leading vs. Trailing Parties for Each Constituency')\n",
    "plt.xlabel('Party')\n",
    "plt.ylabel('Number of Seats')\n",
    "plt.show()\n",
    "\n",
    "# Scatter Plot: Relationship between leading and trailing parties' margins\n",
    "plt.figure(figsize=(14, 7))\n",
    "sns.scatterplot(data=df, x='Leading Candidate', y='Margin', hue='Leading Party', palette='viridis', s=100)\n",
    "plt.title('Margins of Leading Candidates by Party')\n",
    "plt.xlabel('Leading Candidate')\n",
    "plt.ylabel('Margin')\n",
    "plt.xticks(rotation=90)\n",
    "plt.legend(title='Leading Party')\n",
    "plt.show()"
   ]
  },
  {
   "cell_type": "code",
   "execution_count": 70,
   "id": "d41ad555",
   "metadata": {},
   "outputs": [
    {
     "data": {
      "image/png": "[encoded data removed]",
      "text/plain": [
       "<Figure size 1008x504 with 1 Axes>"
      ]
     },
     "metadata": {
      "needs_background": "light"
     },
     "output_type": "display_data"
    }
   ],
   "source": [
    "\n",
    "# Sort dataframe by 'Const. No.'\n",
    "df_sorted = df.sort_values(by='Const. No.')\n",
    "\n",
    "# Line Plot: Margin trend over constituencies\n",
    "plt.figure(figsize=(14, 7))\n",
    "plt.plot(df_sorted['Const. No.'], df_sorted['Margin'], marker='o', linestyle='-')\n",
    "plt.title('Trend of Margins Over Constituencies')\n",
    "plt.xlabel('Constituency Number')\n",
    "plt.ylabel('Margin')\n",
    "plt.xticks(rotation=90)\n",
    "plt.grid(True)\n",
    "plt.show()"
   ]
  },
  {
   "cell_type": "code",
   "execution_count": null,
   "id": "de3dbe55",
   "metadata": {},
   "outputs": [],
   "source": []
  }
 ],
 "metadata": {
  "kernelspec": {
   "display_name": "Python 3 (ipykernel)",
   "language": "python",
   "name": "python3"
  },
  "language_info": {
   "codemirror_mode": {
    "name": "ipython",
    "version": 3
   },
   "file_extension": ".py",
   "mimetype": "text/x-python",
   "name": "python",
   "nbconvert_exporter": "python",
   "pygments_lexer": "ipython3",
   "version": "3.9.7"
  }
 },
 "nbformat": 4,
 "nbformat_minor": 5
}
